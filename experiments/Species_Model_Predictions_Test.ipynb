{
  "nbformat": 4,
  "nbformat_minor": 0,
  "metadata": {
    "colab": {
      "name": "Species Model Predictions Test.ipynb",
      "provenance": [],
      "collapsed_sections": [],
      "toc_visible": true
    },
    "kernelspec": {
      "name": "python3",
      "display_name": "Python 3"
    },
    "accelerator": "GPU"
  },
  "cells": [
    {
      "cell_type": "code",
      "metadata": {
        "id": "8rrR1sAZnPS0",
        "colab": {
          "base_uri": "https://localhost:8080/",
          "height": 50
        },
        "outputId": "8f431071-01e1-41ba-e0dc-d97c697b4d9a"
      },
      "source": [
        "!python xcdl.py \"Dove\""
      ],
      "execution_count": null,
      "outputs": [
        {
          "output_type": "stream",
          "text": [
            "Creating subdirectory \"sounds\" for downloaded files...\n",
            "A total of 30 files will be downloaded.\n"
          ],
          "name": "stdout"
        }
      ]
    },
    {
      "cell_type": "code",
      "metadata": {
        "id": "eg-SQVChplHB",
        "colab": {
          "base_uri": "https://localhost:8080/",
          "height": 50
        },
        "outputId": "0a3a1dcf-1ae4-49b9-a468-f05889773397"
      },
      "source": [
        "!python xcdl.py \"Owl\""
      ],
      "execution_count": null,
      "outputs": [
        {
          "output_type": "stream",
          "text": [
            "Creating subdirectory \"sounds\" for downloaded files...\n",
            "A total of 30 files will be downloaded.\n"
          ],
          "name": "stdout"
        }
      ]
    },
    {
      "cell_type": "code",
      "metadata": {
        "id": "FrLqZ-dLmu_a"
      },
      "source": [
        "!rm -rf koel"
      ],
      "execution_count": null,
      "outputs": []
    },
    {
      "cell_type": "code",
      "metadata": {
        "id": "Wk08vt6Qpnao",
        "colab": {
          "base_uri": "https://localhost:8080/",
          "height": 50
        },
        "outputId": "be4772cc-7dc2-44b9-a0c6-d71c066eee0b"
      },
      "source": [
        "!python xcdl.py \"Asian%20Koel\""
      ],
      "execution_count": null,
      "outputs": [
        {
          "output_type": "stream",
          "text": [
            "Creating subdirectory \"sounds\" for downloaded files...\n",
            "A total of 30 files will be downloaded.\n"
          ],
          "name": "stdout"
        }
      ]
    },
    {
      "cell_type": "code",
      "metadata": {
        "id": "UzlyWiRmVOkT",
        "colab": {
          "base_uri": "https://localhost:8080/",
          "height": 67
        },
        "outputId": "0c2c089f-58ed-4adc-d5a9-b7ac1f7d157f"
      },
      "source": [
        "!ls dove/ | wc -l\n",
        "!ls owl/ | wc -l\n",
        "!ls koel/ | wc -l"
      ],
      "execution_count": null,
      "outputs": [
        {
          "output_type": "stream",
          "text": [
            "30\n",
            "30\n",
            "30\n"
          ],
          "name": "stdout"
        }
      ]
    },
    {
      "cell_type": "code",
      "metadata": {
        "id": "7B_PYgHAVXOe",
        "colab": {
          "base_uri": "https://localhost:8080/",
          "height": 104
        },
        "outputId": "a0618629-1db9-4018-b9ec-cc8a226825d9"
      },
      "source": [
        "!pip install pydub\n",
        "from os import path\n",
        "from pydub import AudioSegment"
      ],
      "execution_count": null,
      "outputs": [
        {
          "output_type": "stream",
          "text": [
            "Collecting pydub\n",
            "  Downloading https://files.pythonhosted.org/packages/7b/d1/fbfa79371a8cd9bb15c2e3c480d7e6e340ed5cc55005174e16f48418333a/pydub-0.24.1-py2.py3-none-any.whl\n",
            "Installing collected packages: pydub\n",
            "Successfully installed pydub-0.24.1\n"
          ],
          "name": "stdout"
        }
      ]
    },
    {
      "cell_type": "code",
      "metadata": {
        "id": "vUMi4G1cqFBp"
      },
      "source": [
        "import os"
      ],
      "execution_count": null,
      "outputs": []
    },
    {
      "cell_type": "code",
      "metadata": {
        "id": "77sdqZsFVZ1f"
      },
      "source": [
        "path='dove/'\n",
        "for r,d,f in os.walk(path):\n",
        "  for file in f:\n",
        "    file_name=file.split('.')\n",
        "    src = r+file\n",
        "    dst = r+file_name[0]+\".wav\"                                                       \n",
        "    sound = AudioSegment.from_mp3(src)\n",
        "    sound.export(dst, format=\"wav\")\n",
        "    os.remove(r+file)"
      ],
      "execution_count": null,
      "outputs": []
    },
    {
      "cell_type": "code",
      "metadata": {
        "id": "B-KvKwJVp8fy"
      },
      "source": [
        "path='owl/'\n",
        "for r,d,f in os.walk(path):\n",
        "  for file in f:\n",
        "    file_name=file.split('.')\n",
        "    src = r+file\n",
        "    dst = r+file_name[0]+\".wav\"                                                       \n",
        "    sound = AudioSegment.from_mp3(src)\n",
        "    sound.export(dst, format=\"wav\")\n",
        "    os.remove(r+file)"
      ],
      "execution_count": null,
      "outputs": []
    },
    {
      "cell_type": "code",
      "metadata": {
        "id": "kVLWtm2lp8v0"
      },
      "source": [
        "path='koel/'\n",
        "for r,d,f in os.walk(path):\n",
        "  for file in f:\n",
        "    file_name=file.split('.')\n",
        "    src = r+file\n",
        "    dst = r+file_name[0]+\".wav\"                                                       \n",
        "    sound = AudioSegment.from_mp3(src)\n",
        "    sound.export(dst, format=\"wav\")\n",
        "    os.remove(r+file)"
      ],
      "execution_count": null,
      "outputs": []
    },
    {
      "cell_type": "code",
      "metadata": {
        "id": "ZrTyjsVwqBOh",
        "colab": {
          "base_uri": "https://localhost:8080/",
          "height": 67
        },
        "outputId": "bcd1ad9e-7e7a-4356-e3bf-ff12286cbb3f"
      },
      "source": [
        "!ls dove/*.wav | wc -l\n",
        "!ls owl/*.wav  | wc -l\n",
        "!ls koel/*.wav | wc -l"
      ],
      "execution_count": null,
      "outputs": [
        {
          "output_type": "stream",
          "text": [
            "30\n",
            "30\n",
            "30\n"
          ],
          "name": "stdout"
        }
      ]
    },
    {
      "cell_type": "code",
      "metadata": {
        "id": "Nipt-zpDrRdH",
        "colab": {
          "base_uri": "https://localhost:8080/",
          "height": 188
        },
        "outputId": "c6e62364-72ec-4929-eb1f-db5990e24977"
      },
      "source": [
        "!pip install python_speech_features "
      ],
      "execution_count": null,
      "outputs": [
        {
          "output_type": "stream",
          "text": [
            "Collecting python_speech_features\n",
            "  Downloading https://files.pythonhosted.org/packages/ff/d1/94c59e20a2631985fbd2124c45177abaa9e0a4eee8ba8a305aa26fc02a8e/python_speech_features-0.6.tar.gz\n",
            "Building wheels for collected packages: python-speech-features\n",
            "  Building wheel for python-speech-features (setup.py) ... \u001b[?25l\u001b[?25hdone\n",
            "  Created wheel for python-speech-features: filename=python_speech_features-0.6-cp36-none-any.whl size=5887 sha256=ff0be8571899eeae78f91179a2a50054a6edea6f63c042acc32d6c3b9e6ae359\n",
            "  Stored in directory: /root/.cache/pip/wheels/3c/42/7c/f60e9d1b40015cd69b213ad90f7c18a9264cd745b9888134be\n",
            "Successfully built python-speech-features\n",
            "Installing collected packages: python-speech-features\n",
            "Successfully installed python-speech-features-0.6\n"
          ],
          "name": "stdout"
        }
      ]
    },
    {
      "cell_type": "code",
      "metadata": {
        "id": "hOLejEouVewA"
      },
      "source": [
        "import pandas as pd\n",
        "import os\n",
        "from tqdm import tqdm\n",
        "import numpy as np\n",
        "import matplotlib.pyplot as plt\n",
        "from scipy.io import wavfile\n",
        "from python_speech_features import mfcc\n",
        "import librosa\n",
        "import keras"
      ],
      "execution_count": null,
      "outputs": []
    },
    {
      "cell_type": "code",
      "metadata": {
        "id": "RfV_-tpvVhvI"
      },
      "source": [
        "import os\n",
        "i=0\n",
        "f_name=[]\n",
        "label=[]\n",
        "path='/content/dove/'\n",
        "for r,d,f in os.walk(path):\n",
        "  for file in f:\n",
        "    f_name.append(file)\n",
        "    label.append('dove')\n",
        "    \n",
        "path='/content/owl/'\n",
        "for r,d,f in os.walk(path):\n",
        "  for file in f:\n",
        "    f_name.append(file)\n",
        "    label.append('owl')\n",
        "\n",
        "path='/content/koel/'\n",
        "for r,d,f in os.walk(path):\n",
        "  for file in f:\n",
        "    f_name.append(file)\n",
        "    label.append('koel')    "
      ],
      "execution_count": null,
      "outputs": []
    },
    {
      "cell_type": "code",
      "metadata": {
        "id": "d7XgGBwCVhyI"
      },
      "source": [
        "df= pd.DataFrame(list(zip(f_name,label)), \n",
        "               columns =['fname','label']) "
      ],
      "execution_count": null,
      "outputs": []
    },
    {
      "cell_type": "code",
      "metadata": {
        "id": "1fg73FQAVqM1",
        "colab": {
          "base_uri": "https://localhost:8080/",
          "height": 402
        },
        "outputId": "3eb32232-5225-42e2-e0a8-d5575d638e11"
      },
      "source": [
        "df"
      ],
      "execution_count": null,
      "outputs": [
        {
          "output_type": "execute_result",
          "data": {
            "text/html": [
              "<div>\n",
              "<style scoped>\n",
              "    .dataframe tbody tr th:only-of-type {\n",
              "        vertical-align: middle;\n",
              "    }\n",
              "\n",
              "    .dataframe tbody tr th {\n",
              "        vertical-align: top;\n",
              "    }\n",
              "\n",
              "    .dataframe thead th {\n",
              "        text-align: right;\n",
              "    }\n",
              "</style>\n",
              "<table border=\"1\" class=\"dataframe\">\n",
              "  <thead>\n",
              "    <tr style=\"text-align: right;\">\n",
              "      <th></th>\n",
              "      <th>fname</th>\n",
              "      <th>label</th>\n",
              "    </tr>\n",
              "  </thead>\n",
              "  <tbody>\n",
              "    <tr>\n",
              "      <th>0</th>\n",
              "      <td>425899_XC425899-skogdue-0528_120113.wav</td>\n",
              "      <td>dove</td>\n",
              "    </tr>\n",
              "    <tr>\n",
              "      <th>1</th>\n",
              "      <td>452836_XC452836-Stock%20Dove_20150516_090205_p...</td>\n",
              "      <td>dove</td>\n",
              "    </tr>\n",
              "    <tr>\n",
              "      <th>2</th>\n",
              "      <td>477304_XC477304-ZOOM0014.wav</td>\n",
              "      <td>dove</td>\n",
              "    </tr>\n",
              "    <tr>\n",
              "      <th>3</th>\n",
              "      <td>234396_XC234396-Default%20Project.wav</td>\n",
              "      <td>dove</td>\n",
              "    </tr>\n",
              "    <tr>\n",
              "      <th>4</th>\n",
              "      <td>319985_XC319985-hohl0610.wav</td>\n",
              "      <td>dove</td>\n",
              "    </tr>\n",
              "    <tr>\n",
              "      <th>...</th>\n",
              "      <td>...</td>\n",
              "      <td>...</td>\n",
              "    </tr>\n",
              "    <tr>\n",
              "      <th>85</th>\n",
              "      <td>316778_XC316778-CBRC%E9%B8%9F%E9%B8%A32.wav</td>\n",
              "      <td>koel</td>\n",
              "    </tr>\n",
              "    <tr>\n",
              "      <th>86</th>\n",
              "      <td>339652_XC339652-DaRec_20161009073154.wav</td>\n",
              "      <td>koel</td>\n",
              "    </tr>\n",
              "    <tr>\n",
              "      <th>87</th>\n",
              "      <td>37974_zaojuan027_birdman_2008_06_20%20%282%29.wav</td>\n",
              "      <td>koel</td>\n",
              "    </tr>\n",
              "    <tr>\n",
              "      <th>88</th>\n",
              "      <td>267100_XC267100-Asian%20Koel_IITM_9Aug15_4.wav</td>\n",
              "      <td>koel</td>\n",
              "    </tr>\n",
              "    <tr>\n",
              "      <th>89</th>\n",
              "      <td>460271_XC460271-LS101189%20Asian%20koel%20call...</td>\n",
              "      <td>koel</td>\n",
              "    </tr>\n",
              "  </tbody>\n",
              "</table>\n",
              "<p>90 rows × 2 columns</p>\n",
              "</div>"
            ],
            "text/plain": [
              "                                                fname label\n",
              "0             425899_XC425899-skogdue-0528_120113.wav  dove\n",
              "1   452836_XC452836-Stock%20Dove_20150516_090205_p...  dove\n",
              "2                        477304_XC477304-ZOOM0014.wav  dove\n",
              "3               234396_XC234396-Default%20Project.wav  dove\n",
              "4                        319985_XC319985-hohl0610.wav  dove\n",
              "..                                                ...   ...\n",
              "85        316778_XC316778-CBRC%E9%B8%9F%E9%B8%A32.wav  koel\n",
              "86           339652_XC339652-DaRec_20161009073154.wav  koel\n",
              "87  37974_zaojuan027_birdman_2008_06_20%20%282%29.wav  koel\n",
              "88     267100_XC267100-Asian%20Koel_IITM_9Aug15_4.wav  koel\n",
              "89  460271_XC460271-LS101189%20Asian%20koel%20call...  koel\n",
              "\n",
              "[90 rows x 2 columns]"
            ]
          },
          "metadata": {
            "tags": []
          },
          "execution_count": 18
        }
      ]
    },
    {
      "cell_type": "code",
      "metadata": {
        "id": "-P2xQlYxqWFl"
      },
      "source": [
        "df = df.sample(frac = 1)"
      ],
      "execution_count": null,
      "outputs": []
    },
    {
      "cell_type": "code",
      "metadata": {
        "id": "4nbJ_rVwqWdq",
        "colab": {
          "base_uri": "https://localhost:8080/",
          "height": 402
        },
        "outputId": "19d23bec-5755-4e98-97a8-6daf64d52c10"
      },
      "source": [
        "df"
      ],
      "execution_count": null,
      "outputs": [
        {
          "output_type": "execute_result",
          "data": {
            "text/html": [
              "<div>\n",
              "<style scoped>\n",
              "    .dataframe tbody tr th:only-of-type {\n",
              "        vertical-align: middle;\n",
              "    }\n",
              "\n",
              "    .dataframe tbody tr th {\n",
              "        vertical-align: top;\n",
              "    }\n",
              "\n",
              "    .dataframe thead th {\n",
              "        text-align: right;\n",
              "    }\n",
              "</style>\n",
              "<table border=\"1\" class=\"dataframe\">\n",
              "  <thead>\n",
              "    <tr style=\"text-align: right;\">\n",
              "      <th></th>\n",
              "      <th>fname</th>\n",
              "      <th>label</th>\n",
              "    </tr>\n",
              "  </thead>\n",
              "  <tbody>\n",
              "    <tr>\n",
              "      <th>39</th>\n",
              "      <td>504503_XC504503-SpurfowlNatal_ArmikaVetriver_2...</td>\n",
              "      <td>owl</td>\n",
              "    </tr>\n",
              "    <tr>\n",
              "      <th>68</th>\n",
              "      <td>362850_XC362850-Asian%20Koel%2004%20-%2004Apr1...</td>\n",
              "      <td>koel</td>\n",
              "    </tr>\n",
              "    <tr>\n",
              "      <th>69</th>\n",
              "      <td>68261_Eudynamys_scolopaceus_Siau-98-FRL_ID_8_4...</td>\n",
              "      <td>koel</td>\n",
              "    </tr>\n",
              "    <tr>\n",
              "      <th>86</th>\n",
              "      <td>339652_XC339652-DaRec_20161009073154.wav</td>\n",
              "      <td>koel</td>\n",
              "    </tr>\n",
              "    <tr>\n",
              "      <th>79</th>\n",
              "      <td>362851_XC362851-Asian%20Koel%2005%20-%2004Apr1...</td>\n",
              "      <td>koel</td>\n",
              "    </tr>\n",
              "    <tr>\n",
              "      <th>...</th>\n",
              "      <td>...</td>\n",
              "      <td>...</td>\n",
              "    </tr>\n",
              "    <tr>\n",
              "      <th>36</th>\n",
              "      <td>412640_XC412640-HBF%20NG%20Kerk%20grounds%2027...</td>\n",
              "      <td>owl</td>\n",
              "    </tr>\n",
              "    <tr>\n",
              "      <th>19</th>\n",
              "      <td>414218_XC414218-Columba_oenas-nom-FL%20X%20Har...</td>\n",
              "      <td>dove</td>\n",
              "    </tr>\n",
              "    <tr>\n",
              "      <th>81</th>\n",
              "      <td>330496_XC330496-Asian%20koel.wav</td>\n",
              "      <td>koel</td>\n",
              "    </tr>\n",
              "    <tr>\n",
              "      <th>32</th>\n",
              "      <td>421992_XC421992-NatalFrancolin_ArmikaWBron_201...</td>\n",
              "      <td>owl</td>\n",
              "    </tr>\n",
              "    <tr>\n",
              "      <th>23</th>\n",
              "      <td>292070_XC292070-150606_0414-Columba%20oenas.wav</td>\n",
              "      <td>dove</td>\n",
              "    </tr>\n",
              "  </tbody>\n",
              "</table>\n",
              "<p>90 rows × 2 columns</p>\n",
              "</div>"
            ],
            "text/plain": [
              "                                                fname label\n",
              "39  504503_XC504503-SpurfowlNatal_ArmikaVetriver_2...   owl\n",
              "68  362850_XC362850-Asian%20Koel%2004%20-%2004Apr1...  koel\n",
              "69  68261_Eudynamys_scolopaceus_Siau-98-FRL_ID_8_4...  koel\n",
              "86           339652_XC339652-DaRec_20161009073154.wav  koel\n",
              "79  362851_XC362851-Asian%20Koel%2005%20-%2004Apr1...  koel\n",
              "..                                                ...   ...\n",
              "36  412640_XC412640-HBF%20NG%20Kerk%20grounds%2027...   owl\n",
              "19  414218_XC414218-Columba_oenas-nom-FL%20X%20Har...  dove\n",
              "81                   330496_XC330496-Asian%20koel.wav  koel\n",
              "32  421992_XC421992-NatalFrancolin_ArmikaWBron_201...   owl\n",
              "23    292070_XC292070-150606_0414-Columba%20oenas.wav  dove\n",
              "\n",
              "[90 rows x 2 columns]"
            ]
          },
          "metadata": {
            "tags": []
          },
          "execution_count": 20
        }
      ]
    },
    {
      "cell_type": "code",
      "metadata": {
        "id": "Pj9QY-MZVs-h"
      },
      "source": [
        "!rm -rf dataset\n",
        "!mkdir dataset\n",
        "!cp -r dove/* dataset/"
      ],
      "execution_count": null,
      "outputs": []
    },
    {
      "cell_type": "code",
      "metadata": {
        "id": "G_virwCoVtHF"
      },
      "source": [
        "!cp -r owl/* dataset/"
      ],
      "execution_count": null,
      "outputs": []
    },
    {
      "cell_type": "code",
      "metadata": {
        "id": "r5xLnMZ4qozS"
      },
      "source": [
        "!cp -r koel/* dataset/"
      ],
      "execution_count": null,
      "outputs": []
    },
    {
      "cell_type": "code",
      "metadata": {
        "id": "U8TuzucsV07v"
      },
      "source": [
        "def envelope(y,rate, threshold):\n",
        "  mask=[]\n",
        "  y = pd.Series(y).apply(np.abs)\n",
        "  y_mean=y.rolling(window=int(rate/10), min_periods=1, center=True).mean()\n",
        "  for mean in y_mean:\n",
        "    if mean>threshold:\n",
        "      mask.append(True)\n",
        "    else:\n",
        "      mask.append(False)\n",
        "  return mask"
      ],
      "execution_count": null,
      "outputs": []
    },
    {
      "cell_type": "code",
      "metadata": {
        "id": "qklUZW1Cq3RV"
      },
      "source": [
        "import numpy as np"
      ],
      "execution_count": null,
      "outputs": []
    },
    {
      "cell_type": "code",
      "metadata": {
        "id": "TMM0vC6AV4ia"
      },
      "source": [
        "df.set_index('fname',inplace=True)\n",
        "for f in df.index:\n",
        "  rate, signal =  wavfile.read('dataset/'+f)\n",
        "  df.at[f, 'length'] = signal.shape[0]/rate"
      ],
      "execution_count": null,
      "outputs": []
    },
    {
      "cell_type": "code",
      "metadata": {
        "id": "aINmzGUjV9HI"
      },
      "source": [
        "classes= list(np.unique(df.label))"
      ],
      "execution_count": null,
      "outputs": []
    },
    {
      "cell_type": "code",
      "metadata": {
        "id": "7mrmJ2y3V_T_"
      },
      "source": [
        "class_dist = df.groupby(['label'])['length'].mean()"
      ],
      "execution_count": null,
      "outputs": []
    },
    {
      "cell_type": "code",
      "metadata": {
        "id": "hoXq7InlV_ar",
        "colab": {
          "base_uri": "https://localhost:8080/",
          "height": 101
        },
        "outputId": "280c8d69-2cf9-4f7d-e15f-60096d181db7"
      },
      "source": [
        "class_dist"
      ],
      "execution_count": null,
      "outputs": [
        {
          "output_type": "execute_result",
          "data": {
            "text/plain": [
              "label\n",
              "dove    39.911206\n",
              "koel    35.480614\n",
              "owl     29.314664\n",
              "Name: length, dtype: float64"
            ]
          },
          "metadata": {
            "tags": []
          },
          "execution_count": 29
        }
      ]
    },
    {
      "cell_type": "code",
      "metadata": {
        "id": "3q2xiQDpWj-a",
        "colab": {
          "base_uri": "https://localhost:8080/",
          "height": 282
        },
        "outputId": "46eb3398-98af-4d0e-fcf9-6b8bb18f1f95"
      },
      "source": [
        "import matplotlib.pyplot as plt\n",
        "fig,ax = plt.subplots()\n",
        "ax.set_title('Class Distribution',y=1.08)\n",
        "ax.pie(class_dist,labels=class_dist.index,autopct='%1.1f%%',\n",
        "       shadow=False, startangle=90)\n",
        "ax.axis('equal')\n",
        "plt.show()\n",
        "df.reset_index(inplace=True)"
      ],
      "execution_count": null,
      "outputs": [
        {
          "output_type": "display_data",
          "data": {
            "image/png": "[encoded data removed]",
            "text/plain": [
              "<Figure size 432x288 with 1 Axes>"
            ]
          },
          "metadata": {
            "tags": []
          }
        }
      ]
    },
    {
      "cell_type": "code",
      "metadata": {
        "id": "xyAkBN6-V_jR"
      },
      "source": [
        "!rm -rf clean\n",
        "!mkdir clean"
      ],
      "execution_count": null,
      "outputs": []
    },
    {
      "cell_type": "code",
      "metadata": {
        "id": "3DPzFlIfWFlx"
      },
      "source": [
        "import numpy as np"
      ],
      "execution_count": null,
      "outputs": []
    },
    {
      "cell_type": "code",
      "metadata": {
        "id": "Lsh6mPERWIhs"
      },
      "source": [
        "def calc_fft(y,rate):\n",
        "  n = len(y)\n",
        "  freq = np.fft.rfftfreq(n, d=1/rate)\n",
        "  Y = abs(np.fft.rfft(y)/n)\n",
        "  return (Y, freq)"
      ],
      "execution_count": null,
      "outputs": []
    },
    {
      "cell_type": "code",
      "metadata": {
        "id": "Coq6GvdkWTV-"
      },
      "source": [
        "import librosa"
      ],
      "execution_count": null,
      "outputs": []
    },
    {
      "cell_type": "code",
      "metadata": {
        "id": "NXtJaaVzWMEm",
        "colab": {
          "base_uri": "https://localhost:8080/",
          "height": 34
        },
        "outputId": "23ede804-e44f-4481-ff0c-1a1ee0496a22"
      },
      "source": [
        "#Downsampling\n",
        "if len(os.listdir('clean')) ==0:\n",
        "  for f in tqdm(df.fname):\n",
        "    signal, rate=librosa.load('dataset/'+f,sr=16000)\n",
        "    mask=envelope(signal,rate,0.0005)\n",
        "    wavfile.write(filename='clean/'+f,rate=rate,data=signal[mask])"
      ],
      "execution_count": null,
      "outputs": [
        {
          "output_type": "stream",
          "text": [
            "100%|██████████| 90/90 [02:42<00:00,  1.80s/it]\n"
          ],
          "name": "stderr"
        }
      ]
    },
    {
      "cell_type": "code",
      "metadata": {
        "id": "quSdzTYLRjmq"
      },
      "source": [
        "import pickle\n",
        "import os\n",
        "import numpy as np"
      ],
      "execution_count": null,
      "outputs": []
    },
    {
      "cell_type": "code",
      "metadata": {
        "id": "bUba3o6JR8c0"
      },
      "source": [
        "from keras.models import load_model\n",
        "from sklearn.metrics import accuracy_score"
      ],
      "execution_count": null,
      "outputs": []
    },
    {
      "cell_type": "code",
      "metadata": {
        "id": "_dMXZ2_dX7bL"
      },
      "source": [
        "df.to_csv('sounds.csv', index=False)"
      ],
      "execution_count": null,
      "outputs": []
    },
    {
      "cell_type": "code",
      "metadata": {
        "id": "2gO4fwhdYMDd"
      },
      "source": [
        "df=pd.read_csv('sounds.csv')"
      ],
      "execution_count": null,
      "outputs": []
    },
    {
      "cell_type": "code",
      "metadata": {
        "id": "UM8aJeC2YTqO",
        "colab": {
          "base_uri": "https://localhost:8080/",
          "height": 402
        },
        "outputId": "b5b74f0c-7427-4267-a1ed-ba0fa22ebf1b"
      },
      "source": [
        "df"
      ],
      "execution_count": null,
      "outputs": [
        {
          "output_type": "execute_result",
          "data": {
            "text/html": [
              "<div>\n",
              "<style scoped>\n",
              "    .dataframe tbody tr th:only-of-type {\n",
              "        vertical-align: middle;\n",
              "    }\n",
              "\n",
              "    .dataframe tbody tr th {\n",
              "        vertical-align: top;\n",
              "    }\n",
              "\n",
              "    .dataframe thead th {\n",
              "        text-align: right;\n",
              "    }\n",
              "</style>\n",
              "<table border=\"1\" class=\"dataframe\">\n",
              "  <thead>\n",
              "    <tr style=\"text-align: right;\">\n",
              "      <th></th>\n",
              "      <th>fname</th>\n",
              "      <th>label</th>\n",
              "      <th>length</th>\n",
              "    </tr>\n",
              "  </thead>\n",
              "  <tbody>\n",
              "    <tr>\n",
              "      <th>0</th>\n",
              "      <td>504503_XC504503-SpurfowlNatal_ArmikaVetriver_2...</td>\n",
              "      <td>owl</td>\n",
              "      <td>62.223673</td>\n",
              "    </tr>\n",
              "    <tr>\n",
              "      <th>1</th>\n",
              "      <td>362850_XC362850-Asian%20Koel%2004%20-%2004Apr1...</td>\n",
              "      <td>koel</td>\n",
              "      <td>17.972245</td>\n",
              "    </tr>\n",
              "    <tr>\n",
              "      <th>2</th>\n",
              "      <td>68261_Eudynamys_scolopaceus_Siau-98-FRL_ID_8_4...</td>\n",
              "      <td>koel</td>\n",
              "      <td>47.738322</td>\n",
              "    </tr>\n",
              "    <tr>\n",
              "      <th>3</th>\n",
              "      <td>339652_XC339652-DaRec_20161009073154.wav</td>\n",
              "      <td>koel</td>\n",
              "      <td>139.041088</td>\n",
              "    </tr>\n",
              "    <tr>\n",
              "      <th>4</th>\n",
              "      <td>362851_XC362851-Asian%20Koel%2005%20-%2004Apr1...</td>\n",
              "      <td>koel</td>\n",
              "      <td>22.256327</td>\n",
              "    </tr>\n",
              "    <tr>\n",
              "      <th>...</th>\n",
              "      <td>...</td>\n",
              "      <td>...</td>\n",
              "      <td>...</td>\n",
              "    </tr>\n",
              "    <tr>\n",
              "      <th>85</th>\n",
              "      <td>412640_XC412640-HBF%20NG%20Kerk%20grounds%2027...</td>\n",
              "      <td>owl</td>\n",
              "      <td>24.517833</td>\n",
              "    </tr>\n",
              "    <tr>\n",
              "      <th>86</th>\n",
              "      <td>414218_XC414218-Columba_oenas-nom-FL%20X%20Har...</td>\n",
              "      <td>dove</td>\n",
              "      <td>12.669388</td>\n",
              "    </tr>\n",
              "    <tr>\n",
              "      <th>87</th>\n",
              "      <td>330496_XC330496-Asian%20koel.wav</td>\n",
              "      <td>koel</td>\n",
              "      <td>5.537959</td>\n",
              "    </tr>\n",
              "    <tr>\n",
              "      <th>88</th>\n",
              "      <td>421992_XC421992-NatalFrancolin_ArmikaWBron_201...</td>\n",
              "      <td>owl</td>\n",
              "      <td>73.273469</td>\n",
              "    </tr>\n",
              "    <tr>\n",
              "      <th>89</th>\n",
              "      <td>292070_XC292070-150606_0414-Columba%20oenas.wav</td>\n",
              "      <td>dove</td>\n",
              "      <td>12.663560</td>\n",
              "    </tr>\n",
              "  </tbody>\n",
              "</table>\n",
              "<p>90 rows × 3 columns</p>\n",
              "</div>"
            ],
            "text/plain": [
              "                                                fname label      length\n",
              "0   504503_XC504503-SpurfowlNatal_ArmikaVetriver_2...   owl   62.223673\n",
              "1   362850_XC362850-Asian%20Koel%2004%20-%2004Apr1...  koel   17.972245\n",
              "2   68261_Eudynamys_scolopaceus_Siau-98-FRL_ID_8_4...  koel   47.738322\n",
              "3            339652_XC339652-DaRec_20161009073154.wav  koel  139.041088\n",
              "4   362851_XC362851-Asian%20Koel%2005%20-%2004Apr1...  koel   22.256327\n",
              "..                                                ...   ...         ...\n",
              "85  412640_XC412640-HBF%20NG%20Kerk%20grounds%2027...   owl   24.517833\n",
              "86  414218_XC414218-Columba_oenas-nom-FL%20X%20Har...  dove   12.669388\n",
              "87                   330496_XC330496-Asian%20koel.wav  koel    5.537959\n",
              "88  421992_XC421992-NatalFrancolin_ArmikaWBron_201...   owl   73.273469\n",
              "89    292070_XC292070-150606_0414-Columba%20oenas.wav  dove   12.663560\n",
              "\n",
              "[90 rows x 3 columns]"
            ]
          },
          "metadata": {
            "tags": []
          },
          "execution_count": 40
        }
      ]
    },
    {
      "cell_type": "code",
      "metadata": {
        "id": "6sCSEvhqYZVe"
      },
      "source": [
        "classes=list(np.unique(df.label))"
      ],
      "execution_count": null,
      "outputs": []
    },
    {
      "cell_type": "code",
      "metadata": {
        "id": "hs2JYqQhYf-G"
      },
      "source": [
        "fn2class=dict(zip(df.fname,df.label))"
      ],
      "execution_count": null,
      "outputs": []
    },
    {
      "cell_type": "code",
      "metadata": {
        "id": "wC1PGm2JYwUX",
        "colab": {
          "base_uri": "https://localhost:8080/",
          "height": 34
        },
        "outputId": "15da4add-3941-4bcf-a445-736b6b039578"
      },
      "source": [
        "!mkdir models"
      ],
      "execution_count": null,
      "outputs": [
        {
          "output_type": "stream",
          "text": [
            "mkdir: cannot create directory ‘models’: File exists\n"
          ],
          "name": "stdout"
        }
      ]
    },
    {
      "cell_type": "code",
      "metadata": {
        "id": "5c5_zUBDYooN",
        "colab": {
          "base_uri": "https://localhost:8080/"
        },
        "outputId": "c8385200-5cbc-43e0-c0ba-2a478cad260c"
      },
      "source": [
        "!cp -r /content/drive/My\\ Drive/Capstone/best.h5  /content/models/"
      ],
      "execution_count": null,
      "outputs": [
        {
          "output_type": "stream",
          "text": [
            "cp: cannot create regular file '/content/models/': Not a directory\n"
          ],
          "name": "stdout"
        }
      ]
    },
    {
      "cell_type": "code",
      "metadata": {
        "id": "zGWjUq4XY7mi"
      },
      "source": [
        "!cp -r /content/drive/My\\ Drive/Capstone/pickles/conv.p  /content/models/"
      ],
      "execution_count": null,
      "outputs": []
    },
    {
      "cell_type": "code",
      "metadata": {
        "id": "I8c_wHfNZIxe"
      },
      "source": [
        "model_path=\"/content/models/best.h5\"\n",
        "pickle_path=\"/content/models/conv.p\""
      ],
      "execution_count": null,
      "outputs": []
    },
    {
      "cell_type": "code",
      "metadata": {
        "id": "IaMyqKTeduNF"
      },
      "source": [
        "class Config:\n",
        "  def __init__(self,mode='conv',nfilt=26,nfeat=13,nfft=512,rate=16000):\n",
        "    self.mode=mode\n",
        "    self.nfilt=nfilt\n",
        "    self.nfeat=nfeat\n",
        "    self.nfft=nfft\n",
        "    self.rate=rate\n",
        "    self.step=int(rate/10)\n",
        "    self.p_path=os.path.join('/content/pickles',mode+'.p')"
      ],
      "execution_count": null,
      "outputs": []
    },
    {
      "cell_type": "code",
      "metadata": {
        "id": "rC1wPgSJZTXL"
      },
      "source": [
        "with open(pickle_path,'rb') as handle:\n",
        "  config=pickle.load(handle)"
      ],
      "execution_count": null,
      "outputs": []
    },
    {
      "cell_type": "code",
      "metadata": {
        "id": "bsrFepcwZ77w"
      },
      "source": [
        "def build_predictions(model,adir):\n",
        "  y_true=[]\n",
        "  y_pred=[]\n",
        "  fn_prob={}\n",
        "  print(\"Extracting audio features\")\n",
        "  for fn in tqdm(os.listdir(adir)):\n",
        "    rate,wav = wavfile.read(os.path.join(adir,fn))\n",
        "    label = fn2class[fn]\n",
        "    c = classes.index(label)\n",
        "    y_prob=[]\n",
        "\n",
        "    for i in range(0,wav.shape[0]-config.step, config.step):\n",
        "      sample = wav[i:i+config.step]\n",
        "      x = mfcc(sample, rate, numcep=config.nfeat, nfilt=config.nfilt, nfft=config.nfft)\n",
        "      x = (x- config.min)/(config.max - config.min)\n",
        "      x = x.reshape(1, x.shape[0], x.shape[1],1 )\n",
        "\n",
        "      y_hat = model.predict(x)\n",
        "      y_prob.append(y_hat)\n",
        "    y_pred.append(np.argmax(y_hat)%3)\n",
        "    y_true.append(c)\n",
        "\n",
        "    fn_prob[fn]=np.mean(y_prob, axis=1).flatten()\n",
        "  return y_true, y_pred, fn_prob\n"
      ],
      "execution_count": null,
      "outputs": []
    },
    {
      "cell_type": "code",
      "metadata": {
        "id": "u4s_7RlfZjYg"
      },
      "source": [
        "model=load_model(model_path)"
      ],
      "execution_count": null,
      "outputs": []
    },
    {
      "cell_type": "code",
      "metadata": {
        "id": "W7smGxtsZvBo",
        "colab": {
          "base_uri": "https://localhost:8080/",
          "height": 50
        },
        "outputId": "12470273-dadb-4bda-da2a-863f6da85df7"
      },
      "source": [
        "y_true, y_pred, fn_prob = build_predictions(model,'clean')"
      ],
      "execution_count": null,
      "outputs": [
        {
          "output_type": "stream",
          "text": [
            "\r  0%|          | 0/90 [00:00<?, ?it/s]"
          ],
          "name": "stderr"
        },
        {
          "output_type": "stream",
          "text": [
            "Extracting audio features\n"
          ],
          "name": "stdout"
        },
        {
          "output_type": "stream",
          "text": [
            "100%|██████████| 90/90 [21:22<00:00, 14.25s/it]\n"
          ],
          "name": "stderr"
        }
      ]
    },
    {
      "cell_type": "code",
      "metadata": {
        "id": "XI5N9UYrZ6kA"
      },
      "source": [
        "acc_score=accuracy_score(y_true,y_pred)"
      ],
      "execution_count": null,
      "outputs": []
    },
    {
      "cell_type": "code",
      "metadata": {
        "id": "8HiP5p1ZweK1",
        "colab": {
          "base_uri": "https://localhost:8080/",
          "height": 34
        },
        "outputId": "bbe91b5d-28e2-4da5-b2f8-6960bb4757cb"
      },
      "source": [
        "print(acc_score)"
      ],
      "execution_count": null,
      "outputs": [
        {
          "output_type": "stream",
          "text": [
            "0.9222222222222223\n"
          ],
          "name": "stdout"
        }
      ]
    },
    {
      "cell_type": "code",
      "metadata": {
        "id": "SAVxVKOBeITT"
      },
      "source": [
        "!cp -r /content/drive/My\\ Drive/pklspec/best2.h5  /content/models/"
      ],
      "execution_count": null,
      "outputs": []
    },
    {
      "cell_type": "markdown",
      "metadata": {
        "id": "Kskwie-7xHMF"
      },
      "source": [
        "#Model2"
      ]
    },
    {
      "cell_type": "code",
      "metadata": {
        "id": "ga5DmONAxKp1"
      },
      "source": [
        "model2=load_model(\"/content/models/best2.h5\")"
      ],
      "execution_count": null,
      "outputs": []
    },
    {
      "cell_type": "code",
      "metadata": {
        "id": "tHT0QBv6xPg2",
        "colab": {
          "base_uri": "https://localhost:8080/",
          "height": 50
        },
        "outputId": "d3db8b10-d54e-443d-b50e-52397ed6527c"
      },
      "source": [
        "y_true, y_pred, fn_prob = build_predictions(model2,'clean')"
      ],
      "execution_count": null,
      "outputs": [
        {
          "output_type": "stream",
          "text": [
            "\r  0%|          | 0/73 [00:00<?, ?it/s]"
          ],
          "name": "stderr"
        },
        {
          "output_type": "stream",
          "text": [
            "Extracting audio features\n"
          ],
          "name": "stdout"
        },
        {
          "output_type": "stream",
          "text": [
            "100%|██████████| 73/73 [13:30<00:00, 11.10s/it]\n"
          ],
          "name": "stderr"
        }
      ]
    },
    {
      "cell_type": "code",
      "metadata": {
        "id": "XjZTtYGdxleB"
      },
      "source": [
        "acc_score2=accuracy_score(y_true,y_pred)"
      ],
      "execution_count": null,
      "outputs": []
    },
    {
      "cell_type": "code",
      "metadata": {
        "id": "E7uDvnPkxlkx",
        "colab": {
          "base_uri": "https://localhost:8080/",
          "height": 34
        },
        "outputId": "3bb21047-2969-4fed-88b3-66dc23d2a67e"
      },
      "source": [
        "print(acc_score2)"
      ],
      "execution_count": null,
      "outputs": [
        {
          "output_type": "stream",
          "text": [
            "0.7217920353982301\n"
          ],
          "name": "stdout"
        }
      ]
    }
  ]
}