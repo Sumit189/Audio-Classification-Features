{
  "nbformat": 4,
  "nbformat_minor": 0,
  "metadata": {
    "colab": {
      "name": "EXP1.ipynb",
      "provenance": [],
      "collapsed_sections": []
    },
    "kernelspec": {
      "name": "python3",
      "display_name": "Python 3"
    },
    "accelerator": "GPU"
  },
  "cells": [
    {
      "cell_type": "code",
      "metadata": {
        "id": "0K1UFsCjzhHL",
        "colab_type": "code",
        "colab": {}
      },
      "source": [
        "!cp /content/drive/My\\ Drive/Capstone/img_datasetTD.zip /content/"
      ],
      "execution_count": 1,
      "outputs": []
    },
    {
      "cell_type": "code",
      "metadata": {
        "id": "2euHWjMkzpSf",
        "colab_type": "code",
        "colab": {}
      },
      "source": [
        "!cp /content/drive/My\\ Drive/Capstone/img_datasetVD.zip /content/"
      ],
      "execution_count": 2,
      "outputs": []
    },
    {
      "cell_type": "code",
      "metadata": {
        "id": "ucDyu1m-zpkH",
        "colab_type": "code",
        "colab": {}
      },
      "source": [
        "!cp /content/drive/My\\ Drive/Capstone/img_datasetTND.zip /content/"
      ],
      "execution_count": 3,
      "outputs": []
    },
    {
      "cell_type": "code",
      "metadata": {
        "id": "D0Kcxyl-zpyx",
        "colab_type": "code",
        "colab": {}
      },
      "source": [
        "!cp /content/drive/My\\ Drive/Capstone/img_datasetVND.zip /content/"
      ],
      "execution_count": 4,
      "outputs": []
    },
    {
      "cell_type": "code",
      "metadata": {
        "id": "21iWdHUuz0Ga",
        "colab_type": "code",
        "colab": {}
      },
      "source": [
        "!unzip img_datasetTD.zip\n"
      ],
      "execution_count": null,
      "outputs": []
    },
    {
      "cell_type": "code",
      "metadata": {
        "id": "o0U5GiMT0NDZ",
        "colab_type": "code",
        "colab": {
          "base_uri": "https://localhost:8080/",
          "height": 50
        },
        "outputId": "aae88d91-7b86-44af-f605-c0025a84074f"
      },
      "source": [
        "!ls"
      ],
      "execution_count": 6,
      "outputs": [
        {
          "output_type": "stream",
          "text": [
            "drive\t     img_datasetTD.zip\t img_datasetVD.zip   sample_data\n",
            "img_dataset  img_datasetTND.zip  img_datasetVND.zip\n"
          ],
          "name": "stdout"
        }
      ]
    },
    {
      "cell_type": "code",
      "metadata": {
        "id": "njiMCt6b1dyM",
        "colab_type": "code",
        "colab": {}
      },
      "source": [
        "!unzip img_datasetTND.zip"
      ],
      "execution_count": null,
      "outputs": []
    },
    {
      "cell_type": "code",
      "metadata": {
        "id": "1uUdLAOU1rQO",
        "colab_type": "code",
        "colab": {}
      },
      "source": [
        "!unzip img_datasetVD.zip"
      ],
      "execution_count": null,
      "outputs": []
    },
    {
      "cell_type": "code",
      "metadata": {
        "id": "WzN4RVpE1sQL",
        "colab_type": "code",
        "colab": {}
      },
      "source": [
        "!unzip img_datasetVND.zip"
      ],
      "execution_count": null,
      "outputs": []
    },
    {
      "cell_type": "code",
      "metadata": {
        "id": "d_FxECVk1skD",
        "colab_type": "code",
        "colab": {
          "base_uri": "https://localhost:8080/",
          "height": 50
        },
        "outputId": "8a1f85ac-1174-475e-a1f8-6b6c3a7eb934"
      },
      "source": [
        "!ls"
      ],
      "execution_count": 10,
      "outputs": [
        {
          "output_type": "stream",
          "text": [
            "drive\t     img_datasetTD.zip\t img_datasetVD.zip   sample_data\n",
            "img_dataset  img_datasetTND.zip  img_datasetVND.zip\n"
          ],
          "name": "stdout"
        }
      ]
    },
    {
      "cell_type": "code",
      "metadata": {
        "id": "qMXzHYAj1wvt",
        "colab_type": "code",
        "colab": {}
      },
      "source": [
        "import matplotlib.image as mpimg\n",
        "import os"
      ],
      "execution_count": 11,
      "outputs": []
    },
    {
      "cell_type": "markdown",
      "metadata": {
        "id": "v6295oCiKgHi",
        "colab_type": "text"
      },
      "source": [
        "#TECHNIQUE 1"
      ]
    },
    {
      "cell_type": "code",
      "metadata": {
        "id": "sM9iG0Pj14OO",
        "colab_type": "code",
        "colab": {}
      },
      "source": [
        "|t0=[]\n",
        "path='/content/img_dataset/train/Dove/'\n",
        "files=[]\n",
        "for r,d,f in os.walk(path):\n",
        "  for file in f:\n",
        "    t0.append(r+file)"
      ],
      "execution_count": 12,
      "outputs": []
    },
    {
      "cell_type": "code",
      "metadata": {
        "id": "fqwYO94Z19U_",
        "colab_type": "code",
        "colab": {}
      },
      "source": [
        "path='/content/img_dataset/train/Non_Dove/'\n",
        "files=[]\n",
        "for r,d,f in os.walk(path):\n",
        "  for file in f:\n",
        "    t0.append(r+file)\n"
      ],
      "execution_count": 13,
      "outputs": []
    },
    {
      "cell_type": "code",
      "metadata": {
        "id": "RhacfqYb1_-5",
        "colab_type": "code",
        "colab": {}
      },
      "source": [
        "f_name=[]\n",
        "path='/content/img_dataset/train/Dove/'\n",
        "files=[]\n",
        "for r,d,f in os.walk(path):\n",
        "  for file in f:\n",
        "    f_name.append(file)"
      ],
      "execution_count": 14,
      "outputs": []
    },
    {
      "cell_type": "code",
      "metadata": {
        "id": "JGqVIlTJ2Bhi",
        "colab_type": "code",
        "colab": {}
      },
      "source": [
        "path='/content/img_dataset/train/Non_Dove/'\n",
        "files=[]\n",
        "for r,d,f in os.walk(path):\n",
        "  for file in f:\n",
        "    f_name.append(file)"
      ],
      "execution_count": 15,
      "outputs": []
    },
    {
      "cell_type": "code",
      "metadata": {
        "id": "UygUhuWD2J9y",
        "colab_type": "code",
        "colab": {}
      },
      "source": [
        "target0=[]\n",
        "for i in range(2000):\n",
        "  if(i<1000):\n",
        "    target0.append(0)\n",
        "  else:\n",
        "    target0.append(1)"
      ],
      "execution_count": 16,
      "outputs": []
    },
    {
      "cell_type": "code",
      "metadata": {
        "id": "81kUeMu72DIm",
        "colab_type": "code",
        "colab": {}
      },
      "source": [
        "import pandas as pd"
      ],
      "execution_count": 18,
      "outputs": []
    },
    {
      "cell_type": "code",
      "metadata": {
        "id": "0kLiIzox2Gh-",
        "colab_type": "code",
        "colab": {}
      },
      "source": [
        "df = pd.DataFrame(list(zip(t0,f_name,target0)), \n",
        "               columns =['fullpath','filename','target']) "
      ],
      "execution_count": 19,
      "outputs": []
    },
    {
      "cell_type": "code",
      "metadata": {
        "id": "ytGVVikh2Hl3",
        "colab_type": "code",
        "colab": {
          "base_uri": "https://localhost:8080/",
          "height": 402
        },
        "outputId": "264932e5-9924-4a97-ff40-04f32dabb907"
      },
      "source": [
        "df"
      ],
      "execution_count": 20,
      "outputs": [
        {
          "output_type": "execute_result",
          "data": {
            "text/html": [
              "<div>\n",
              "<style scoped>\n",
              "    .dataframe tbody tr th:only-of-type {\n",
              "        vertical-align: middle;\n",
              "    }\n",
              "\n",
              "    .dataframe tbody tr th {\n",
              "        vertical-align: top;\n",
              "    }\n",
              "\n",
              "    .dataframe thead th {\n",
              "        text-align: right;\n",
              "    }\n",
              "</style>\n",
              "<table border=\"1\" class=\"dataframe\">\n",
              "  <thead>\n",
              "    <tr style=\"text-align: right;\">\n",
              "      <th></th>\n",
              "      <th>fullpath</th>\n",
              "      <th>filename</th>\n",
              "      <th>target</th>\n",
              "    </tr>\n",
              "  </thead>\n",
              "  <tbody>\n",
              "    <tr>\n",
              "      <th>0</th>\n",
              "      <td>/content/img_dataset/train/Dove/309781_XC30978...</td>\n",
              "      <td>309781_XC309781-160216_03.jpg</td>\n",
              "      <td>0</td>\n",
              "    </tr>\n",
              "    <tr>\n",
              "      <th>1</th>\n",
              "      <td>/content/img_dataset/train/Dove/470735_XC47073...</td>\n",
              "      <td>470735_XC470735-turkawka%20para%20Polanica.jpg</td>\n",
              "      <td>0</td>\n",
              "    </tr>\n",
              "    <tr>\n",
              "      <th>2</th>\n",
              "      <td>/content/img_dataset/train/Dove/530261_XC53026...</td>\n",
              "      <td>530261_XC530261-rc%200%20streptopelia%20vinace...</td>\n",
              "      <td>0</td>\n",
              "    </tr>\n",
              "    <tr>\n",
              "      <th>3</th>\n",
              "      <td>/content/img_dataset/train/Dove/1697_b18c.jpg</td>\n",
              "      <td>1697_b18c.jpg</td>\n",
              "      <td>0</td>\n",
              "    </tr>\n",
              "    <tr>\n",
              "      <th>4</th>\n",
              "      <td>/content/img_dataset/train/Dove/514162_XC51416...</td>\n",
              "      <td>514162_XC514162-190917_07%20ring%20necked%20do...</td>\n",
              "      <td>0</td>\n",
              "    </tr>\n",
              "    <tr>\n",
              "      <th>...</th>\n",
              "      <td>...</td>\n",
              "      <td>...</td>\n",
              "      <td>...</td>\n",
              "    </tr>\n",
              "    <tr>\n",
              "      <th>1995</th>\n",
              "      <td>/content/img_dataset/train/Non_Dove/529199_XC5...</td>\n",
              "      <td>529199_XC529199-Crested%20Serpent%20Eagle%20%4...</td>\n",
              "      <td>1</td>\n",
              "    </tr>\n",
              "    <tr>\n",
              "      <th>1996</th>\n",
              "      <td>/content/img_dataset/train/Non_Dove/481739_XC4...</td>\n",
              "      <td>481739_XC481739-Common%20raven%20alarm%20call.jpg</td>\n",
              "      <td>1</td>\n",
              "    </tr>\n",
              "    <tr>\n",
              "      <th>1997</th>\n",
              "      <td>/content/img_dataset/train/Non_Dove/257328_XC2...</td>\n",
              "      <td>257328_XC257328-16.jpg</td>\n",
              "      <td>1</td>\n",
              "    </tr>\n",
              "    <tr>\n",
              "      <th>1998</th>\n",
              "      <td>/content/img_dataset/train/Non_Dove/579494_XC5...</td>\n",
              "      <td>579494_XC579494-200727-001_Kwak%20M%2027072020...</td>\n",
              "      <td>1</td>\n",
              "    </tr>\n",
              "    <tr>\n",
              "      <th>1999</th>\n",
              "      <td>/content/img_dataset/train/Non_Dove/122033_XC1...</td>\n",
              "      <td>122033_XC122033-Crested%20Serpent%20Eagle_Drey...</td>\n",
              "      <td>1</td>\n",
              "    </tr>\n",
              "  </tbody>\n",
              "</table>\n",
              "<p>2000 rows × 3 columns</p>\n",
              "</div>"
            ],
            "text/plain": [
              "                                               fullpath  ... target\n",
              "0     /content/img_dataset/train/Dove/309781_XC30978...  ...      0\n",
              "1     /content/img_dataset/train/Dove/470735_XC47073...  ...      0\n",
              "2     /content/img_dataset/train/Dove/530261_XC53026...  ...      0\n",
              "3         /content/img_dataset/train/Dove/1697_b18c.jpg  ...      0\n",
              "4     /content/img_dataset/train/Dove/514162_XC51416...  ...      0\n",
              "...                                                 ...  ...    ...\n",
              "1995  /content/img_dataset/train/Non_Dove/529199_XC5...  ...      1\n",
              "1996  /content/img_dataset/train/Non_Dove/481739_XC4...  ...      1\n",
              "1997  /content/img_dataset/train/Non_Dove/257328_XC2...  ...      1\n",
              "1998  /content/img_dataset/train/Non_Dove/579494_XC5...  ...      1\n",
              "1999  /content/img_dataset/train/Non_Dove/122033_XC1...  ...      1\n",
              "\n",
              "[2000 rows x 3 columns]"
            ]
          },
          "metadata": {
            "tags": []
          },
          "execution_count": 20
        }
      ]
    },
    {
      "cell_type": "code",
      "metadata": {
        "id": "AGeatuU42H2p",
        "colab_type": "code",
        "colab": {
          "base_uri": "https://localhost:8080/",
          "height": 106
        },
        "outputId": "34760570-62bc-49cc-9c19-fc6e226db630"
      },
      "source": [
        "df[999:1001]"
      ],
      "execution_count": 21,
      "outputs": [
        {
          "output_type": "execute_result",
          "data": {
            "text/html": [
              "<div>\n",
              "<style scoped>\n",
              "    .dataframe tbody tr th:only-of-type {\n",
              "        vertical-align: middle;\n",
              "    }\n",
              "\n",
              "    .dataframe tbody tr th {\n",
              "        vertical-align: top;\n",
              "    }\n",
              "\n",
              "    .dataframe thead th {\n",
              "        text-align: right;\n",
              "    }\n",
              "</style>\n",
              "<table border=\"1\" class=\"dataframe\">\n",
              "  <thead>\n",
              "    <tr style=\"text-align: right;\">\n",
              "      <th></th>\n",
              "      <th>fullpath</th>\n",
              "      <th>filename</th>\n",
              "      <th>target</th>\n",
              "    </tr>\n",
              "  </thead>\n",
              "  <tbody>\n",
              "    <tr>\n",
              "      <th>999</th>\n",
              "      <td>/content/img_dataset/train/Dove/153494_XC15349...</td>\n",
              "      <td>153494_XC153494-1027_072424_RedeyeBulbul_edt.jpg</td>\n",
              "      <td>0</td>\n",
              "    </tr>\n",
              "    <tr>\n",
              "      <th>1000</th>\n",
              "      <td>/content/img_dataset/train/Non_Dove/505928_XC5...</td>\n",
              "      <td>505928_XC505928-Black-crowned%20night%20heron.jpg</td>\n",
              "      <td>1</td>\n",
              "    </tr>\n",
              "  </tbody>\n",
              "</table>\n",
              "</div>"
            ],
            "text/plain": [
              "                                               fullpath  ... target\n",
              "999   /content/img_dataset/train/Dove/153494_XC15349...  ...      0\n",
              "1000  /content/img_dataset/train/Non_Dove/505928_XC5...  ...      1\n",
              "\n",
              "[2 rows x 3 columns]"
            ]
          },
          "metadata": {
            "tags": []
          },
          "execution_count": 21
        }
      ]
    },
    {
      "cell_type": "code",
      "metadata": {
        "id": "3jdEWVqn2elR",
        "colab_type": "code",
        "colab": {}
      },
      "source": [
        "!rm -rf resized\n",
        "!mkdir resized"
      ],
      "execution_count": 22,
      "outputs": []
    },
    {
      "cell_type": "code",
      "metadata": {
        "id": "HmSA6TBM2lcj",
        "colab_type": "code",
        "colab": {}
      },
      "source": [
        "import PIL\n",
        "import imageio"
      ],
      "execution_count": 23,
      "outputs": []
    },
    {
      "cell_type": "code",
      "metadata": {
        "id": "GTkjON0n2mrk",
        "colab_type": "code",
        "colab": {}
      },
      "source": [
        "def resizeImage(infile, infile_name_only, output_dir=\"\", size=(1024,768)):\n",
        "  outfile = os.path.splitext(infile_name_only)[0]\n",
        "  extension = os.path.splitext(infile)[1]\n",
        "  if infile != outfile:\n",
        "    if not os.path.isfile(output_dir + \"/\" + outfile + extension):\n",
        "      try :\n",
        "        im = PIL.Image.open(infile)\n",
        "        im = im.resize(size, PIL.Image.ANTIALIAS) \n",
        "        im.save(output_dir + \"/\" + outfile + '.jpg')\n",
        "      except IOError:\n",
        "        print(\"cannot reduce image for \", infile)"
      ],
      "execution_count": 24,
      "outputs": []
    },
    {
      "cell_type": "code",
      "metadata": {
        "id": "3x9eem5T2n26",
        "colab_type": "code",
        "colab": {}
      },
      "source": [
        "output_dir = \"/content/resized/\"\n",
        "size = (128, 128)\n",
        "filenames_dir = list(df[\"fullpath\"])\n",
        "filenames = list(df[\"filename\"])\n",
        "            \n",
        "for i in range(len(filenames)):\n",
        "  resizeImage(filenames_dir[i], filenames[i], output_dir=output_dir, size=size)"
      ],
      "execution_count": 25,
      "outputs": []
    },
    {
      "cell_type": "code",
      "metadata": {
        "id": "0nINSLTjGGoY",
        "colab_type": "code",
        "colab": {}
      },
      "source": [
        "################Validation set creation"
      ],
      "execution_count": 98,
      "outputs": []
    },
    {
      "cell_type": "code",
      "metadata": {
        "id": "tYogUytODmux",
        "colab_type": "code",
        "colab": {}
      },
      "source": [
        "!rm -rf resized_val\n",
        "!mkdir resized_val"
      ],
      "execution_count": 127,
      "outputs": []
    },
    {
      "cell_type": "code",
      "metadata": {
        "id": "rFYGcXkrDpiU",
        "colab_type": "code",
        "colab": {}
      },
      "source": [
        "t1=[]\n",
        "path='/content/img_dataset/valid/Dove/'\n",
        "files=[]\n",
        "for r,d,f in os.walk(path):\n",
        "  for file in f:\n",
        "    t1.append(r+file)\n",
        "path='/content/img_dataset/valid/Non_Dove/'\n",
        "files=[]\n",
        "for r,d,f in os.walk(path):\n",
        "  for file in f:\n",
        "    t1.append(r+file)\n",
        "f_name1=[]\n",
        "path='/content/img_dataset/valid/Dove/'\n",
        "files=[]\n",
        "for r,d,f in os.walk(path):\n",
        "  for file in f:\n",
        "    f_name1.append(file)\n",
        "path='/content/img_dataset/valid/Non_Dove/'\n",
        "files=[]\n",
        "for r,d,f in os.walk(path):\n",
        "  for file in f:\n",
        "    f_name1.append(file)\n",
        "target1=[]\n",
        "for i in range(1000):\n",
        "  if(i<500):\n",
        "    target1.append(0)\n",
        "  else:\n",
        "    target1.append(1)\n"
      ],
      "execution_count": 128,
      "outputs": []
    },
    {
      "cell_type": "code",
      "metadata": {
        "id": "-epZ_ws92pa6",
        "colab_type": "code",
        "colab": {}
      },
      "source": [
        "df_val = pd.DataFrame(list(zip(t1,f_name1,target1)), \n",
        "               columns =['fullpath','filename','target']) "
      ],
      "execution_count": 129,
      "outputs": []
    },
    {
      "cell_type": "code",
      "metadata": {
        "id": "CSki6HxGESMr",
        "colab_type": "code",
        "colab": {
          "base_uri": "https://localhost:8080/",
          "height": 402
        },
        "outputId": "74f99eb7-8e8c-47d1-cf1d-0ff53eba0da0"
      },
      "source": [
        "df_val"
      ],
      "execution_count": 130,
      "outputs": [
        {
          "output_type": "execute_result",
          "data": {
            "text/html": [
              "<div>\n",
              "<style scoped>\n",
              "    .dataframe tbody tr th:only-of-type {\n",
              "        vertical-align: middle;\n",
              "    }\n",
              "\n",
              "    .dataframe tbody tr th {\n",
              "        vertical-align: top;\n",
              "    }\n",
              "\n",
              "    .dataframe thead th {\n",
              "        text-align: right;\n",
              "    }\n",
              "</style>\n",
              "<table border=\"1\" class=\"dataframe\">\n",
              "  <thead>\n",
              "    <tr style=\"text-align: right;\">\n",
              "      <th></th>\n",
              "      <th>fullpath</th>\n",
              "      <th>filename</th>\n",
              "      <th>target</th>\n",
              "    </tr>\n",
              "  </thead>\n",
              "  <tbody>\n",
              "    <tr>\n",
              "      <th>0</th>\n",
              "      <td>/content/img_dataset/valid/Dove/86161_B432T10P...</td>\n",
              "      <td>86161_B432T10P0_1611_geotrygon_trogonviridis_N...</td>\n",
              "      <td>0</td>\n",
              "    </tr>\n",
              "    <tr>\n",
              "      <th>1</th>\n",
              "      <td>/content/img_dataset/valid/Dove/91794_columbin...</td>\n",
              "      <td>91794_columbina%20squamata%20llanos%20%282%29.jpg</td>\n",
              "      <td>0</td>\n",
              "    </tr>\n",
              "    <tr>\n",
              "      <th>2</th>\n",
              "      <td>/content/img_dataset/valid/Dove/413605_XC41360...</td>\n",
              "      <td>413605_XC413605-Macropygia_albiceps-FL%20song%...</td>\n",
              "      <td>0</td>\n",
              "    </tr>\n",
              "    <tr>\n",
              "      <th>3</th>\n",
              "      <td>/content/img_dataset/valid/Dove/26292_BarredCu...</td>\n",
              "      <td>26292_BarredCuckoo-Dove2VNEdwards.jpg</td>\n",
              "      <td>0</td>\n",
              "    </tr>\n",
              "    <tr>\n",
              "      <th>4</th>\n",
              "      <td>/content/img_dataset/valid/Dove/329708_XC32970...</td>\n",
              "      <td>329708_XC329708-T31.jpg</td>\n",
              "      <td>0</td>\n",
              "    </tr>\n",
              "    <tr>\n",
              "      <th>...</th>\n",
              "      <td>...</td>\n",
              "      <td>...</td>\n",
              "      <td>...</td>\n",
              "    </tr>\n",
              "    <tr>\n",
              "      <th>995</th>\n",
              "      <td>/content/img_dataset/valid/Non_Dove/451188_XC4...</td>\n",
              "      <td>451188_XC451188-Common%20Raven%20-CA%2C%20Big%...</td>\n",
              "      <td>1</td>\n",
              "    </tr>\n",
              "    <tr>\n",
              "      <th>996</th>\n",
              "      <td>/content/img_dataset/valid/Non_Dove/29227_bian...</td>\n",
              "      <td>29227_biancone3.jpg</td>\n",
              "      <td>1</td>\n",
              "    </tr>\n",
              "    <tr>\n",
              "      <th>997</th>\n",
              "      <td>/content/img_dataset/valid/Non_Dove/177562_XC1...</td>\n",
              "      <td>177562_XC177562-crested-serpent-eagle2.jpg</td>\n",
              "      <td>1</td>\n",
              "    </tr>\n",
              "    <tr>\n",
              "      <th>998</th>\n",
              "      <td>/content/img_dataset/valid/Non_Dove/90672_Unti...</td>\n",
              "      <td>90672_Untitled%2863%29SpizTyr_Jurua_ACL.jpg</td>\n",
              "      <td>1</td>\n",
              "    </tr>\n",
              "    <tr>\n",
              "      <th>999</th>\n",
              "      <td>/content/img_dataset/valid/Non_Dove/327856_XC3...</td>\n",
              "      <td>327856_XC327856-relict-raven-calls1.jpg</td>\n",
              "      <td>1</td>\n",
              "    </tr>\n",
              "  </tbody>\n",
              "</table>\n",
              "<p>1000 rows × 3 columns</p>\n",
              "</div>"
            ],
            "text/plain": [
              "                                              fullpath  ... target\n",
              "0    /content/img_dataset/valid/Dove/86161_B432T10P...  ...      0\n",
              "1    /content/img_dataset/valid/Dove/91794_columbin...  ...      0\n",
              "2    /content/img_dataset/valid/Dove/413605_XC41360...  ...      0\n",
              "3    /content/img_dataset/valid/Dove/26292_BarredCu...  ...      0\n",
              "4    /content/img_dataset/valid/Dove/329708_XC32970...  ...      0\n",
              "..                                                 ...  ...    ...\n",
              "995  /content/img_dataset/valid/Non_Dove/451188_XC4...  ...      1\n",
              "996  /content/img_dataset/valid/Non_Dove/29227_bian...  ...      1\n",
              "997  /content/img_dataset/valid/Non_Dove/177562_XC1...  ...      1\n",
              "998  /content/img_dataset/valid/Non_Dove/90672_Unti...  ...      1\n",
              "999  /content/img_dataset/valid/Non_Dove/327856_XC3...  ...      1\n",
              "\n",
              "[1000 rows x 3 columns]"
            ]
          },
          "metadata": {
            "tags": []
          },
          "execution_count": 130
        }
      ]
    },
    {
      "cell_type": "code",
      "metadata": {
        "id": "0CeyK3VsFFlr",
        "colab_type": "code",
        "colab": {}
      },
      "source": [
        "output_dir = \"/content/resized_val/\"\n",
        "size = (128, 128)\n",
        "val_filenames_dir = list(df_val[\"fullpath\"])\n",
        "val_filenames = list(df_val[\"filename\"])\n",
        "            \n",
        "for i in range(len(val_filenames)):\n",
        "  resizeImage(val_filenames_dir[i], val_filenames[i], output_dir=output_dir, size=size)"
      ],
      "execution_count": 131,
      "outputs": []
    },
    {
      "cell_type": "code",
      "metadata": {
        "id": "-owoccPdF0x1",
        "colab_type": "code",
        "colab": {}
      },
      "source": [
        "list_vectors_val=[]\n",
        "path='/content/resized_val/'\n",
        "for r,d,f in os.walk(path):\n",
        "  for file in f:\n",
        "    print(file)\n",
        "    img = imageio.imread(r+file)\n",
        "    list_vectors_val.append(img)"
      ],
      "execution_count": null,
      "outputs": []
    },
    {
      "cell_type": "code",
      "metadata": {
        "id": "jHctR_weF46p",
        "colab_type": "code",
        "colab": {}
      },
      "source": [
        "X_val = np.stack((list_vectors_val))\n",
        "Y_val = np.asarray(df_val.target)"
      ],
      "execution_count": 148,
      "outputs": []
    },
    {
      "cell_type": "code",
      "metadata": {
        "id": "BCR2C0ReGe14",
        "colab_type": "code",
        "colab": {}
      },
      "source": [
        "X_val = X_val/255\n",
        "Y_val = tf.keras.utils.to_categorical(Y_val, num_classes=2)"
      ],
      "execution_count": 149,
      "outputs": []
    },
    {
      "cell_type": "code",
      "metadata": {
        "id": "kbw_SsFzG_2a",
        "colab_type": "code",
        "colab": {
          "base_uri": "https://localhost:8080/",
          "height": 34
        },
        "outputId": "e7eb91ab-4006-4ffc-8a32-02a4f518eefb"
      },
      "source": [
        "X_val.shape"
      ],
      "execution_count": 150,
      "outputs": [
        {
          "output_type": "execute_result",
          "data": {
            "text/plain": [
              "(1000, 128, 128, 3)"
            ]
          },
          "metadata": {
            "tags": []
          },
          "execution_count": 150
        }
      ]
    },
    {
      "cell_type": "code",
      "metadata": {
        "id": "JfM6YduLHEx5",
        "colab_type": "code",
        "colab": {
          "base_uri": "https://localhost:8080/",
          "height": 34
        },
        "outputId": "0cf95f28-e759-4397-d8e1-14cfd96af72a"
      },
      "source": [
        "Y_val.shape"
      ],
      "execution_count": 151,
      "outputs": [
        {
          "output_type": "execute_result",
          "data": {
            "text/plain": [
              "(1000, 2)"
            ]
          },
          "metadata": {
            "tags": []
          },
          "execution_count": 151
        }
      ]
    },
    {
      "cell_type": "code",
      "metadata": {
        "id": "he6w5r3TGCeq",
        "colab_type": "code",
        "colab": {}
      },
      "source": [
        "################Validation set completed"
      ],
      "execution_count": null,
      "outputs": []
    },
    {
      "cell_type": "code",
      "metadata": {
        "id": "u56jn1lP2rp_",
        "colab_type": "code",
        "colab": {}
      },
      "source": [
        "list_vectors=[]\n",
        "path='/content/resized/'\n",
        "for r,d,f in os.walk(path):\n",
        "  for file in f:\n",
        "    print(file)\n",
        "    img = imageio.imread(r+file)\n",
        "    list_vectors.append(img)"
      ],
      "execution_count": null,
      "outputs": []
    },
    {
      "cell_type": "code",
      "metadata": {
        "id": "jT1IpWv38ciT",
        "colab_type": "code",
        "colab": {}
      },
      "source": [
        "target=df['target']\n",
        "filename = df[\"filename\"]\n",
        "path = df[\"fullpath\"]"
      ],
      "execution_count": 100,
      "outputs": []
    },
    {
      "cell_type": "code",
      "metadata": {
        "id": "6v6xwrcx8ep6",
        "colab_type": "code",
        "colab": {}
      },
      "source": [
        "allinfo = list(zip(path, filename, target, list_vectors)) "
      ],
      "execution_count": 101,
      "outputs": []
    },
    {
      "cell_type": "code",
      "metadata": {
        "id": "meHGk8W18grh",
        "colab_type": "code",
        "colab": {}
      },
      "source": [
        "import random\n",
        "random.shuffle(allinfo)"
      ],
      "execution_count": 102,
      "outputs": []
    },
    {
      "cell_type": "code",
      "metadata": {
        "id": "LoZcL96m8h9A",
        "colab_type": "code",
        "colab": {}
      },
      "source": [
        "path, filename, target, list_vectors = zip(*allinfo)"
      ],
      "execution_count": 103,
      "outputs": []
    },
    {
      "cell_type": "code",
      "metadata": {
        "id": "r9-4-F1O8j-F",
        "colab_type": "code",
        "colab": {}
      },
      "source": [
        "img_random = pd.DataFrame({\"filename\":filename, \"target\":target, \"path\":path})"
      ],
      "execution_count": 104,
      "outputs": []
    },
    {
      "cell_type": "code",
      "metadata": {
        "id": "yXwdgdNu8oTM",
        "colab_type": "code",
        "colab": {}
      },
      "source": [
        "import numpy as np"
      ],
      "execution_count": 105,
      "outputs": []
    },
    {
      "cell_type": "code",
      "metadata": {
        "id": "taFMN7n48lem",
        "colab_type": "code",
        "colab": {}
      },
      "source": [
        "X = np.stack((list_vectors))"
      ],
      "execution_count": 145,
      "outputs": []
    },
    {
      "cell_type": "code",
      "metadata": {
        "id": "HEaQpV-Q8m18",
        "colab_type": "code",
        "colab": {
          "base_uri": "https://localhost:8080/",
          "height": 34
        },
        "outputId": "d00e6e39-cb17-47b4-f971-3faee32c21d6"
      },
      "source": [
        "print(X.shape)"
      ],
      "execution_count": 107,
      "outputs": [
        {
          "output_type": "stream",
          "text": [
            "(2000, 128, 128, 3)\n"
          ],
          "name": "stdout"
        }
      ]
    },
    {
      "cell_type": "code",
      "metadata": {
        "id": "ANhpobbhJJNN",
        "colab_type": "code",
        "colab": {}
      },
      "source": [
        "Y = np.asarray(target)"
      ],
      "execution_count": 144,
      "outputs": []
    },
    {
      "cell_type": "code",
      "metadata": {
        "id": "P4fhR5LN8ur-",
        "colab_type": "code",
        "colab": {}
      },
      "source": [
        "import tensorflow as tf"
      ],
      "execution_count": 108,
      "outputs": []
    },
    {
      "cell_type": "code",
      "metadata": {
        "id": "ugN_6UWl8wan",
        "colab_type": "code",
        "colab": {}
      },
      "source": [
        "X = X/255\n",
        "Y = tf.keras.utils.to_categorical(Y, num_classes=2)"
      ],
      "execution_count": 146,
      "outputs": []
    },
    {
      "cell_type": "code",
      "metadata": {
        "id": "AJvWi6ZZI9Om",
        "colab_type": "code",
        "colab": {
          "base_uri": "https://localhost:8080/",
          "height": 34
        },
        "outputId": "82ae2f12-3880-4802-d667-9edb386d58c6"
      },
      "source": [
        "Y.shape"
      ],
      "execution_count": 147,
      "outputs": [
        {
          "output_type": "execute_result",
          "data": {
            "text/plain": [
              "(2000, 2)"
            ]
          },
          "metadata": {
            "tags": []
          },
          "execution_count": 147
        }
      ]
    },
    {
      "cell_type": "code",
      "metadata": {
        "id": "pBiCkhUe8xxf",
        "colab_type": "code",
        "colab": {}
      },
      "source": [
        "np.savez(\"x_images_arrays\", X)\n",
        "np.savez(\"y_numeric_labels\", Y_one_hot)\n",
        "img_random.to_csv(\"img_random.csv\", index=False)"
      ],
      "execution_count": 39,
      "outputs": []
    },
    {
      "cell_type": "code",
      "metadata": {
        "id": "uMx1eLTc80Go",
        "colab_type": "code",
        "colab": {}
      },
      "source": [
        "import keras\n",
        "from keras.models import Sequential, load_model\n",
        "from keras.layers import Dense, Activation, Conv2D, MaxPooling2D, Flatten, Dropout, BatchNormalization\n",
        "from keras.optimizers import SGD\n",
        "from keras import regularizers\n",
        "from keras.callbacks import ModelCheckpoint"
      ],
      "execution_count": 40,
      "outputs": []
    },
    {
      "cell_type": "code",
      "metadata": {
        "id": "BYRVwsN184os",
        "colab_type": "code",
        "colab": {
          "base_uri": "https://localhost:8080/",
          "height": 34
        },
        "outputId": "212e1505-8c58-4e4b-d71b-5504b4319ed3"
      },
      "source": [
        "print(Y.shape)"
      ],
      "execution_count": 113,
      "outputs": [
        {
          "output_type": "stream",
          "text": [
            "(2000, 128, 128, 3)\n"
          ],
          "name": "stdout"
        }
      ]
    },
    {
      "cell_type": "code",
      "metadata": {
        "id": "Yop-xEhPGpYl",
        "colab_type": "code",
        "colab": {
          "base_uri": "https://localhost:8080/",
          "height": 34
        },
        "outputId": "14aa803a-6382-4088-97f0-2c5c0a5eca14"
      },
      "source": [
        "print(Y.shape)"
      ],
      "execution_count": 114,
      "outputs": [
        {
          "output_type": "stream",
          "text": [
            "(2000,)\n"
          ],
          "name": "stdout"
        }
      ]
    },
    {
      "cell_type": "code",
      "metadata": {
        "id": "ldem3ZpFGy1V",
        "colab_type": "code",
        "colab": {
          "base_uri": "https://localhost:8080/",
          "height": 34
        },
        "outputId": "b4a2f10c-d58e-4ac5-8b12-1bdf8511e9bf"
      },
      "source": [
        "print(X_val.shape)"
      ],
      "execution_count": 138,
      "outputs": [
        {
          "output_type": "stream",
          "text": [
            "(1000, 128, 128, 3)\n"
          ],
          "name": "stdout"
        }
      ]
    },
    {
      "cell_type": "code",
      "metadata": {
        "id": "P0YExJj9G1Hm",
        "colab_type": "code",
        "colab": {
          "base_uri": "https://localhost:8080/",
          "height": 34
        },
        "outputId": "d2046ea4-781c-4b94-df78-0bc350de5e4b"
      },
      "source": [
        "print(Y_val.shape)"
      ],
      "execution_count": 139,
      "outputs": [
        {
          "output_type": "stream",
          "text": [
            "(1000, 2)\n"
          ],
          "name": "stdout"
        }
      ]
    },
    {
      "cell_type": "code",
      "metadata": {
        "id": "AZWRexPE86Ft",
        "colab_type": "code",
        "colab": {}
      },
      "source": [
        "input_shape = (X.shape[1], X.shape[2], X.shape[3]) #(128, 128, 3)\n",
        "num_classes = 2\n",
        "\n",
        "model = Sequential()\n",
        "model.add(Conv2D(16, kernel_size=(3, 3), strides=(1, 1), input_shape=input_shape))\n",
        "model.add(Activation('relu'))\n",
        "model.add(MaxPooling2D(pool_size=(2, 2), strides=(2, 2)))\n",
        "model.add(Conv2D(32, (3, 3)))\n",
        "model.add(Activation('relu'))\n",
        "model.add(Conv2D(64, (3, 3)))\n",
        "model.add(Activation('relu'))\n",
        "model.add(Conv2D(128, (3, 3)))\n",
        "model.add(Activation('relu'))\n",
        "model.add(MaxPooling2D(pool_size=(2, 2)))\n",
        "model.add(Dropout(0.7))\n",
        "model.add(Flatten())\n",
        "model.add(Dense(128))\n",
        "model.add(Activation('relu'))\n",
        "model.add(Dropout(0.7))\n",
        "model.add(Dense(num_classes, activation='softmax'))\n",
        "\n",
        "\n",
        "model.compile(optimizer=keras.optimizers.Adam(lr=0.0001, beta_1=0.3, beta_2=0.999, epsilon=None, decay=1e-8, amsgrad=False),\n",
        "              loss='categorical_crossentropy',\n",
        "              metrics=['accuracy'])"
      ],
      "execution_count": 153,
      "outputs": []
    },
    {
      "cell_type": "code",
      "metadata": {
        "id": "FAMPr1uQ89N0",
        "colab_type": "code",
        "colab": {
          "base_uri": "https://localhost:8080/",
          "height": 1000
        },
        "outputId": "0a84a1d1-5f96-47f0-971a-42ef4f372585"
      },
      "source": [
        "best_model_file = \"bird-classifier.h5\"\n",
        "best_model = ModelCheckpoint(best_model_file, monitor='accuracy', verbose=1, save_best_only=True)\n",
        "\n",
        "print('Training model...')\n",
        "results = model.fit(X, Y, epochs=50, batch_size=32, validation_data=(X_val, Y_val), callbacks=[best_model])\n",
        "print('Traing finished.')\n",
        "\n",
        "print('Loading the best model...')\n",
        "model = load_model(best_model_file)\n",
        "print('Best Model loaded!')"
      ],
      "execution_count": 154,
      "outputs": [
        {
          "output_type": "stream",
          "text": [
            "Training model...\n",
            "Epoch 1/50\n",
            " 1/63 [..............................] - ETA: 1s - loss: 0.6892 - accuracy: 0.5312WARNING:tensorflow:Callbacks method `on_train_batch_end` is slow compared to the batch time (batch time: 0.0134s vs `on_train_batch_end` time: 0.0224s). Check your callbacks.\n",
            "63/63 [==============================] - ETA: 0s - loss: 0.7015 - accuracy: 0.5040\n",
            "Epoch 00001: accuracy improved from -inf to 0.50400, saving model to bird-classifier.h5\n",
            "63/63 [==============================] - 3s 45ms/step - loss: 0.7015 - accuracy: 0.5040 - val_loss: 0.6941 - val_accuracy: 0.4820\n",
            "Epoch 2/50\n",
            "61/63 [============================>.] - ETA: 0s - loss: 0.6955 - accuracy: 0.4831\n",
            "Epoch 00002: accuracy did not improve from 0.50400\n",
            "63/63 [==============================] - 2s 33ms/step - loss: 0.6954 - accuracy: 0.4835 - val_loss: 0.6930 - val_accuracy: 0.5010\n",
            "Epoch 3/50\n",
            "61/63 [============================>.] - ETA: 0s - loss: 0.6936 - accuracy: 0.5067\n",
            "Epoch 00003: accuracy improved from 0.50400 to 0.50650, saving model to bird-classifier.h5\n",
            "63/63 [==============================] - 2s 38ms/step - loss: 0.6936 - accuracy: 0.5065 - val_loss: 0.6931 - val_accuracy: 0.4940\n",
            "Epoch 4/50\n",
            "61/63 [============================>.] - ETA: 0s - loss: 0.6914 - accuracy: 0.5353\n",
            "Epoch 00004: accuracy improved from 0.50650 to 0.53400, saving model to bird-classifier.h5\n",
            "63/63 [==============================] - 3s 40ms/step - loss: 0.6914 - accuracy: 0.5340 - val_loss: 0.6935 - val_accuracy: 0.4970\n",
            "Epoch 5/50\n",
            "61/63 [============================>.] - ETA: 0s - loss: 0.6924 - accuracy: 0.5287\n",
            "Epoch 00005: accuracy did not improve from 0.53400\n",
            "63/63 [==============================] - 2s 33ms/step - loss: 0.6924 - accuracy: 0.5295 - val_loss: 0.6930 - val_accuracy: 0.5170\n",
            "Epoch 6/50\n",
            "61/63 [============================>.] - ETA: 0s - loss: 0.6908 - accuracy: 0.5343\n",
            "Epoch 00006: accuracy did not improve from 0.53400\n",
            "63/63 [==============================] - 2s 33ms/step - loss: 0.6909 - accuracy: 0.5330 - val_loss: 0.6936 - val_accuracy: 0.4950\n",
            "Epoch 7/50\n",
            "61/63 [============================>.] - ETA: 0s - loss: 0.6896 - accuracy: 0.5364\n",
            "Epoch 00007: accuracy improved from 0.53400 to 0.53800, saving model to bird-classifier.h5\n",
            "63/63 [==============================] - 2s 39ms/step - loss: 0.6894 - accuracy: 0.5380 - val_loss: 0.6932 - val_accuracy: 0.5080\n",
            "Epoch 8/50\n",
            "61/63 [============================>.] - ETA: 0s - loss: 0.6852 - accuracy: 0.5548\n",
            "Epoch 00008: accuracy improved from 0.53800 to 0.55700, saving model to bird-classifier.h5\n",
            "63/63 [==============================] - 2s 39ms/step - loss: 0.6849 - accuracy: 0.5570 - val_loss: 0.6958 - val_accuracy: 0.4940\n",
            "Epoch 9/50\n",
            "61/63 [============================>.] - ETA: 0s - loss: 0.6817 - accuracy: 0.5620\n",
            "Epoch 00009: accuracy improved from 0.55700 to 0.56100, saving model to bird-classifier.h5\n",
            "63/63 [==============================] - 2s 39ms/step - loss: 0.6822 - accuracy: 0.5610 - val_loss: 0.6943 - val_accuracy: 0.5130\n",
            "Epoch 10/50\n",
            "61/63 [============================>.] - ETA: 0s - loss: 0.6764 - accuracy: 0.5804\n",
            "Epoch 00010: accuracy improved from 0.56100 to 0.58000, saving model to bird-classifier.h5\n",
            "63/63 [==============================] - 2s 39ms/step - loss: 0.6767 - accuracy: 0.5800 - val_loss: 0.6947 - val_accuracy: 0.5230\n",
            "Epoch 11/50\n",
            "61/63 [============================>.] - ETA: 0s - loss: 0.6691 - accuracy: 0.5825\n",
            "Epoch 00011: accuracy improved from 0.58000 to 0.58200, saving model to bird-classifier.h5\n",
            "63/63 [==============================] - 2s 39ms/step - loss: 0.6703 - accuracy: 0.5820 - val_loss: 0.6973 - val_accuracy: 0.5120\n",
            "Epoch 12/50\n",
            "61/63 [============================>.] - ETA: 0s - loss: 0.6655 - accuracy: 0.5989\n",
            "Epoch 00012: accuracy improved from 0.58200 to 0.60100, saving model to bird-classifier.h5\n",
            "63/63 [==============================] - 2s 39ms/step - loss: 0.6647 - accuracy: 0.6010 - val_loss: 0.7056 - val_accuracy: 0.4950\n",
            "Epoch 13/50\n",
            "61/63 [============================>.] - ETA: 0s - loss: 0.6527 - accuracy: 0.6168\n",
            "Epoch 00013: accuracy improved from 0.60100 to 0.61900, saving model to bird-classifier.h5\n",
            "63/63 [==============================] - 2s 40ms/step - loss: 0.6526 - accuracy: 0.6190 - val_loss: 0.7206 - val_accuracy: 0.4930\n",
            "Epoch 14/50\n",
            "61/63 [============================>.] - ETA: 0s - loss: 0.6472 - accuracy: 0.6281\n",
            "Epoch 00014: accuracy improved from 0.61900 to 0.62950, saving model to bird-classifier.h5\n",
            "63/63 [==============================] - 2s 40ms/step - loss: 0.6468 - accuracy: 0.6295 - val_loss: 0.7147 - val_accuracy: 0.4860\n",
            "Epoch 15/50\n",
            "61/63 [============================>.] - ETA: 0s - loss: 0.6382 - accuracy: 0.6373\n",
            "Epoch 00015: accuracy improved from 0.62950 to 0.63400, saving model to bird-classifier.h5\n",
            "63/63 [==============================] - 3s 40ms/step - loss: 0.6396 - accuracy: 0.6340 - val_loss: 0.7159 - val_accuracy: 0.4860\n",
            "Epoch 16/50\n",
            "61/63 [============================>.] - ETA: 0s - loss: 0.6267 - accuracy: 0.6593\n",
            "Epoch 00016: accuracy improved from 0.63400 to 0.65850, saving model to bird-classifier.h5\n",
            "63/63 [==============================] - 3s 40ms/step - loss: 0.6263 - accuracy: 0.6585 - val_loss: 0.7310 - val_accuracy: 0.4970\n",
            "Epoch 17/50\n",
            "61/63 [============================>.] - ETA: 0s - loss: 0.6153 - accuracy: 0.6706\n",
            "Epoch 00017: accuracy improved from 0.65850 to 0.66700, saving model to bird-classifier.h5\n",
            "63/63 [==============================] - 2s 39ms/step - loss: 0.6160 - accuracy: 0.6670 - val_loss: 0.7234 - val_accuracy: 0.5040\n",
            "Epoch 18/50\n",
            "61/63 [============================>.] - ETA: 0s - loss: 0.5889 - accuracy: 0.6916\n",
            "Epoch 00018: accuracy improved from 0.66700 to 0.69250, saving model to bird-classifier.h5\n",
            "63/63 [==============================] - 2s 39ms/step - loss: 0.5888 - accuracy: 0.6925 - val_loss: 0.7371 - val_accuracy: 0.5130\n",
            "Epoch 19/50\n",
            "61/63 [============================>.] - ETA: 0s - loss: 0.5844 - accuracy: 0.6844\n",
            "Epoch 00019: accuracy did not improve from 0.69250\n",
            "63/63 [==============================] - 2s 33ms/step - loss: 0.5841 - accuracy: 0.6860 - val_loss: 0.7584 - val_accuracy: 0.4900\n",
            "Epoch 20/50\n",
            "61/63 [============================>.] - ETA: 0s - loss: 0.5691 - accuracy: 0.7070\n",
            "Epoch 00020: accuracy improved from 0.69250 to 0.70600, saving model to bird-classifier.h5\n",
            "63/63 [==============================] - 2s 39ms/step - loss: 0.5696 - accuracy: 0.7060 - val_loss: 0.7409 - val_accuracy: 0.4880\n",
            "Epoch 21/50\n",
            "61/63 [============================>.] - ETA: 0s - loss: 0.5570 - accuracy: 0.7100\n",
            "Epoch 00021: accuracy improved from 0.70600 to 0.71050, saving model to bird-classifier.h5\n",
            "63/63 [==============================] - 3s 40ms/step - loss: 0.5569 - accuracy: 0.7105 - val_loss: 0.7746 - val_accuracy: 0.4970\n",
            "Epoch 22/50\n",
            "61/63 [============================>.] - ETA: 0s - loss: 0.5390 - accuracy: 0.7239\n",
            "Epoch 00022: accuracy improved from 0.71050 to 0.72350, saving model to bird-classifier.h5\n",
            "63/63 [==============================] - 2s 39ms/step - loss: 0.5387 - accuracy: 0.7235 - val_loss: 0.7783 - val_accuracy: 0.4890\n",
            "Epoch 23/50\n",
            "61/63 [============================>.] - ETA: 0s - loss: 0.5178 - accuracy: 0.7423\n",
            "Epoch 00023: accuracy improved from 0.72350 to 0.74150, saving model to bird-classifier.h5\n",
            "63/63 [==============================] - 2s 39ms/step - loss: 0.5188 - accuracy: 0.7415 - val_loss: 0.8016 - val_accuracy: 0.4930\n",
            "Epoch 24/50\n",
            "61/63 [============================>.] - ETA: 0s - loss: 0.4979 - accuracy: 0.7561\n",
            "Epoch 00024: accuracy improved from 0.74150 to 0.75800, saving model to bird-classifier.h5\n",
            "63/63 [==============================] - 3s 40ms/step - loss: 0.4971 - accuracy: 0.7580 - val_loss: 0.8505 - val_accuracy: 0.5060\n",
            "Epoch 25/50\n",
            "61/63 [============================>.] - ETA: 0s - loss: 0.4875 - accuracy: 0.7679\n",
            "Epoch 00025: accuracy improved from 0.75800 to 0.76900, saving model to bird-classifier.h5\n",
            "63/63 [==============================] - 3s 40ms/step - loss: 0.4877 - accuracy: 0.7690 - val_loss: 0.8239 - val_accuracy: 0.4960\n",
            "Epoch 26/50\n",
            "61/63 [============================>.] - ETA: 0s - loss: 0.4800 - accuracy: 0.7690\n",
            "Epoch 00026: accuracy improved from 0.76900 to 0.77250, saving model to bird-classifier.h5\n",
            "63/63 [==============================] - 3s 40ms/step - loss: 0.4767 - accuracy: 0.7725 - val_loss: 0.8727 - val_accuracy: 0.4900\n",
            "Epoch 27/50\n",
            "61/63 [============================>.] - ETA: 0s - loss: 0.4500 - accuracy: 0.7925\n",
            "Epoch 00027: accuracy improved from 0.77250 to 0.79150, saving model to bird-classifier.h5\n",
            "63/63 [==============================] - 3s 41ms/step - loss: 0.4500 - accuracy: 0.7915 - val_loss: 0.8643 - val_accuracy: 0.5120\n",
            "Epoch 28/50\n",
            "61/63 [============================>.] - ETA: 0s - loss: 0.4301 - accuracy: 0.7971\n",
            "Epoch 00028: accuracy improved from 0.79150 to 0.79750, saving model to bird-classifier.h5\n",
            "63/63 [==============================] - 3s 40ms/step - loss: 0.4302 - accuracy: 0.7975 - val_loss: 0.8925 - val_accuracy: 0.5070\n",
            "Epoch 29/50\n",
            "61/63 [============================>.] - ETA: 0s - loss: 0.4211 - accuracy: 0.8064\n",
            "Epoch 00029: accuracy improved from 0.79750 to 0.80700, saving model to bird-classifier.h5\n",
            "63/63 [==============================] - 4s 68ms/step - loss: 0.4198 - accuracy: 0.8070 - val_loss: 0.9090 - val_accuracy: 0.4880\n",
            "Epoch 30/50\n",
            "61/63 [============================>.] - ETA: 0s - loss: 0.3919 - accuracy: 0.8304\n",
            "Epoch 00030: accuracy improved from 0.80700 to 0.82800, saving model to bird-classifier.h5\n",
            "63/63 [==============================] - 3s 48ms/step - loss: 0.3956 - accuracy: 0.8280 - val_loss: 0.9039 - val_accuracy: 0.4950\n",
            "Epoch 31/50\n",
            "61/63 [============================>.] - ETA: 0s - loss: 0.3857 - accuracy: 0.8289\n",
            "Epoch 00031: accuracy did not improve from 0.82800\n",
            "63/63 [==============================] - 2s 33ms/step - loss: 0.3855 - accuracy: 0.8275 - val_loss: 0.9399 - val_accuracy: 0.4840\n",
            "Epoch 32/50\n",
            "61/63 [============================>.] - ETA: 0s - loss: 0.3663 - accuracy: 0.8525\n",
            "Epoch 00032: accuracy improved from 0.82800 to 0.85250, saving model to bird-classifier.h5\n",
            "63/63 [==============================] - 3s 40ms/step - loss: 0.3664 - accuracy: 0.8525 - val_loss: 0.9356 - val_accuracy: 0.4890\n",
            "Epoch 33/50\n",
            "61/63 [============================>.] - ETA: 0s - loss: 0.3395 - accuracy: 0.8514\n",
            "Epoch 00033: accuracy did not improve from 0.85250\n",
            "63/63 [==============================] - 2s 33ms/step - loss: 0.3404 - accuracy: 0.8505 - val_loss: 1.0159 - val_accuracy: 0.4870\n",
            "Epoch 34/50\n",
            "61/63 [============================>.] - ETA: 0s - loss: 0.3456 - accuracy: 0.8458\n",
            "Epoch 00034: accuracy did not improve from 0.85250\n",
            "63/63 [==============================] - 2s 33ms/step - loss: 0.3455 - accuracy: 0.8465 - val_loss: 0.9999 - val_accuracy: 0.4890\n",
            "Epoch 35/50\n",
            "61/63 [============================>.] - ETA: 0s - loss: 0.3201 - accuracy: 0.8601\n",
            "Epoch 00035: accuracy improved from 0.85250 to 0.85950, saving model to bird-classifier.h5\n",
            "63/63 [==============================] - 3s 40ms/step - loss: 0.3203 - accuracy: 0.8595 - val_loss: 0.9786 - val_accuracy: 0.5030\n",
            "Epoch 36/50\n",
            "61/63 [============================>.] - ETA: 0s - loss: 0.2944 - accuracy: 0.8811\n",
            "Epoch 00036: accuracy improved from 0.85950 to 0.88250, saving model to bird-classifier.h5\n",
            "63/63 [==============================] - 3s 40ms/step - loss: 0.2929 - accuracy: 0.8825 - val_loss: 1.0529 - val_accuracy: 0.4910\n",
            "Epoch 37/50\n",
            "61/63 [============================>.] - ETA: 0s - loss: 0.2841 - accuracy: 0.8878\n",
            "Epoch 00037: accuracy improved from 0.88250 to 0.88700, saving model to bird-classifier.h5\n",
            "63/63 [==============================] - 3s 41ms/step - loss: 0.2851 - accuracy: 0.8870 - val_loss: 1.1140 - val_accuracy: 0.4990\n",
            "Epoch 38/50\n",
            "61/63 [============================>.] - ETA: 0s - loss: 0.2657 - accuracy: 0.8873\n",
            "Epoch 00038: accuracy improved from 0.88700 to 0.88750, saving model to bird-classifier.h5\n",
            "63/63 [==============================] - 3s 41ms/step - loss: 0.2652 - accuracy: 0.8875 - val_loss: 1.1727 - val_accuracy: 0.4860\n",
            "Epoch 39/50\n",
            "61/63 [============================>.] - ETA: 0s - loss: 0.2623 - accuracy: 0.8991\n",
            "Epoch 00039: accuracy improved from 0.88750 to 0.89900, saving model to bird-classifier.h5\n",
            "63/63 [==============================] - 4s 70ms/step - loss: 0.2628 - accuracy: 0.8990 - val_loss: 1.1109 - val_accuracy: 0.4890\n",
            "Epoch 40/50\n",
            "61/63 [============================>.] - ETA: 0s - loss: 0.2303 - accuracy: 0.9083\n",
            "Epoch 00040: accuracy improved from 0.89900 to 0.90700, saving model to bird-classifier.h5\n",
            "63/63 [==============================] - 3s 52ms/step - loss: 0.2317 - accuracy: 0.9070 - val_loss: 1.2483 - val_accuracy: 0.4980\n",
            "Epoch 41/50\n",
            "61/63 [============================>.] - ETA: 0s - loss: 0.2430 - accuracy: 0.9057\n",
            "Epoch 00041: accuracy did not improve from 0.90700\n",
            "63/63 [==============================] - 2s 34ms/step - loss: 0.2434 - accuracy: 0.9055 - val_loss: 1.2083 - val_accuracy: 0.4850\n",
            "Epoch 42/50\n",
            "61/63 [============================>.] - ETA: 0s - loss: 0.2197 - accuracy: 0.9175\n",
            "Epoch 00042: accuracy improved from 0.90700 to 0.91700, saving model to bird-classifier.h5\n",
            "63/63 [==============================] - 4s 63ms/step - loss: 0.2200 - accuracy: 0.9170 - val_loss: 1.2224 - val_accuracy: 0.4920\n",
            "Epoch 43/50\n",
            "61/63 [============================>.] - ETA: 0s - loss: 0.2108 - accuracy: 0.9211\n",
            "Epoch 00043: accuracy improved from 0.91700 to 0.92050, saving model to bird-classifier.h5\n",
            "63/63 [==============================] - 3s 42ms/step - loss: 0.2118 - accuracy: 0.9205 - val_loss: 1.2120 - val_accuracy: 0.4870\n",
            "Epoch 44/50\n",
            "61/63 [============================>.] - ETA: 0s - loss: 0.2001 - accuracy: 0.9278\n",
            "Epoch 00044: accuracy improved from 0.92050 to 0.92800, saving model to bird-classifier.h5\n",
            "63/63 [==============================] - 3s 42ms/step - loss: 0.1990 - accuracy: 0.9280 - val_loss: 1.2927 - val_accuracy: 0.5050\n",
            "Epoch 45/50\n",
            "61/63 [============================>.] - ETA: 0s - loss: 0.1824 - accuracy: 0.9298\n",
            "Epoch 00045: accuracy improved from 0.92800 to 0.93050, saving model to bird-classifier.h5\n",
            "63/63 [==============================] - 4s 71ms/step - loss: 0.1816 - accuracy: 0.9305 - val_loss: 1.3029 - val_accuracy: 0.4950\n",
            "Epoch 46/50\n",
            "61/63 [============================>.] - ETA: 0s - loss: 0.1828 - accuracy: 0.9339\n",
            "Epoch 00046: accuracy improved from 0.93050 to 0.93400, saving model to bird-classifier.h5\n",
            "63/63 [==============================] - 3s 50ms/step - loss: 0.1821 - accuracy: 0.9340 - val_loss: 1.3949 - val_accuracy: 0.4970\n",
            "Epoch 47/50\n",
            "61/63 [============================>.] - ETA: 0s - loss: 0.1766 - accuracy: 0.9308\n",
            "Epoch 00047: accuracy did not improve from 0.93400\n",
            "63/63 [==============================] - 2s 33ms/step - loss: 0.1765 - accuracy: 0.9305 - val_loss: 1.3749 - val_accuracy: 0.5020\n",
            "Epoch 48/50\n",
            "61/63 [============================>.] - ETA: 0s - loss: 0.1613 - accuracy: 0.9452\n",
            "Epoch 00048: accuracy improved from 0.93400 to 0.94600, saving model to bird-classifier.h5\n",
            "63/63 [==============================] - 3s 42ms/step - loss: 0.1603 - accuracy: 0.9460 - val_loss: 1.4547 - val_accuracy: 0.4990\n",
            "Epoch 49/50\n",
            "61/63 [============================>.] - ETA: 0s - loss: 0.1534 - accuracy: 0.9436\n",
            "Epoch 00049: accuracy did not improve from 0.94600\n",
            "63/63 [==============================] - 2s 33ms/step - loss: 0.1575 - accuracy: 0.9420 - val_loss: 1.3915 - val_accuracy: 0.5010\n",
            "Epoch 50/50\n",
            "61/63 [============================>.] - ETA: 0s - loss: 0.1658 - accuracy: 0.9467\n",
            "Epoch 00050: accuracy improved from 0.94600 to 0.94750, saving model to bird-classifier.h5\n",
            "63/63 [==============================] - 3s 41ms/step - loss: 0.1644 - accuracy: 0.9475 - val_loss: 1.4031 - val_accuracy: 0.4970\n",
            "Traing finished.\n",
            "Loading the best model...\n",
            "Best Model loaded!\n"
          ],
          "name": "stdout"
        }
      ]
    }
  ]
}