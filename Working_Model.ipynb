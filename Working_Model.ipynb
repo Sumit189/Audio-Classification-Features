{
  "nbformat": 4,
  "nbformat_minor": 0,
  "metadata": {
    "colab": {
      "name": "Working Model.ipynb",
      "provenance": [],
      "collapsed_sections": [],
      "toc_visible": true
    },
    "kernelspec": {
      "name": "python3",
      "display_name": "Python 3"
    },
    "accelerator": "GPU"
  },
  "cells": [
    {
      "cell_type": "code",
      "metadata": {
        "id": "4x85-gq7vvgG",
        "outputId": "302dfbcb-9876-4243-a07e-93441fbf35af",
        "colab": {
          "base_uri": "https://localhost:8080/",
          "height": 185
        }
      },
      "source": [
        "!git clone \"https://github.com/ChVimal/dove-classifier\"\n",
        "%cd dove-classifier\n",
        "!bash join.bash\n",
        "!rm -rf *.bash .git\n",
        "%cd .."
      ],
      "execution_count": null,
      "outputs": [
        {
          "output_type": "stream",
          "text": [
            "Cloning into 'dove-classifier'...\n",
            "remote: Enumerating objects: 26, done.\u001b[K\n",
            "remote: Counting objects: 100% (26/26), done.\u001b[K\n",
            "remote: Compressing objects: 100% (26/26), done.\u001b[K\n",
            "remote: Total 4355 (delta 10), reused 2 (delta 0), pack-reused 4329\u001b[K\n",
            "Receiving objects: 100% (4355/4355), 3.48 GiB | 33.00 MiB/s, done.\n",
            "Resolving deltas: 100% (63/63), done.\n",
            "Checking out files: 100% (4285/4285), done.\n",
            "/content/dove-classifier\n",
            "/content\n"
          ],
          "name": "stdout"
        }
      ]
    },
    {
      "cell_type": "code",
      "metadata": {
        "id": "6pAK9pR6wJZB",
        "outputId": "04ad9ab3-0eec-4200-edb4-b65b74c2bb5e",
        "colab": {
          "base_uri": "https://localhost:8080/",
          "height": 202
        }
      },
      "source": [
        "!git clone \"https://github.com/ChVimal/bird-sounds\"\n",
        "%cd bird-sounds\n",
        "!bash join.bash\n",
        "!rm *.bash .git\n",
        "%cd .."
      ],
      "execution_count": null,
      "outputs": [
        {
          "output_type": "stream",
          "text": [
            "Cloning into 'bird-sounds'...\n",
            "remote: Enumerating objects: 18, done.\u001b[K\n",
            "remote: Counting objects: 100% (18/18), done.\u001b[K\n",
            "remote: Compressing objects: 100% (18/18), done.\u001b[K\n",
            "remote: Total 3198 (delta 6), reused 0 (delta 0), pack-reused 3180\u001b[K\n",
            "Receiving objects: 100% (3198/3198), 2.72 GiB | 33.69 MiB/s, done.\n",
            "Resolving deltas: 100% (20/20), done.\n",
            "Checking out files: 100% (3167/3167), done.\n",
            "/content/bird-sounds\n",
            "rm: cannot remove '.git': Is a directory\n",
            "/content\n"
          ],
          "name": "stdout"
        }
      ]
    },
    {
      "cell_type": "code",
      "metadata": {
        "id": "LV8FCtP0zX38"
      },
      "source": [
        "!rm -rf other/.git/"
      ],
      "execution_count": null,
      "outputs": []
    },
    {
      "cell_type": "code",
      "metadata": {
        "id": "LG1GP8h6OVrp"
      },
      "source": [
        "#renaming folder to Dove and Other"
      ],
      "execution_count": null,
      "outputs": []
    },
    {
      "cell_type": "code",
      "metadata": {
        "id": "QwTvJ5sNOp4p"
      },
      "source": [
        "#Keeping only 200 audios"
      ],
      "execution_count": null,
      "outputs": []
    },
    {
      "cell_type": "code",
      "metadata": {
        "id": "zd4KF6euzMqG"
      },
      "source": [
        "import os"
      ],
      "execution_count": null,
      "outputs": []
    },
    {
      "cell_type": "code",
      "metadata": {
        "id": "YDaMwNnwOnue"
      },
      "source": [
        "i=1\n",
        "for r,d,f in os.walk('dove/'):\n",
        "  for file in f:\n",
        "    if(i>200):\n",
        "      os.remove(r+file)\n",
        "    i+=1"
      ],
      "execution_count": null,
      "outputs": []
    },
    {
      "cell_type": "code",
      "metadata": {
        "id": "dqmieyMjy56R"
      },
      "source": [
        "i=1\n",
        "for r,d,f in os.walk('other/'):\n",
        "  for file in f:\n",
        "    if(i>200):\n",
        "      os.remove(r+file)\n",
        "    i+=1"
      ],
      "execution_count": null,
      "outputs": []
    },
    {
      "cell_type": "code",
      "metadata": {
        "id": "Dxm2pAlKy1ZP",
        "outputId": "5c7b05a2-9cb1-407e-8615-ad5a5ae04af5",
        "colab": {
          "base_uri": "https://localhost:8080/",
          "height": 34
        }
      },
      "source": [
        "!ls other/ | wc -l"
      ],
      "execution_count": null,
      "outputs": [
        {
          "output_type": "stream",
          "text": [
            "200\n"
          ],
          "name": "stdout"
        }
      ]
    },
    {
      "cell_type": "code",
      "metadata": {
        "id": "M1cPgYmMKQ5q",
        "outputId": "1635e382-bf5b-47b7-a9e8-57a0d9d87fc6",
        "colab": {
          "base_uri": "https://localhost:8080/",
          "height": 104
        }
      },
      "source": [
        "!pip install pydub"
      ],
      "execution_count": null,
      "outputs": [
        {
          "output_type": "stream",
          "text": [
            "Collecting pydub\n",
            "  Downloading https://files.pythonhosted.org/packages/7b/d1/fbfa79371a8cd9bb15c2e3c480d7e6e340ed5cc55005174e16f48418333a/pydub-0.24.1-py2.py3-none-any.whl\n",
            "Installing collected packages: pydub\n",
            "Successfully installed pydub-0.24.1\n"
          ],
          "name": "stdout"
        }
      ]
    },
    {
      "cell_type": "code",
      "metadata": {
        "id": "DAp5ld6KKSdJ"
      },
      "source": [
        "from os import path\n",
        "from pydub import AudioSegment"
      ],
      "execution_count": null,
      "outputs": []
    },
    {
      "cell_type": "code",
      "metadata": {
        "id": "64tRQD38KV8f"
      },
      "source": [
        "path='dove/'\n",
        "for r,d,f in os.walk(path):\n",
        "  for file in f:\n",
        "    file_name=file.split('.')\n",
        "    src = r+file\n",
        "    dst = r+file_name[0]+\".wav\"                                                       \n",
        "    sound = AudioSegment.from_mp3(src)\n",
        "    sound.export(dst, format=\"wav\")\n",
        "    os.remove(r+file)"
      ],
      "execution_count": null,
      "outputs": []
    },
    {
      "cell_type": "code",
      "metadata": {
        "id": "80mtKNyQOZpy"
      },
      "source": [
        "path='other/'\n",
        "for r,d,f in os.walk(path):\n",
        "  for file in f:\n",
        "    file_name=file.split('.')\n",
        "    src = r+file\n",
        "    dst = r+file_name[0]+\".wav\"                                                       \n",
        "    sound = AudioSegment.from_mp3(src)\n",
        "    sound.export(dst, format=\"wav\")\n",
        "    os.remove(r+file)"
      ],
      "execution_count": null,
      "outputs": []
    },
    {
      "cell_type": "code",
      "metadata": {
        "id": "sbLJf18jOdQZ",
        "outputId": "c4ca097f-6928-464b-bd4c-f93ac3dd3c00",
        "colab": {
          "base_uri": "https://localhost:8080/",
          "height": 34
        }
      },
      "source": [
        "!ls dove/ | wc -l"
      ],
      "execution_count": null,
      "outputs": [
        {
          "output_type": "stream",
          "text": [
            "200\n"
          ],
          "name": "stdout"
        }
      ]
    },
    {
      "cell_type": "code",
      "metadata": {
        "id": "vkvyAZ6H0K_A",
        "outputId": "d3f28630-898b-4143-9e3b-8b73a9a8bea2",
        "colab": {
          "base_uri": "https://localhost:8080/",
          "height": 34
        }
      },
      "source": [
        "!ls other/ | wc -l"
      ],
      "execution_count": null,
      "outputs": [
        {
          "output_type": "stream",
          "text": [
            "200\n"
          ],
          "name": "stdout"
        }
      ]
    },
    {
      "cell_type": "code",
      "metadata": {
        "id": "l2t-WRfVIWFk"
      },
      "source": [
        "import pandas as pd"
      ],
      "execution_count": null,
      "outputs": []
    },
    {
      "cell_type": "code",
      "metadata": {
        "id": "rP9TOCrpIYMa"
      },
      "source": [
        "import os\n",
        "i=0\n",
        "f_name=[]\n",
        "label=[]\n",
        "path='/content/dove/'\n",
        "for r,d,f in os.walk(path):\n",
        "  for file in f:\n",
        "    f_name.append(file)\n",
        "    label.append('dove')"
      ],
      "execution_count": null,
      "outputs": []
    },
    {
      "cell_type": "code",
      "metadata": {
        "id": "8eZJEOZoIm7Z"
      },
      "source": [
        "path='/content/other/'\n",
        "for r,d,f in os.walk(path):\n",
        "  for file in f:\n",
        "    f_name.append(file)\n",
        "    label.append('other')"
      ],
      "execution_count": null,
      "outputs": []
    },
    {
      "cell_type": "code",
      "metadata": {
        "id": "8BUt4Tm-Isf9"
      },
      "source": [
        "df= pd.DataFrame(list(zip(f_name,label)), \n",
        "               columns =['fname','label']) "
      ],
      "execution_count": null,
      "outputs": []
    },
    {
      "cell_type": "code",
      "metadata": {
        "id": "J9udiCtMI_1z",
        "outputId": "6ad2e0bb-7105-42da-f0e4-f45349844362",
        "colab": {
          "base_uri": "https://localhost:8080/",
          "height": 402
        }
      },
      "source": [
        "df"
      ],
      "execution_count": null,
      "outputs": [
        {
          "output_type": "execute_result",
          "data": {
            "text/html": [
              "<div>\n",
              "<style scoped>\n",
              "    .dataframe tbody tr th:only-of-type {\n",
              "        vertical-align: middle;\n",
              "    }\n",
              "\n",
              "    .dataframe tbody tr th {\n",
              "        vertical-align: top;\n",
              "    }\n",
              "\n",
              "    .dataframe thead th {\n",
              "        text-align: right;\n",
              "    }\n",
              "</style>\n",
              "<table border=\"1\" class=\"dataframe\">\n",
              "  <thead>\n",
              "    <tr style=\"text-align: right;\">\n",
              "      <th></th>\n",
              "      <th>fname</th>\n",
              "      <th>label</th>\n",
              "    </tr>\n",
              "  </thead>\n",
              "  <tbody>\n",
              "    <tr>\n",
              "      <th>0</th>\n",
              "      <td>214702_XC214702-barred-cuckoo-dove1.wav</td>\n",
              "      <td>dove</td>\n",
              "    </tr>\n",
              "    <tr>\n",
              "      <th>1</th>\n",
              "      <td>116404_XC116404-magna_sept%202009_Pantar-FV.wav</td>\n",
              "      <td>dove</td>\n",
              "    </tr>\n",
              "    <tr>\n",
              "      <th>2</th>\n",
              "      <td>568844_XC568844-200615-004_N6_19h51_Sturtur.wav</td>\n",
              "      <td>dove</td>\n",
              "    </tr>\n",
              "    <tr>\n",
              "      <th>3</th>\n",
              "      <td>85433_TARMAJ17.wav</td>\n",
              "      <td>dove</td>\n",
              "    </tr>\n",
              "    <tr>\n",
              "      <th>4</th>\n",
              "      <td>486909_XC486909-YerutiComun.wav</td>\n",
              "      <td>dove</td>\n",
              "    </tr>\n",
              "    <tr>\n",
              "      <th>...</th>\n",
              "      <td>...</td>\n",
              "      <td>...</td>\n",
              "    </tr>\n",
              "    <tr>\n",
              "      <th>395</th>\n",
              "      <td>415068_XC415068-Default%20Project.wav</td>\n",
              "      <td>other</td>\n",
              "    </tr>\n",
              "    <tr>\n",
              "      <th>396</th>\n",
              "      <td>384049_XC384049-GMCLAC_6176-FRaven.wav</td>\n",
              "      <td>other</td>\n",
              "    </tr>\n",
              "    <tr>\n",
              "      <th>397</th>\n",
              "      <td>196420_XC196420-Spilornis_rufipectus_nom-FL%20...</td>\n",
              "      <td>other</td>\n",
              "    </tr>\n",
              "    <tr>\n",
              "      <th>398</th>\n",
              "      <td>398513_XC398513-141025_0178_EasternChanting_Ts...</td>\n",
              "      <td>other</td>\n",
              "    </tr>\n",
              "    <tr>\n",
              "      <th>399</th>\n",
              "      <td>512898_XC512898-Mute%20Swan%2C%2023.wav</td>\n",
              "      <td>other</td>\n",
              "    </tr>\n",
              "  </tbody>\n",
              "</table>\n",
              "<p>400 rows × 2 columns</p>\n",
              "</div>"
            ],
            "text/plain": [
              "                                                 fname  label\n",
              "0              214702_XC214702-barred-cuckoo-dove1.wav   dove\n",
              "1      116404_XC116404-magna_sept%202009_Pantar-FV.wav   dove\n",
              "2      568844_XC568844-200615-004_N6_19h51_Sturtur.wav   dove\n",
              "3                                   85433_TARMAJ17.wav   dove\n",
              "4                      486909_XC486909-YerutiComun.wav   dove\n",
              "..                                                 ...    ...\n",
              "395              415068_XC415068-Default%20Project.wav  other\n",
              "396             384049_XC384049-GMCLAC_6176-FRaven.wav  other\n",
              "397  196420_XC196420-Spilornis_rufipectus_nom-FL%20...  other\n",
              "398  398513_XC398513-141025_0178_EasternChanting_Ts...  other\n",
              "399            512898_XC512898-Mute%20Swan%2C%2023.wav  other\n",
              "\n",
              "[400 rows x 2 columns]"
            ]
          },
          "metadata": {
            "tags": []
          },
          "execution_count": 24
        }
      ]
    },
    {
      "cell_type": "code",
      "metadata": {
        "id": "l-BZTveDQ038"
      },
      "source": [
        "!mkdir dataset"
      ],
      "execution_count": null,
      "outputs": []
    },
    {
      "cell_type": "code",
      "metadata": {
        "id": "DZ5D__LzQ4Jk"
      },
      "source": [
        "!cp -r dove/* dataset/"
      ],
      "execution_count": null,
      "outputs": []
    },
    {
      "cell_type": "code",
      "metadata": {
        "id": "fyeii0r9Q9K4",
        "outputId": "ac26887b-c49f-45c5-a51c-d4665afd2cb5",
        "colab": {
          "base_uri": "https://localhost:8080/",
          "height": 34
        }
      },
      "source": [
        "!ls dataset/ | wc -l"
      ],
      "execution_count": null,
      "outputs": [
        {
          "output_type": "stream",
          "text": [
            "200\n"
          ],
          "name": "stdout"
        }
      ]
    },
    {
      "cell_type": "code",
      "metadata": {
        "id": "qu8gIkChQ_Pe"
      },
      "source": [
        "!cp -r other/* dataset/"
      ],
      "execution_count": null,
      "outputs": []
    },
    {
      "cell_type": "code",
      "metadata": {
        "id": "Y29itXjoRD38",
        "outputId": "9523d384-6a1d-478d-c6f5-8ece7a2616e4",
        "colab": {
          "base_uri": "https://localhost:8080/",
          "height": 34
        }
      },
      "source": [
        "!ls dataset/ | wc -l"
      ],
      "execution_count": null,
      "outputs": [
        {
          "output_type": "stream",
          "text": [
            "400\n"
          ],
          "name": "stdout"
        }
      ]
    },
    {
      "cell_type": "code",
      "metadata": {
        "id": "CyjO7c_vExoF",
        "outputId": "41ff5cf1-cb5a-4a94-9ae9-8008263a3b60",
        "colab": {
          "base_uri": "https://localhost:8080/",
          "height": 188
        }
      },
      "source": [
        "!pip install python_speech_features"
      ],
      "execution_count": null,
      "outputs": [
        {
          "output_type": "stream",
          "text": [
            "Collecting python_speech_features\n",
            "  Downloading https://files.pythonhosted.org/packages/ff/d1/94c59e20a2631985fbd2124c45177abaa9e0a4eee8ba8a305aa26fc02a8e/python_speech_features-0.6.tar.gz\n",
            "Building wheels for collected packages: python-speech-features\n",
            "  Building wheel for python-speech-features (setup.py) ... \u001b[?25l\u001b[?25hdone\n",
            "  Created wheel for python-speech-features: filename=python_speech_features-0.6-cp36-none-any.whl size=5887 sha256=a50e179c8af380280520296271a7b2d6bb2d267b5f0e0206cc1f513ab2ad7dff\n",
            "  Stored in directory: /root/.cache/pip/wheels/3c/42/7c/f60e9d1b40015cd69b213ad90f7c18a9264cd745b9888134be\n",
            "Successfully built python-speech-features\n",
            "Installing collected packages: python-speech-features\n",
            "Successfully installed python-speech-features-0.6\n"
          ],
          "name": "stdout"
        }
      ]
    },
    {
      "cell_type": "code",
      "metadata": {
        "id": "i_LfYiINr1eo"
      },
      "source": [
        "import os\n",
        "from tqdm import tqdm\n",
        "import pandas as pd\n",
        "import numpy as np\n",
        "import matplotlib.pyplot as plt\n",
        "from scipy.io import wavfile\n",
        "from python_speech_features import mfcc, logfbank\n",
        "import librosa\n",
        "from keras.utils import to_categorical\n",
        "from keras.layers import Conv2D,MaxPooling2D,Flatten,LSTM\n",
        "from keras.layers import Dropout, Dense, TimeDistributed\n",
        "from keras.models import Sequential\n",
        "from keras.callbacks import ModelCheckpoint"
      ],
      "execution_count": null,
      "outputs": []
    },
    {
      "cell_type": "code",
      "metadata": {
        "id": "__5thAHhgfDe"
      },
      "source": [
        "def envelope(y,rate, threshold):\n",
        "  mask=[]\n",
        "  y = pd.Series(y).apply(np.abs)\n",
        "  y_mean=y.rolling(window=int(rate/10), min_periods=1, center=True).mean()\n",
        "  for mean in y_mean:\n",
        "    if mean>threshold:\n",
        "      mask.append(True)\n",
        "    else:\n",
        "      mask.append(False)\n",
        "  return mask"
      ],
      "execution_count": null,
      "outputs": []
    },
    {
      "cell_type": "code",
      "metadata": {
        "id": "UCMggby3FfAE"
      },
      "source": [
        "df.set_index('fname',inplace=True)"
      ],
      "execution_count": null,
      "outputs": []
    },
    {
      "cell_type": "code",
      "metadata": {
        "id": "FuR-jtwqJPUF"
      },
      "source": [
        "for f in df.index:\n",
        "  rate, signal =  wavfile.read('dataset/'+f)\n",
        "  df.at[f, 'length'] = signal.shape[0]/rate"
      ],
      "execution_count": null,
      "outputs": []
    },
    {
      "cell_type": "code",
      "metadata": {
        "id": "CHKW9FvLJ-vT",
        "outputId": "0e076eb1-d4a1-40e3-f948-9815e463494d",
        "colab": {
          "base_uri": "https://localhost:8080/",
          "height": 431
        }
      },
      "source": [
        "df"
      ],
      "execution_count": null,
      "outputs": [
        {
          "output_type": "execute_result",
          "data": {
            "text/html": [
              "<div>\n",
              "<style scoped>\n",
              "    .dataframe tbody tr th:only-of-type {\n",
              "        vertical-align: middle;\n",
              "    }\n",
              "\n",
              "    .dataframe tbody tr th {\n",
              "        vertical-align: top;\n",
              "    }\n",
              "\n",
              "    .dataframe thead th {\n",
              "        text-align: right;\n",
              "    }\n",
              "</style>\n",
              "<table border=\"1\" class=\"dataframe\">\n",
              "  <thead>\n",
              "    <tr style=\"text-align: right;\">\n",
              "      <th></th>\n",
              "      <th>label</th>\n",
              "      <th>length</th>\n",
              "    </tr>\n",
              "    <tr>\n",
              "      <th>fname</th>\n",
              "      <th></th>\n",
              "      <th></th>\n",
              "    </tr>\n",
              "  </thead>\n",
              "  <tbody>\n",
              "    <tr>\n",
              "      <th>214702_XC214702-barred-cuckoo-dove1.wav</th>\n",
              "      <td>dove</td>\n",
              "      <td>23.863729</td>\n",
              "    </tr>\n",
              "    <tr>\n",
              "      <th>116404_XC116404-magna_sept%202009_Pantar-FV.wav</th>\n",
              "      <td>dove</td>\n",
              "      <td>50.155102</td>\n",
              "    </tr>\n",
              "    <tr>\n",
              "      <th>568844_XC568844-200615-004_N6_19h51_Sturtur.wav</th>\n",
              "      <td>dove</td>\n",
              "      <td>74.771338</td>\n",
              "    </tr>\n",
              "    <tr>\n",
              "      <th>85433_TARMAJ17.wav</th>\n",
              "      <td>dove</td>\n",
              "      <td>43.755102</td>\n",
              "    </tr>\n",
              "    <tr>\n",
              "      <th>486909_XC486909-YerutiComun.wav</th>\n",
              "      <td>dove</td>\n",
              "      <td>81.380000</td>\n",
              "    </tr>\n",
              "    <tr>\n",
              "      <th>...</th>\n",
              "      <td>...</td>\n",
              "      <td>...</td>\n",
              "    </tr>\n",
              "    <tr>\n",
              "      <th>415068_XC415068-Default%20Project.wav</th>\n",
              "      <td>other</td>\n",
              "      <td>39.464792</td>\n",
              "    </tr>\n",
              "    <tr>\n",
              "      <th>384049_XC384049-GMCLAC_6176-FRaven.wav</th>\n",
              "      <td>other</td>\n",
              "      <td>24.313021</td>\n",
              "    </tr>\n",
              "    <tr>\n",
              "      <th>196420_XC196420-Spilornis_rufipectus_nom-FL%20flight%20Tambun%2020Aug14%208.wav</th>\n",
              "      <td>other</td>\n",
              "      <td>30.014694</td>\n",
              "    </tr>\n",
              "    <tr>\n",
              "      <th>398513_XC398513-141025_0178_EasternChanting_TsavoWest_25Oct15_1009.wav</th>\n",
              "      <td>other</td>\n",
              "      <td>94.086939</td>\n",
              "    </tr>\n",
              "    <tr>\n",
              "      <th>512898_XC512898-Mute%20Swan%2C%2023.wav</th>\n",
              "      <td>other</td>\n",
              "      <td>11.601500</td>\n",
              "    </tr>\n",
              "  </tbody>\n",
              "</table>\n",
              "<p>400 rows × 2 columns</p>\n",
              "</div>"
            ],
            "text/plain": [
              "                                                    label     length\n",
              "fname                                                               \n",
              "214702_XC214702-barred-cuckoo-dove1.wav              dove  23.863729\n",
              "116404_XC116404-magna_sept%202009_Pantar-FV.wav      dove  50.155102\n",
              "568844_XC568844-200615-004_N6_19h51_Sturtur.wav      dove  74.771338\n",
              "85433_TARMAJ17.wav                                   dove  43.755102\n",
              "486909_XC486909-YerutiComun.wav                      dove  81.380000\n",
              "...                                                   ...        ...\n",
              "415068_XC415068-Default%20Project.wav               other  39.464792\n",
              "384049_XC384049-GMCLAC_6176-FRaven.wav              other  24.313021\n",
              "196420_XC196420-Spilornis_rufipectus_nom-FL%20f...  other  30.014694\n",
              "398513_XC398513-141025_0178_EasternChanting_Tsa...  other  94.086939\n",
              "512898_XC512898-Mute%20Swan%2C%2023.wav             other  11.601500\n",
              "\n",
              "[400 rows x 2 columns]"
            ]
          },
          "metadata": {
            "tags": []
          },
          "execution_count": 35
        }
      ]
    },
    {
      "cell_type": "code",
      "metadata": {
        "id": "YrlmEQQ8J_hF"
      },
      "source": [
        "classes= list(np.unique(df.label))"
      ],
      "execution_count": null,
      "outputs": []
    },
    {
      "cell_type": "code",
      "metadata": {
        "id": "GrY0UymgRp0o"
      },
      "source": [
        "class_dist = df.groupby(['label'])['length'].mean()"
      ],
      "execution_count": null,
      "outputs": []
    },
    {
      "cell_type": "code",
      "metadata": {
        "id": "X7hyGa0xR1e1",
        "outputId": "d04a6369-c4f5-4e81-f170-a7a45138a0a7",
        "colab": {
          "base_uri": "https://localhost:8080/",
          "height": 84
        }
      },
      "source": [
        "class_dist"
      ],
      "execution_count": null,
      "outputs": [
        {
          "output_type": "execute_result",
          "data": {
            "text/plain": [
              "label\n",
              "dove     41.269994\n",
              "other    39.582056\n",
              "Name: length, dtype: float64"
            ]
          },
          "metadata": {
            "tags": []
          },
          "execution_count": 38
        }
      ]
    },
    {
      "cell_type": "code",
      "metadata": {
        "id": "GSJkcnfVR2ys"
      },
      "source": [
        ""
      ],
      "execution_count": null,
      "outputs": []
    },
    {
      "cell_type": "code",
      "metadata": {
        "id": "op-k3hYFR-2t",
        "outputId": "7c1908d1-bbe4-4b0e-f31e-4ddc481ab270",
        "colab": {
          "base_uri": "https://localhost:8080/",
          "height": 282
        }
      },
      "source": [
        "fig,ax = plt.subplots()\n",
        "ax.set_title('Class Distribution',y=1.08)\n",
        "ax.pie(class_dist,labels=class_dist.index,autopct='%1.1f%%',\n",
        "       shadow=False, startangle=90)\n",
        "ax.axis('equal')\n",
        "plt.show()\n",
        "df.reset_index(inplace=True)"
      ],
      "execution_count": null,
      "outputs": [
        {
          "output_type": "display_data",
          "data": {
            "image/png": "[encoded data removed]",
            "text/plain": [
              "<Figure size 432x288 with 1 Axes>"
            ]
          },
          "metadata": {
            "tags": []
          }
        }
      ]
    },
    {
      "cell_type": "code",
      "metadata": {
        "id": "Zx9ghegHTHH4"
      },
      "source": [
        "!mkdir clean"
      ],
      "execution_count": null,
      "outputs": []
    },
    {
      "cell_type": "code",
      "metadata": {
        "id": "nqg3C9cVVhzA"
      },
      "source": [
        "import numpy as np"
      ],
      "execution_count": null,
      "outputs": []
    },
    {
      "cell_type": "code",
      "metadata": {
        "id": "MjtDNw4GVSIu"
      },
      "source": [
        "def calc_fft(y,rate):\n",
        "  n = len(y)\n",
        "  freq = np.fft.rfftfreq(n, d=1/rate)\n",
        "  Y = abs(np.fft.rfft(y)/n)\n",
        "  return (Y, freq)\n"
      ],
      "execution_count": null,
      "outputs": []
    },
    {
      "cell_type": "code",
      "metadata": {
        "id": "GsE-K04nSa8G"
      },
      "source": [
        "signals= {}\n",
        "fft = {}\n",
        "fbank ={}\n",
        "mfccs = {}\n",
        "for c in classes:\n",
        "  wav_file = df[df.label == c].iloc[0,0]\n",
        "  signal, rate = librosa.load('dataset/'+wav_file, sr=44100)\n",
        "  mask=envelope(signal,rate, 0.0005)\n",
        "  signal=signal[mask]\n",
        "  signals[c] = signal\n",
        "  fft[c] = calc_fft(signal, rate)\n",
        "  \n",
        "  bank = logfbank(signal[:rate],rate,nfilt=26,nfft=1103).T\n",
        "  fbank[c]=bank\n",
        "  mel=mfcc(signal[:rate],rate,numcep=13, nfilt=26, nfft=1103).T\n",
        "  mfccs[c]=mel"
      ],
      "execution_count": null,
      "outputs": []
    },
    {
      "cell_type": "code",
      "metadata": {
        "id": "9m4qhzFLfC6D",
        "outputId": "7ef3ee8e-6815-47dc-bb1f-15dddcc26eba",
        "colab": {
          "base_uri": "https://localhost:8080/",
          "height": 34
        }
      },
      "source": [
        "#Downsampling\n",
        "if len(os.listdir('clean')) ==0:\n",
        "  for f in tqdm(df.fname):\n",
        "    signal, rate=librosa.load('dataset/'+f,sr=16000)\n",
        "    mask=envelope(signal,rate,0.0005)\n",
        "    wavfile.write(filename='clean/'+f,rate=rate,data=signal[mask])"
      ],
      "execution_count": null,
      "outputs": [
        {
          "output_type": "stream",
          "text": [
            "100%|██████████| 400/400 [14:08<00:00,  2.12s/it]\n"
          ],
          "name": "stderr"
        }
      ]
    },
    {
      "cell_type": "markdown",
      "metadata": {
        "id": "UbOwoekB0-6c"
      },
      "source": [
        "#Modeling"
      ]
    },
    {
      "cell_type": "code",
      "metadata": {
        "id": "6-jRN-t_102U"
      },
      "source": [
        "!mkdir models\n",
        "!mkdir pickles"
      ],
      "execution_count": null,
      "outputs": []
    },
    {
      "cell_type": "code",
      "metadata": {
        "id": "3hGnL1tPm0Vq"
      },
      "source": [
        "n_samples=2*int(df['length'].sum()/0.1)\n",
        "prob_dist=class_dist/class_dist.sum()\n",
        "choices=np.random.choice(class_dist.index,p = prob_dist)"
      ],
      "execution_count": null,
      "outputs": []
    },
    {
      "cell_type": "code",
      "metadata": {
        "id": "N01172ZvnMmd",
        "outputId": "bfb9d8a5-0ced-4d11-c7a4-5f7dea6bcf89",
        "colab": {
          "base_uri": "https://localhost:8080/",
          "height": 84
        }
      },
      "source": [
        "prob_dist"
      ],
      "execution_count": null,
      "outputs": [
        {
          "output_type": "execute_result",
          "data": {
            "text/plain": [
              "label\n",
              "dove     0.510438\n",
              "other    0.489562\n",
              "Name: length, dtype: float64"
            ]
          },
          "metadata": {
            "tags": []
          },
          "execution_count": 46
        }
      ]
    },
    {
      "cell_type": "code",
      "metadata": {
        "id": "nV1FEf0p1gEW"
      },
      "source": [
        "import pickle"
      ],
      "execution_count": null,
      "outputs": []
    },
    {
      "cell_type": "code",
      "metadata": {
        "id": "iUWuz4fKnNp6"
      },
      "source": [
        "class Config:\n",
        "  def __init__(self,mode='conv',nfilt=26,nfeat=13,nfft=512,rate=16000):\n",
        "    self.mode=mode\n",
        "    self.nfilt=nfilt\n",
        "    self.nfeat=nfeat\n",
        "    self.nfft=nfft\n",
        "    self.rate=rate\n",
        "    self.step=int(rate/10)\n",
        "    self.p_path=os.path.join('/content/pickles',mode+'.p')"
      ],
      "execution_count": null,
      "outputs": []
    },
    {
      "cell_type": "code",
      "metadata": {
        "id": "lz3GE3gH1OUY"
      },
      "source": [
        "def check_data():\n",
        "  if os.path.isfile(config.p_path):\n",
        "    print(\"Loading existing mode\")\n",
        "    with open(config.p_path,'rb') as handle:\n",
        "      tmp = pickle.load(handle)\n",
        "      return tmp\n",
        "  else:\n",
        "    return None"
      ],
      "execution_count": null,
      "outputs": []
    },
    {
      "cell_type": "code",
      "metadata": {
        "id": "Qjvxah0IohJE"
      },
      "source": [
        "def build_rand_feat():\n",
        "  tmp=check_data()\n",
        "  if tmp:\n",
        "    return tmp.data[0], tmp.data[1]\n",
        "  X=[]\n",
        "  y=[]\n",
        "  _min,_max=float('inf'),-float('inf')\n",
        "  for _ in tqdm(range(n_samples)):\n",
        "    rand_class=np.random.choice(class_dist.index,p=prob_dist)\n",
        "    file=np.random.choice(df[df.label==rand_class].index)\n",
        "    rate,wav=wavfile.read('clean/'+df.fname[file])\n",
        "    label=df.at[file,'label']\n",
        "    rand_index=np.random.randint(0,wav.shape[0]-config.step)\n",
        "    sample=wav[rand_index:rand_index+config.step]\n",
        "    X_sample = mfcc(sample,rate,numcep=config.nfeat,nfilt=config.nfilt,nfft=config.nfft)\n",
        "    _min=min(np.amin(X_sample), _min)\n",
        "    _max=max(np.amax(X_sample), _max)\n",
        "    X.append(X_sample)\n",
        "    y.append(classes.index(label))\n",
        "  config.min=_min\n",
        "  config.max=_max\n",
        "  X, y = np.array(X), np.array(y)\n",
        "  X=(X-_min)/(_max-_min)\n",
        "  if config.mode=='conv':\n",
        "    X=X.reshape(X.shape[0],X.shape[1],X.shape[2],1)\n",
        "  y=to_categorical(y,num_classes=2)\n",
        "  config.data=(X,y)\n",
        "  with open(config.p_path,'wb') as handle:\n",
        "    pickle.dump(config,handle,protocol=2)\n",
        "  return X,y\n"
      ],
      "execution_count": null,
      "outputs": []
    },
    {
      "cell_type": "code",
      "metadata": {
        "id": "t0cYxFWWv3Dp"
      },
      "source": [
        "def get_conv_model():\n",
        "  model=Sequential()\n",
        "  model.add(Conv2D(16, (3,3), activation='relu', strides=(1,1),\n",
        "                   padding='same',input_shape=input_shape))\n",
        "  model.add(Conv2D(32, (3,3), activation='relu', strides=(1,1),\n",
        "                   padding='same'))\n",
        "  model.add(Conv2D(64, (3,3), activation='relu', strides=(1,1),\n",
        "                   padding='same'))\n",
        "  model.add(Conv2D(128, (3,3), activation='relu', strides=(1,1),\n",
        "                   padding='same'))\n",
        "  model.add(MaxPooling2D(2,2))\n",
        "  model.add(Dropout(0.5))\n",
        "  model.add(Flatten())\n",
        "  model.add(Dense(128, activation='relu'))\n",
        "  model.add(Dense(64, activation='relu'))\n",
        "  model.add(Dense(2, activation='softmax'))\n",
        "  model.summary()\n",
        "  model.compile(loss='categorical_crossentropy',\n",
        "                optimizer='adam',\n",
        "                metrics=['acc'])\n",
        "  return model"
      ],
      "execution_count": null,
      "outputs": []
    },
    {
      "cell_type": "code",
      "metadata": {
        "id": "BdxWFOJPnvaS"
      },
      "source": [
        "config = Config(mode='conv')"
      ],
      "execution_count": null,
      "outputs": []
    },
    {
      "cell_type": "code",
      "metadata": {
        "id": "xBcEqo4yuXr0",
        "outputId": "8f5ae0df-8939-4d8f-ee03-5af3459b8157",
        "colab": {
          "base_uri": "https://localhost:8080/",
          "height": 34
        }
      },
      "source": [
        "if config.mode=='conv':\n",
        "  x,y=build_rand_feat()\n",
        "  y_flat=np.argmax(y,axis=1)\n",
        "  input_shape=(x.shape[1],x.shape[2],1)"
      ],
      "execution_count": null,
      "outputs": [
        {
          "output_type": "stream",
          "text": [
            "100%|██████████| 323408/323408 [19:25<00:00, 277.44it/s]\n"
          ],
          "name": "stderr"
        }
      ]
    },
    {
      "cell_type": "code",
      "metadata": {
        "id": "46MHPg8X3L2V",
        "outputId": "a15da6aa-4565-4c96-ddde-53d1203a34cf",
        "colab": {
          "base_uri": "https://localhost:8080/",
          "height": 487
        }
      },
      "source": [
        "model=get_conv_model()"
      ],
      "execution_count": null,
      "outputs": [
        {
          "output_type": "stream",
          "text": [
            "Model: \"sequential\"\n",
            "_________________________________________________________________\n",
            "Layer (type)                 Output Shape              Param #   \n",
            "=================================================================\n",
            "conv2d (Conv2D)              (None, 9, 13, 16)         160       \n",
            "_________________________________________________________________\n",
            "conv2d_1 (Conv2D)            (None, 9, 13, 32)         4640      \n",
            "_________________________________________________________________\n",
            "conv2d_2 (Conv2D)            (None, 9, 13, 64)         18496     \n",
            "_________________________________________________________________\n",
            "conv2d_3 (Conv2D)            (None, 9, 13, 128)        73856     \n",
            "_________________________________________________________________\n",
            "max_pooling2d (MaxPooling2D) (None, 4, 6, 128)         0         \n",
            "_________________________________________________________________\n",
            "dropout (Dropout)            (None, 4, 6, 128)         0         \n",
            "_________________________________________________________________\n",
            "flatten (Flatten)            (None, 3072)              0         \n",
            "_________________________________________________________________\n",
            "dense (Dense)                (None, 128)               393344    \n",
            "_________________________________________________________________\n",
            "dense_1 (Dense)              (None, 64)                8256      \n",
            "_________________________________________________________________\n",
            "dense_2 (Dense)              (None, 2)                 130       \n",
            "=================================================================\n",
            "Total params: 498,882\n",
            "Trainable params: 498,882\n",
            "Non-trainable params: 0\n",
            "_________________________________________________________________\n"
          ],
          "name": "stdout"
        }
      ]
    },
    {
      "cell_type": "code",
      "metadata": {
        "id": "qWB2UEv5MYQa"
      },
      "source": [
        "best_model_file = \"convnet.h5\"\n",
        "best_model = ModelCheckpoint(best_model_file, monitor='val_acc', verbose=1, save_best_only=True)"
      ],
      "execution_count": 70,
      "outputs": []
    },
    {
      "cell_type": "code",
      "metadata": {
        "id": "QqwLtws9-SR0"
      },
      "source": [
        "!mv pickles /content/drive/My\\ Drive/Capstone"
      ],
      "execution_count": 66,
      "outputs": []
    },
    {
      "cell_type": "code",
      "metadata": {
        "id": "1lDBhP-L9428",
        "outputId": "1e8150a7-901e-4ff5-abd2-6b9b2a353842",
        "colab": {
          "base_uri": "https://localhost:8080/",
          "height": 706
        }
      },
      "source": [
        "model.fit(x,y,epochs=10, batch_size=32,\n",
        "          shuffle=True, validation_split=0.2, verbose=1,callbacks=[best_model])"
      ],
      "execution_count": 71,
      "outputs": [
        {
          "output_type": "stream",
          "text": [
            "Epoch 1/10\n",
            "8086/8086 [==============================] - ETA: 0s - loss: 0.1951 - acc: 0.9201\n",
            "Epoch 00001: val_acc improved from -inf to 0.92087, saving model to convnet.h5\n",
            "8086/8086 [==============================] - 70s 9ms/step - loss: 0.1951 - acc: 0.9201 - val_loss: 0.1953 - val_acc: 0.9209\n",
            "Epoch 2/10\n",
            "8083/8086 [============================>.] - ETA: 0s - loss: 0.1798 - acc: 0.9274\n",
            "Epoch 00002: val_acc improved from 0.92087 to 0.94453, saving model to convnet.h5\n",
            "8086/8086 [==============================] - 70s 9ms/step - loss: 0.1798 - acc: 0.9274 - val_loss: 0.1414 - val_acc: 0.9445\n",
            "Epoch 3/10\n",
            "8086/8086 [==============================] - ETA: 0s - loss: 0.1649 - acc: 0.9338\n",
            "Epoch 00003: val_acc improved from 0.94453 to 0.94784, saving model to convnet.h5\n",
            "8086/8086 [==============================] - 70s 9ms/step - loss: 0.1649 - acc: 0.9338 - val_loss: 0.1338 - val_acc: 0.9478\n",
            "Epoch 4/10\n",
            "8083/8086 [============================>.] - ETA: 0s - loss: 0.1556 - acc: 0.9384\n",
            "Epoch 00004: val_acc did not improve from 0.94784\n",
            "8086/8086 [==============================] - 71s 9ms/step - loss: 0.1556 - acc: 0.9384 - val_loss: 0.1409 - val_acc: 0.9437\n",
            "Epoch 5/10\n",
            "8082/8086 [============================>.] - ETA: 0s - loss: 0.1468 - acc: 0.9420\n",
            "Epoch 00005: val_acc improved from 0.94784 to 0.95411, saving model to convnet.h5\n",
            "8086/8086 [==============================] - 70s 9ms/step - loss: 0.1468 - acc: 0.9420 - val_loss: 0.1171 - val_acc: 0.9541\n",
            "Epoch 6/10\n",
            "8082/8086 [============================>.] - ETA: 0s - loss: 0.1394 - acc: 0.9447\n",
            "Epoch 00006: val_acc improved from 0.95411 to 0.95513, saving model to convnet.h5\n",
            "8086/8086 [==============================] - 70s 9ms/step - loss: 0.1394 - acc: 0.9447 - val_loss: 0.1169 - val_acc: 0.9551\n",
            "Epoch 7/10\n",
            "8083/8086 [============================>.] - ETA: 0s - loss: 0.1349 - acc: 0.9468\n",
            "Epoch 00007: val_acc improved from 0.95513 to 0.96017, saving model to convnet.h5\n",
            "8086/8086 [==============================] - 70s 9ms/step - loss: 0.1349 - acc: 0.9468 - val_loss: 0.1051 - val_acc: 0.9602\n",
            "Epoch 8/10\n",
            "8083/8086 [============================>.] - ETA: 0s - loss: 0.1290 - acc: 0.9495\n",
            "Epoch 00008: val_acc did not improve from 0.96017\n",
            "8086/8086 [==============================] - 71s 9ms/step - loss: 0.1290 - acc: 0.9495 - val_loss: 0.1059 - val_acc: 0.9594\n",
            "Epoch 9/10\n",
            "8081/8086 [============================>.] - ETA: 0s - loss: 0.1247 - acc: 0.9513\n",
            "Epoch 00009: val_acc did not improve from 0.96017\n",
            "8086/8086 [==============================] - 69s 9ms/step - loss: 0.1247 - acc: 0.9513 - val_loss: 0.1561 - val_acc: 0.9383\n",
            "Epoch 10/10\n",
            "8082/8086 [============================>.] - ETA: 0s - loss: 0.1217 - acc: 0.9526\n",
            "Epoch 00010: val_acc did not improve from 0.96017\n",
            "8086/8086 [==============================] - 70s 9ms/step - loss: 0.1217 - acc: 0.9526 - val_loss: 0.1061 - val_acc: 0.9596\n"
          ],
          "name": "stdout"
        },
        {
          "output_type": "execute_result",
          "data": {
            "text/plain": [
              "<tensorflow.python.keras.callbacks.History at 0x7f33231bcb70>"
            ]
          },
          "metadata": {
            "tags": []
          },
          "execution_count": 71
        }
      ]
    },
    {
      "cell_type": "code",
      "metadata": {
        "id": "64t3z0fbM_pN"
      },
      "source": [
        ""
      ],
      "execution_count": null,
      "outputs": []
    }
  ]
}