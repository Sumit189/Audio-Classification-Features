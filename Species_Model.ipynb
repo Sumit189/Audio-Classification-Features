{
  "nbformat": 4,
  "nbformat_minor": 0,
  "metadata": {
    "colab": {
      "name": "Species Model.ipynb",
      "provenance": [],
      "collapsed_sections": []
    },
    "kernelspec": {
      "name": "python3",
      "display_name": "Python 3"
    },
    "accelerator": "GPU"
  },
  "cells": [
    {
      "cell_type": "markdown",
      "metadata": {
        "id": "1PLwmsL9oCbr"
      },
      "source": [
        "#Dataset"
      ]
    },
    {
      "cell_type": "code",
      "metadata": {
        "id": "4x85-gq7vvgG",
        "colab": {
          "base_uri": "https://localhost:8080/",
          "height": 118
        },
        "outputId": "870fe985-3a04-4a6f-fdba-6dcaae8942e7"
      },
      "source": [
        "!git clone \"https://github.com/Sumit189/Audio-Classification-Using-CNN.git\""
      ],
      "execution_count": null,
      "outputs": [
        {
          "output_type": "stream",
          "text": [
            "Cloning into 'Audio-Classification-Using-CNN'...\n",
            "remote: Enumerating objects: 760, done.\u001b[K\n",
            "remote: Total 760 (delta 0), reused 0 (delta 0), pack-reused 760\u001b[K\n",
            "Receiving objects: 100% (760/760), 674.65 MiB | 15.53 MiB/s, done.\n",
            "Resolving deltas: 100% (14/14), done.\n",
            "Checking out files: 100% (724/724), done.\n"
          ],
          "name": "stdout"
        }
      ]
    },
    {
      "cell_type": "code",
      "metadata": {
        "id": "XgivYR_WKjVq"
      },
      "source": [
        "!mv /content/Audio-Classification-Using-CNN/dataset /content/"
      ],
      "execution_count": null,
      "outputs": []
    },
    {
      "cell_type": "code",
      "metadata": {
        "id": "Dxm2pAlKy1ZP",
        "colab": {
          "base_uri": "https://localhost:8080/",
          "height": 67
        },
        "outputId": "869e008b-e3d8-4301-8226-9855182c2d24"
      },
      "source": [
        "!ls dataset/Dove/    | wc -l\n",
        "!ls dataset/Koel/    | wc -l\n",
        "!ls dataset/Owl/     | wc -l"
      ],
      "execution_count": null,
      "outputs": [
        {
          "output_type": "stream",
          "text": [
            "240\n",
            "240\n",
            "240\n"
          ],
          "name": "stdout"
        }
      ]
    },
    {
      "cell_type": "markdown",
      "metadata": {
        "id": "uemftJ3BoFEj"
      },
      "source": [
        "#Data Preprocessing"
      ]
    },
    {
      "cell_type": "code",
      "metadata": {
        "id": "M1cPgYmMKQ5q",
        "colab": {
          "base_uri": "https://localhost:8080/",
          "height": 104
        },
        "outputId": "0982cb03-7ecb-4e67-c342-8eef477d3a98"
      },
      "source": [
        "!pip install pydub"
      ],
      "execution_count": null,
      "outputs": [
        {
          "output_type": "stream",
          "text": [
            "Collecting pydub\n",
            "  Downloading https://files.pythonhosted.org/packages/7b/d1/fbfa79371a8cd9bb15c2e3c480d7e6e340ed5cc55005174e16f48418333a/pydub-0.24.1-py2.py3-none-any.whl\n",
            "Installing collected packages: pydub\n",
            "Successfully installed pydub-0.24.1\n"
          ],
          "name": "stdout"
        }
      ]
    },
    {
      "cell_type": "code",
      "metadata": {
        "id": "DAp5ld6KKSdJ"
      },
      "source": [
        "from os import path\n",
        "from pydub import AudioSegment\n",
        "import os"
      ],
      "execution_count": null,
      "outputs": []
    },
    {
      "cell_type": "code",
      "metadata": {
        "id": "64tRQD38KV8f"
      },
      "source": [
        "path='dataset/Dove/'\n",
        "for r,d,f in os.walk(path):\n",
        "  for file in f:\n",
        "    file_name=file.split('.')\n",
        "    src = r+file\n",
        "    dst = r+file_name[0]+\".wav\"                                                       \n",
        "    sound = AudioSegment.from_mp3(src)\n",
        "    sound.export(dst, format=\"wav\")\n",
        "    os.remove(r+file)"
      ],
      "execution_count": null,
      "outputs": []
    },
    {
      "cell_type": "code",
      "metadata": {
        "id": "80mtKNyQOZpy"
      },
      "source": [
        "path='dataset/Koel/'\n",
        "for r,d,f in os.walk(path):\n",
        "  for file in f:\n",
        "    file_name=file.split('.')\n",
        "    src = r+file\n",
        "    dst = r+file_name[0]+\".wav\"                                                       \n",
        "    sound = AudioSegment.from_mp3(src)\n",
        "    sound.export(dst, format=\"wav\")\n",
        "    os.remove(r+file)"
      ],
      "execution_count": null,
      "outputs": []
    },
    {
      "cell_type": "code",
      "metadata": {
        "id": "A9AwmseGRlMG"
      },
      "source": [
        "path='dataset/Owl/'\n",
        "for r,d,f in os.walk(path):\n",
        "  for file in f:\n",
        "    file_name=file.split('.')\n",
        "    src = r+file\n",
        "    dst = r+file_name[0]+\".wav\"                                                       \n",
        "    sound = AudioSegment.from_mp3(src)\n",
        "    sound.export(dst, format=\"wav\")\n",
        "    os.remove(r+file)"
      ],
      "execution_count": null,
      "outputs": []
    },
    {
      "cell_type": "code",
      "metadata": {
        "id": "sbLJf18jOdQZ",
        "colab": {
          "base_uri": "https://localhost:8080/",
          "height": 67
        },
        "outputId": "0fbe43ab-0c2c-4326-fc76-5b86095cebe4"
      },
      "source": [
        "!ls dataset/Dove/*.wav    | wc -l\n",
        "!ls dataset/Koel/*.wav    | wc -l\n",
        "!ls dataset/Owl/*.wav     | wc -l"
      ],
      "execution_count": null,
      "outputs": [
        {
          "output_type": "stream",
          "text": [
            "240\n",
            "240\n",
            "240\n"
          ],
          "name": "stdout"
        }
      ]
    },
    {
      "cell_type": "code",
      "metadata": {
        "id": "l2t-WRfVIWFk"
      },
      "source": [
        "import pandas as pd"
      ],
      "execution_count": null,
      "outputs": []
    },
    {
      "cell_type": "code",
      "metadata": {
        "id": "rP9TOCrpIYMa"
      },
      "source": [
        "import os\n",
        "i=0\n",
        "f_name=[]\n",
        "label=[]\n",
        "path='/content/dataset/Dove/'\n",
        "for r,d,f in os.walk(path):\n",
        "  for file in f:\n",
        "    f_name.append(file)\n",
        "    label.append('dove')"
      ],
      "execution_count": null,
      "outputs": []
    },
    {
      "cell_type": "code",
      "metadata": {
        "id": "8eZJEOZoIm7Z"
      },
      "source": [
        "path='/content/dataset/Koel/'\n",
        "for r,d,f in os.walk(path):\n",
        "  for file in f:\n",
        "    f_name.append(file)\n",
        "    label.append('koel')"
      ],
      "execution_count": null,
      "outputs": []
    },
    {
      "cell_type": "code",
      "metadata": {
        "id": "iGXtg7IBRvbB"
      },
      "source": [
        "path='/content/dataset/Owl/'\n",
        "for r,d,f in os.walk(path):\n",
        "  for file in f:\n",
        "    f_name.append(file)\n",
        "    label.append('owl')"
      ],
      "execution_count": null,
      "outputs": []
    },
    {
      "cell_type": "code",
      "metadata": {
        "id": "8BUt4Tm-Isf9"
      },
      "source": [
        "df= pd.DataFrame(list(zip(f_name,label)), \n",
        "               columns =['fname','label']) "
      ],
      "execution_count": null,
      "outputs": []
    },
    {
      "cell_type": "code",
      "metadata": {
        "id": "J9udiCtMI_1z",
        "colab": {
          "base_uri": "https://localhost:8080/",
          "height": 402
        },
        "outputId": "961ccafc-2826-4f36-a7e5-5a01f77f8365"
      },
      "source": [
        "df"
      ],
      "execution_count": null,
      "outputs": [
        {
          "output_type": "execute_result",
          "data": {
            "text/html": [
              "<div>\n",
              "<style scoped>\n",
              "    .dataframe tbody tr th:only-of-type {\n",
              "        vertical-align: middle;\n",
              "    }\n",
              "\n",
              "    .dataframe tbody tr th {\n",
              "        vertical-align: top;\n",
              "    }\n",
              "\n",
              "    .dataframe thead th {\n",
              "        text-align: right;\n",
              "    }\n",
              "</style>\n",
              "<table border=\"1\" class=\"dataframe\">\n",
              "  <thead>\n",
              "    <tr style=\"text-align: right;\">\n",
              "      <th></th>\n",
              "      <th>fname</th>\n",
              "      <th>label</th>\n",
              "    </tr>\n",
              "  </thead>\n",
              "  <tbody>\n",
              "    <tr>\n",
              "      <th>0</th>\n",
              "      <td>243621_XC243621-Hohltaube%201.wav</td>\n",
              "      <td>dove</td>\n",
              "    </tr>\n",
              "    <tr>\n",
              "      <th>1</th>\n",
              "      <td>409260_XC409260-Default%20Project.wav</td>\n",
              "      <td>dove</td>\n",
              "    </tr>\n",
              "    <tr>\n",
              "      <th>2</th>\n",
              "      <td>269762_XC269762-Columba%20150718_031%2CA1.wav</td>\n",
              "      <td>dove</td>\n",
              "    </tr>\n",
              "    <tr>\n",
              "      <th>3</th>\n",
              "      <td>387812_XC387812-31525-10%C2%B4%20mp3.wav</td>\n",
              "      <td>dove</td>\n",
              "    </tr>\n",
              "    <tr>\n",
              "      <th>4</th>\n",
              "      <td>540140_XC540140-COLOEN2020-03-29_mp3.wav</td>\n",
              "      <td>dove</td>\n",
              "    </tr>\n",
              "    <tr>\n",
              "      <th>...</th>\n",
              "      <td>...</td>\n",
              "      <td>...</td>\n",
              "    </tr>\n",
              "    <tr>\n",
              "      <th>715</th>\n",
              "      <td>166883_XC166883-Megapodius_geelvinkianus-FL%20...</td>\n",
              "      <td>owl</td>\n",
              "    </tr>\n",
              "    <tr>\n",
              "      <th>716</th>\n",
              "      <td>45625_Helmeted%20Guineafowl%20RV%202-09.wav</td>\n",
              "      <td>owl</td>\n",
              "    </tr>\n",
              "    <tr>\n",
              "      <th>717</th>\n",
              "      <td>392669_XC392669-LS106108%20Cape%20Francolin%20...</td>\n",
              "      <td>owl</td>\n",
              "    </tr>\n",
              "    <tr>\n",
              "      <th>718</th>\n",
              "      <td>118436_XC118436-6_Helmeted_Guineafowl_Xanadu_2...</td>\n",
              "      <td>owl</td>\n",
              "    </tr>\n",
              "    <tr>\n",
              "      <th>719</th>\n",
              "      <td>485085_XC485085-Crested%20Guineafowl_call_SW%2...</td>\n",
              "      <td>owl</td>\n",
              "    </tr>\n",
              "  </tbody>\n",
              "</table>\n",
              "<p>720 rows × 2 columns</p>\n",
              "</div>"
            ],
            "text/plain": [
              "                                                 fname label\n",
              "0                    243621_XC243621-Hohltaube%201.wav  dove\n",
              "1                409260_XC409260-Default%20Project.wav  dove\n",
              "2        269762_XC269762-Columba%20150718_031%2CA1.wav  dove\n",
              "3             387812_XC387812-31525-10%C2%B4%20mp3.wav  dove\n",
              "4             540140_XC540140-COLOEN2020-03-29_mp3.wav  dove\n",
              "..                                                 ...   ...\n",
              "715  166883_XC166883-Megapodius_geelvinkianus-FL%20...   owl\n",
              "716        45625_Helmeted%20Guineafowl%20RV%202-09.wav   owl\n",
              "717  392669_XC392669-LS106108%20Cape%20Francolin%20...   owl\n",
              "718  118436_XC118436-6_Helmeted_Guineafowl_Xanadu_2...   owl\n",
              "719  485085_XC485085-Crested%20Guineafowl_call_SW%2...   owl\n",
              "\n",
              "[720 rows x 2 columns]"
            ]
          },
          "metadata": {
            "tags": []
          },
          "execution_count": 15
        }
      ]
    },
    {
      "cell_type": "code",
      "metadata": {
        "id": "QoVd_mYIhOfq"
      },
      "source": [
        "df = df.sample(frac = 1)"
      ],
      "execution_count": null,
      "outputs": []
    },
    {
      "cell_type": "code",
      "metadata": {
        "id": "vlGTORLMa-bR",
        "colab": {
          "base_uri": "https://localhost:8080/",
          "height": 402
        },
        "outputId": "de3ca990-e880-4d68-a2bf-9469352d2d27"
      },
      "source": [
        "df"
      ],
      "execution_count": null,
      "outputs": [
        {
          "output_type": "execute_result",
          "data": {
            "text/html": [
              "<div>\n",
              "<style scoped>\n",
              "    .dataframe tbody tr th:only-of-type {\n",
              "        vertical-align: middle;\n",
              "    }\n",
              "\n",
              "    .dataframe tbody tr th {\n",
              "        vertical-align: top;\n",
              "    }\n",
              "\n",
              "    .dataframe thead th {\n",
              "        text-align: right;\n",
              "    }\n",
              "</style>\n",
              "<table border=\"1\" class=\"dataframe\">\n",
              "  <thead>\n",
              "    <tr style=\"text-align: right;\">\n",
              "      <th></th>\n",
              "      <th>fname</th>\n",
              "      <th>label</th>\n",
              "    </tr>\n",
              "  </thead>\n",
              "  <tbody>\n",
              "    <tr>\n",
              "      <th>122</th>\n",
              "      <td>92264_Duif100421-05xc.wav</td>\n",
              "      <td>dove</td>\n",
              "    </tr>\n",
              "    <tr>\n",
              "      <th>248</th>\n",
              "      <td>576721_XC576721-Koel%2C%20Asian_2019-03-22_180...</td>\n",
              "      <td>koel</td>\n",
              "    </tr>\n",
              "    <tr>\n",
              "      <th>630</th>\n",
              "      <td>323344_XC323344-Spurfowl%20Natal_Mjejane_16061...</td>\n",
              "      <td>owl</td>\n",
              "    </tr>\n",
              "    <tr>\n",
              "      <th>306</th>\n",
              "      <td>194196_XC194196-B2A_AsianKoelSubic210_SDW.wav</td>\n",
              "      <td>koel</td>\n",
              "    </tr>\n",
              "    <tr>\n",
              "      <th>243</th>\n",
              "      <td>182810_XC182810-Asian%20Koel.wav</td>\n",
              "      <td>koel</td>\n",
              "    </tr>\n",
              "    <tr>\n",
              "      <th>...</th>\n",
              "      <td>...</td>\n",
              "      <td>...</td>\n",
              "    </tr>\n",
              "    <tr>\n",
              "      <th>121</th>\n",
              "      <td>314289_XC314289-VOC_160430-1189_CO.wav</td>\n",
              "      <td>dove</td>\n",
              "    </tr>\n",
              "    <tr>\n",
              "      <th>316</th>\n",
              "      <td>531611_XC531611-asian%20koel.wav</td>\n",
              "      <td>koel</td>\n",
              "    </tr>\n",
              "    <tr>\n",
              "      <th>258</th>\n",
              "      <td>330496_XC330496-Asian%20koel.wav</td>\n",
              "      <td>koel</td>\n",
              "    </tr>\n",
              "    <tr>\n",
              "      <th>591</th>\n",
              "      <td>347001_XC347001-LS102540%20Red-eyed%20Bulbul%2...</td>\n",
              "      <td>owl</td>\n",
              "    </tr>\n",
              "    <tr>\n",
              "      <th>319</th>\n",
              "      <td>301717_XC301717-jungle%20bird.wav</td>\n",
              "      <td>koel</td>\n",
              "    </tr>\n",
              "  </tbody>\n",
              "</table>\n",
              "<p>720 rows × 2 columns</p>\n",
              "</div>"
            ],
            "text/plain": [
              "                                                 fname label\n",
              "122                          92264_Duif100421-05xc.wav  dove\n",
              "248  576721_XC576721-Koel%2C%20Asian_2019-03-22_180...  koel\n",
              "630  323344_XC323344-Spurfowl%20Natal_Mjejane_16061...   owl\n",
              "306      194196_XC194196-B2A_AsianKoelSubic210_SDW.wav  koel\n",
              "243                   182810_XC182810-Asian%20Koel.wav  koel\n",
              "..                                                 ...   ...\n",
              "121             314289_XC314289-VOC_160430-1189_CO.wav  dove\n",
              "316                   531611_XC531611-asian%20koel.wav  koel\n",
              "258                   330496_XC330496-Asian%20koel.wav  koel\n",
              "591  347001_XC347001-LS102540%20Red-eyed%20Bulbul%2...   owl\n",
              "319                  301717_XC301717-jungle%20bird.wav  koel\n",
              "\n",
              "[720 rows x 2 columns]"
            ]
          },
          "metadata": {
            "tags": []
          },
          "execution_count": 17
        }
      ]
    },
    {
      "cell_type": "code",
      "metadata": {
        "id": "l-BZTveDQ038"
      },
      "source": [
        "!mkdir alldataset"
      ],
      "execution_count": null,
      "outputs": []
    },
    {
      "cell_type": "code",
      "metadata": {
        "id": "DZ5D__LzQ4Jk"
      },
      "source": [
        "!cp -r dataset/Dove/* alldataset/"
      ],
      "execution_count": null,
      "outputs": []
    },
    {
      "cell_type": "code",
      "metadata": {
        "id": "_bRZUJ7abZFI"
      },
      "source": [
        "!cp -r dataset/Koel/* alldataset/"
      ],
      "execution_count": null,
      "outputs": []
    },
    {
      "cell_type": "code",
      "metadata": {
        "id": "ZEmlfxOCbZi6"
      },
      "source": [
        "!cp -r dataset/Owl/* alldataset/"
      ],
      "execution_count": null,
      "outputs": []
    },
    {
      "cell_type": "code",
      "metadata": {
        "id": "fyeii0r9Q9K4",
        "colab": {
          "base_uri": "https://localhost:8080/",
          "height": 34
        },
        "outputId": "f882d5ac-aee3-4b1b-ce7c-4c42bb37e953"
      },
      "source": [
        "!ls alldataset/ | wc -l"
      ],
      "execution_count": null,
      "outputs": [
        {
          "output_type": "stream",
          "text": [
            "720\n"
          ],
          "name": "stdout"
        }
      ]
    },
    {
      "cell_type": "code",
      "metadata": {
        "id": "CyjO7c_vExoF",
        "colab": {
          "base_uri": "https://localhost:8080/",
          "height": 188
        },
        "outputId": "fa72680f-c788-4868-a043-d7f4b6b62621"
      },
      "source": [
        "!pip install python_speech_features"
      ],
      "execution_count": null,
      "outputs": [
        {
          "output_type": "stream",
          "text": [
            "Collecting python_speech_features\n",
            "  Downloading https://files.pythonhosted.org/packages/ff/d1/94c59e20a2631985fbd2124c45177abaa9e0a4eee8ba8a305aa26fc02a8e/python_speech_features-0.6.tar.gz\n",
            "Building wheels for collected packages: python-speech-features\n",
            "  Building wheel for python-speech-features (setup.py) ... \u001b[?25l\u001b[?25hdone\n",
            "  Created wheel for python-speech-features: filename=python_speech_features-0.6-cp36-none-any.whl size=5887 sha256=ba4903827599ca1552e15afe074778a0548d18442e86bd7bfc083b61a8503825\n",
            "  Stored in directory: /root/.cache/pip/wheels/3c/42/7c/f60e9d1b40015cd69b213ad90f7c18a9264cd745b9888134be\n",
            "Successfully built python-speech-features\n",
            "Installing collected packages: python-speech-features\n",
            "Successfully installed python-speech-features-0.6\n"
          ],
          "name": "stdout"
        }
      ]
    },
    {
      "cell_type": "code",
      "metadata": {
        "id": "i_LfYiINr1eo"
      },
      "source": [
        "import os\n",
        "from tqdm import tqdm\n",
        "import pandas as pd\n",
        "import numpy as np\n",
        "import matplotlib.pyplot as plt\n",
        "from scipy.io import wavfile\n",
        "from python_speech_features import mfcc\n",
        "import librosa\n",
        "import keras\n",
        "from keras.utils import to_categorical\n",
        "from keras.layers import Conv2D,MaxPooling2D,Flatten,Activation\n",
        "from keras.layers import Dropout, Dense\n",
        "from keras.models import Sequential\n",
        "from keras.callbacks import ModelCheckpoint"
      ],
      "execution_count": null,
      "outputs": []
    },
    {
      "cell_type": "code",
      "metadata": {
        "id": "__5thAHhgfDe"
      },
      "source": [
        "def envelope(y,rate, threshold):\n",
        "  mask=[]\n",
        "  y = pd.Series(y).apply(np.abs)\n",
        "  y_mean=y.rolling(window=int(rate/10), min_periods=1, center=True).mean()\n",
        "  for mean in y_mean:\n",
        "    if mean>threshold:\n",
        "      mask.append(True)\n",
        "    else:\n",
        "      mask.append(False)\n",
        "  return mask"
      ],
      "execution_count": null,
      "outputs": []
    },
    {
      "cell_type": "code",
      "metadata": {
        "id": "UCMggby3FfAE"
      },
      "source": [
        "df.set_index('fname',inplace=True)"
      ],
      "execution_count": null,
      "outputs": []
    },
    {
      "cell_type": "code",
      "metadata": {
        "id": "FuR-jtwqJPUF"
      },
      "source": [
        "for f in df.index:\n",
        "  rate, signal =  wavfile.read('alldataset/'+f)\n",
        "  df.at[f, 'length'] = signal.shape[0]/rate"
      ],
      "execution_count": null,
      "outputs": []
    },
    {
      "cell_type": "code",
      "metadata": {
        "id": "CHKW9FvLJ-vT",
        "colab": {
          "base_uri": "https://localhost:8080/",
          "height": 431
        },
        "outputId": "865c2a38-d319-4c79-a053-3da56ee71eab"
      },
      "source": [
        "df"
      ],
      "execution_count": null,
      "outputs": [
        {
          "output_type": "execute_result",
          "data": {
            "text/html": [
              "<div>\n",
              "<style scoped>\n",
              "    .dataframe tbody tr th:only-of-type {\n",
              "        vertical-align: middle;\n",
              "    }\n",
              "\n",
              "    .dataframe tbody tr th {\n",
              "        vertical-align: top;\n",
              "    }\n",
              "\n",
              "    .dataframe thead th {\n",
              "        text-align: right;\n",
              "    }\n",
              "</style>\n",
              "<table border=\"1\" class=\"dataframe\">\n",
              "  <thead>\n",
              "    <tr style=\"text-align: right;\">\n",
              "      <th></th>\n",
              "      <th>label</th>\n",
              "      <th>length</th>\n",
              "    </tr>\n",
              "    <tr>\n",
              "      <th>fname</th>\n",
              "      <th></th>\n",
              "      <th></th>\n",
              "    </tr>\n",
              "  </thead>\n",
              "  <tbody>\n",
              "    <tr>\n",
              "      <th>92264_Duif100421-05xc.wav</th>\n",
              "      <td>dove</td>\n",
              "      <td>40.124082</td>\n",
              "    </tr>\n",
              "    <tr>\n",
              "      <th>576721_XC576721-Koel%2C%20Asian_2019-03-22_1807_SG_WCP.wav</th>\n",
              "      <td>koel</td>\n",
              "      <td>139.545918</td>\n",
              "    </tr>\n",
              "    <tr>\n",
              "      <th>323344_XC323344-Spurfowl%20Natal_Mjejane_160618_24_A.wav</th>\n",
              "      <td>owl</td>\n",
              "      <td>11.472000</td>\n",
              "    </tr>\n",
              "    <tr>\n",
              "      <th>194196_XC194196-B2A_AsianKoelSubic210_SDW.wav</th>\n",
              "      <td>koel</td>\n",
              "      <td>38.520000</td>\n",
              "    </tr>\n",
              "    <tr>\n",
              "      <th>182810_XC182810-Asian%20Koel.wav</th>\n",
              "      <td>koel</td>\n",
              "      <td>19.680000</td>\n",
              "    </tr>\n",
              "    <tr>\n",
              "      <th>...</th>\n",
              "      <td>...</td>\n",
              "      <td>...</td>\n",
              "    </tr>\n",
              "    <tr>\n",
              "      <th>314289_XC314289-VOC_160430-1189_CO.wav</th>\n",
              "      <td>dove</td>\n",
              "      <td>103.439002</td>\n",
              "    </tr>\n",
              "    <tr>\n",
              "      <th>531611_XC531611-asian%20koel.wav</th>\n",
              "      <td>koel</td>\n",
              "      <td>17.000000</td>\n",
              "    </tr>\n",
              "    <tr>\n",
              "      <th>330496_XC330496-Asian%20koel.wav</th>\n",
              "      <td>koel</td>\n",
              "      <td>5.537959</td>\n",
              "    </tr>\n",
              "    <tr>\n",
              "      <th>347001_XC347001-LS102540%20Red-eyed%20Bulbul%20song%20D%20Hartlaub%27s%20Francolin%20song%20C.wav</th>\n",
              "      <td>owl</td>\n",
              "      <td>25.417143</td>\n",
              "    </tr>\n",
              "    <tr>\n",
              "      <th>301717_XC301717-jungle%20bird.wav</th>\n",
              "      <td>koel</td>\n",
              "      <td>22.487370</td>\n",
              "    </tr>\n",
              "  </tbody>\n",
              "</table>\n",
              "<p>720 rows × 2 columns</p>\n",
              "</div>"
            ],
            "text/plain": [
              "                                                   label      length\n",
              "fname                                                               \n",
              "92264_Duif100421-05xc.wav                           dove   40.124082\n",
              "576721_XC576721-Koel%2C%20Asian_2019-03-22_1807...  koel  139.545918\n",
              "323344_XC323344-Spurfowl%20Natal_Mjejane_160618...   owl   11.472000\n",
              "194196_XC194196-B2A_AsianKoelSubic210_SDW.wav       koel   38.520000\n",
              "182810_XC182810-Asian%20Koel.wav                    koel   19.680000\n",
              "...                                                  ...         ...\n",
              "314289_XC314289-VOC_160430-1189_CO.wav              dove  103.439002\n",
              "531611_XC531611-asian%20koel.wav                    koel   17.000000\n",
              "330496_XC330496-Asian%20koel.wav                    koel    5.537959\n",
              "347001_XC347001-LS102540%20Red-eyed%20Bulbul%20...   owl   25.417143\n",
              "301717_XC301717-jungle%20bird.wav                   koel   22.487370\n",
              "\n",
              "[720 rows x 2 columns]"
            ]
          },
          "metadata": {
            "tags": []
          },
          "execution_count": 28
        }
      ]
    },
    {
      "cell_type": "code",
      "metadata": {
        "id": "YrlmEQQ8J_hF"
      },
      "source": [
        "classes= list(np.unique(df.label))"
      ],
      "execution_count": null,
      "outputs": []
    },
    {
      "cell_type": "code",
      "metadata": {
        "id": "GrY0UymgRp0o"
      },
      "source": [
        "class_dist = df.groupby(['label'])['length'].mean()"
      ],
      "execution_count": null,
      "outputs": []
    },
    {
      "cell_type": "code",
      "metadata": {
        "id": "X7hyGa0xR1e1",
        "colab": {
          "base_uri": "https://localhost:8080/",
          "height": 101
        },
        "outputId": "628368eb-45b5-47a0-e5e7-421a028a01b3"
      },
      "source": [
        "class_dist"
      ],
      "execution_count": null,
      "outputs": [
        {
          "output_type": "execute_result",
          "data": {
            "text/plain": [
              "label\n",
              "dove    48.937734\n",
              "koel    37.985871\n",
              "owl     40.227359\n",
              "Name: length, dtype: float64"
            ]
          },
          "metadata": {
            "tags": []
          },
          "execution_count": 31
        }
      ]
    },
    {
      "cell_type": "code",
      "metadata": {
        "id": "op-k3hYFR-2t",
        "colab": {
          "base_uri": "https://localhost:8080/",
          "height": 283
        },
        "outputId": "04146813-26a4-4fec-bff9-1767ceefc091"
      },
      "source": [
        "fig,ax = plt.subplots()\n",
        "ax.set_title('Class Distribution',y=1.08)\n",
        "ax.pie(class_dist,labels=class_dist.index,autopct='%1.1f%%',\n",
        "       shadow=False, startangle=90)\n",
        "ax.axis('equal')\n",
        "plt.show()\n",
        "df.reset_index(inplace=True)"
      ],
      "execution_count": null,
      "outputs": [
        {
          "output_type": "display_data",
          "data": {
            "image/png": "[encoded data removed]",
            "text/plain": [
              "<Figure size 432x288 with 1 Axes>"
            ]
          },
          "metadata": {
            "tags": []
          }
        }
      ]
    },
    {
      "cell_type": "code",
      "metadata": {
        "id": "Zx9ghegHTHH4"
      },
      "source": [
        "!mkdir clean"
      ],
      "execution_count": null,
      "outputs": []
    },
    {
      "cell_type": "code",
      "metadata": {
        "id": "nqg3C9cVVhzA"
      },
      "source": [
        "import numpy as np"
      ],
      "execution_count": null,
      "outputs": []
    },
    {
      "cell_type": "code",
      "metadata": {
        "id": "9m4qhzFLfC6D",
        "colab": {
          "base_uri": "https://localhost:8080/",
          "height": 34
        },
        "outputId": "3a8e2605-faed-41ec-8815-1b7298d596bd"
      },
      "source": [
        "#Downsampling\n",
        "if len(os.listdir('clean')) ==0:\n",
        "  for f in tqdm(df.fname):\n",
        "    signal, rate=librosa.load('alldataset/'+f,sr=16000)\n",
        "    mask=envelope(signal,rate,0.0005)\n",
        "    wavfile.write(filename='clean/'+f,rate=rate,data=signal[mask])"
      ],
      "execution_count": null,
      "outputs": [
        {
          "output_type": "stream",
          "text": [
            "100%|██████████| 720/720 [24:45<00:00,  2.06s/it]\n"
          ],
          "name": "stderr"
        }
      ]
    },
    {
      "cell_type": "markdown",
      "metadata": {
        "id": "UbOwoekB0-6c"
      },
      "source": [
        "#Model 1"
      ]
    },
    {
      "cell_type": "code",
      "metadata": {
        "id": "6-jRN-t_102U"
      },
      "source": [
        "!mkdir models\n",
        "!mkdir pickles"
      ],
      "execution_count": null,
      "outputs": []
    },
    {
      "cell_type": "code",
      "metadata": {
        "id": "3hGnL1tPm0Vq"
      },
      "source": [
        "n_samples=2*int(df['length'].sum()/0.1)\n",
        "prob_dist=class_dist/class_dist.sum()\n",
        "choices=np.random.choice(class_dist.index,p = prob_dist)"
      ],
      "execution_count": null,
      "outputs": []
    },
    {
      "cell_type": "code",
      "metadata": {
        "id": "WDh6y0kwrG-V",
        "colab": {
          "base_uri": "https://localhost:8080/",
          "height": 101
        },
        "outputId": "ebbcf0d4-634e-4b31-e84e-39840e5a621e"
      },
      "source": [
        "prob_dist"
      ],
      "execution_count": null,
      "outputs": [
        {
          "output_type": "execute_result",
          "data": {
            "text/plain": [
              "label\n",
              "dove    0.384879\n",
              "koel    0.298746\n",
              "owl     0.316375\n",
              "Name: length, dtype: float64"
            ]
          },
          "metadata": {
            "tags": []
          },
          "execution_count": 39
        }
      ]
    },
    {
      "cell_type": "code",
      "metadata": {
        "id": "nV1FEf0p1gEW"
      },
      "source": [
        "import pickle"
      ],
      "execution_count": null,
      "outputs": []
    },
    {
      "cell_type": "code",
      "metadata": {
        "id": "iUWuz4fKnNp6"
      },
      "source": [
        "class Config:\n",
        "  def __init__(self,mode='conv',nfilt=26,nfeat=13,nfft=512,rate=16000):\n",
        "    self.mode=mode\n",
        "    self.nfilt=nfilt\n",
        "    self.nfeat=nfeat\n",
        "    self.nfft=nfft\n",
        "    self.rate=rate\n",
        "    self.step=int(rate/10)\n",
        "    self.p_path=os.path.join('/content/pickles',mode+'.p')"
      ],
      "execution_count": null,
      "outputs": []
    },
    {
      "cell_type": "code",
      "metadata": {
        "id": "lz3GE3gH1OUY"
      },
      "source": [
        "def check_data():\n",
        "  if os.path.isfile(config.p_path):\n",
        "    print(\"Loading existing mode\")\n",
        "    with open(config.p_path,'rb') as handle:\n",
        "      tmp = pickle.load(handle)\n",
        "      return tmp\n",
        "  else:\n",
        "    return None"
      ],
      "execution_count": null,
      "outputs": []
    },
    {
      "cell_type": "code",
      "metadata": {
        "id": "KHMLfgAb8jrM",
        "colab": {
          "base_uri": "https://localhost:8080/",
          "height": 34
        },
        "outputId": "a0939fd0-a43d-46a2-ac59-8f9835f3b6bc"
      },
      "source": [
        "!mkdir pickles"
      ],
      "execution_count": null,
      "outputs": [
        {
          "output_type": "stream",
          "text": [
            "mkdir: cannot create directory ‘pickles’: File exists\n"
          ],
          "name": "stdout"
        }
      ]
    },
    {
      "cell_type": "code",
      "metadata": {
        "id": "Qjvxah0IohJE"
      },
      "source": [
        "def build_rand_feat():\n",
        "  tmp=check_data()\n",
        "  if tmp:\n",
        "    return tmp.data[0], tmp.data[1]\n",
        "  X=[]\n",
        "  y=[]\n",
        "  _min,_max=float('inf'),-float('inf')\n",
        "\n",
        "  for _ in tqdm(range(n_samples)):\n",
        "    rand_class=np.random.choice(class_dist.index,p=prob_dist)\n",
        "    file=np.random.choice(df[df.label==rand_class].index)\n",
        "    rate,wav=wavfile.read('clean/'+df.fname[file])\n",
        "    label=df.at[file,'label']\n",
        "    rand_index=np.random.randint(0,wav.shape[0]-config.step)\n",
        "    sample=wav[rand_index:rand_index+config.step]\n",
        "    X_sample = mfcc(sample,rate,numcep=config.nfeat,nfilt=config.nfilt,nfft=config.nfft)\n",
        "    _min=min(np.amin(X_sample), _min)\n",
        "    _max=max(np.amax(X_sample), _max)\n",
        "    X.append(X_sample)\n",
        "    y.append(classes.index(label))\n",
        "\n",
        "  config.min=_min\n",
        "  config.max=_max\n",
        "\n",
        "  X, y = np.array(X), np.array(y)\n",
        "  X=(X-_min)/(_max-_min)\n",
        "\n",
        "  X=X.reshape(X.shape[0],X.shape[1],X.shape[2],1)\n",
        "\n",
        "  y=to_categorical(y,num_classes=3)\n",
        "  config.data=(X,y)\n",
        "\n",
        "  with open(config.p_path,'wb') as handle:\n",
        "    pickle.dump(config,handle,protocol=2)\n",
        "    \n",
        "  return X,y"
      ],
      "execution_count": null,
      "outputs": []
    },
    {
      "cell_type": "code",
      "metadata": {
        "id": "-oqVfRf479uk",
        "colab": {
          "base_uri": "https://localhost:8080/",
          "height": 34
        },
        "outputId": "3f84909f-06a1-46c9-aab5-dd8550f99d68"
      },
      "source": [
        "x,y=build_rand_feat()\n",
        "y_flat=np.argmax(y,axis=1)\n",
        "input_shape=(x.shape[1],x.shape[2],1)"
      ],
      "execution_count": null,
      "outputs": [
        {
          "output_type": "stream",
          "text": [
            "100%|██████████| 610324/610324 [29:18<00:00, 346.97it/s]\n"
          ],
          "name": "stderr"
        }
      ]
    },
    {
      "cell_type": "code",
      "metadata": {
        "id": "h0KVZJbzbLuQ"
      },
      "source": [
        "np.save('x.npy', x) "
      ],
      "execution_count": null,
      "outputs": []
    },
    {
      "cell_type": "code",
      "metadata": {
        "id": "Uz9V36PBbOhp"
      },
      "source": [
        "np.save('y.npy', y) "
      ],
      "execution_count": null,
      "outputs": []
    },
    {
      "cell_type": "code",
      "metadata": {
        "id": "LkDO_EWGbR8v"
      },
      "source": [
        "!cp -r x.npy drive/My\\ Drive/\n",
        "!cp -r y.npy drive/My\\ Drive/"
      ],
      "execution_count": null,
      "outputs": []
    },
    {
      "cell_type": "code",
      "metadata": {
        "id": "t0cYxFWWv3Dp"
      },
      "source": [
        "def get_conv_model():\n",
        "  model=Sequential()\n",
        "  model.add(Conv2D(16, (3,3), activation='relu', strides=(1,1),\n",
        "                   padding='same',input_shape=input_shape))\n",
        "  model.add(Conv2D(32, (3,3), activation='relu', strides=(1,1),\n",
        "                   padding='same'))\n",
        "  model.add(Conv2D(64, (3,3), activation='relu', strides=(1,1),\n",
        "                   padding='same'))\n",
        "  model.add(Conv2D(128, (3,3), activation='relu', strides=(1,1),\n",
        "                   padding='same'))\n",
        "  model.add(MaxPooling2D(2,2))\n",
        "  model.add(Dropout(0.5))\n",
        "  model.add(Flatten())\n",
        "  model.add(Dense(128, activation='relu'))\n",
        "  model.add(Dense(64, activation='relu'))\n",
        "  model.add(Dense(3, activation='softmax'))\n",
        "  model.summary()\n",
        "  model.compile(optimizer=keras.optimizers.Adam(lr=0.001, beta_1=0.9, beta_2=0.999, epsilon=None, decay=1e-8, amsgrad=False),\n",
        "              loss='categorical_crossentropy',\n",
        "              metrics=['accuracy'])\n",
        "  return model"
      ],
      "execution_count": null,
      "outputs": []
    },
    {
      "cell_type": "code",
      "metadata": {
        "id": "46MHPg8X3L2V",
        "colab": {
          "base_uri": "https://localhost:8080/",
          "height": 487
        },
        "outputId": "8b0e7483-fc00-4bef-c3ba-9764e668b3ef"
      },
      "source": [
        "model=get_conv_model()"
      ],
      "execution_count": null,
      "outputs": [
        {
          "output_type": "stream",
          "text": [
            "Model: \"sequential\"\n",
            "_________________________________________________________________\n",
            "Layer (type)                 Output Shape              Param #   \n",
            "=================================================================\n",
            "conv2d (Conv2D)              (None, 9, 13, 16)         160       \n",
            "_________________________________________________________________\n",
            "conv2d_1 (Conv2D)            (None, 9, 13, 32)         4640      \n",
            "_________________________________________________________________\n",
            "conv2d_2 (Conv2D)            (None, 9, 13, 64)         18496     \n",
            "_________________________________________________________________\n",
            "conv2d_3 (Conv2D)            (None, 9, 13, 128)        73856     \n",
            "_________________________________________________________________\n",
            "max_pooling2d (MaxPooling2D) (None, 4, 6, 128)         0         \n",
            "_________________________________________________________________\n",
            "dropout (Dropout)            (None, 4, 6, 128)         0         \n",
            "_________________________________________________________________\n",
            "flatten (Flatten)            (None, 3072)              0         \n",
            "_________________________________________________________________\n",
            "dense (Dense)                (None, 128)               393344    \n",
            "_________________________________________________________________\n",
            "dense_1 (Dense)              (None, 64)                8256      \n",
            "_________________________________________________________________\n",
            "dense_2 (Dense)              (None, 3)                 195       \n",
            "=================================================================\n",
            "Total params: 498,947\n",
            "Trainable params: 498,947\n",
            "Non-trainable params: 0\n",
            "_________________________________________________________________\n"
          ],
          "name": "stdout"
        }
      ]
    },
    {
      "cell_type": "code",
      "metadata": {
        "id": "qWB2UEv5MYQa"
      },
      "source": [
        "best_model_file = \"best.h5\"\n",
        "best_model = ModelCheckpoint(best_model_file, monitor='val_accuracy', verbose=1, save_best_only=True)"
      ],
      "execution_count": null,
      "outputs": []
    },
    {
      "cell_type": "code",
      "metadata": {
        "id": "EqBy3Nf5Q48V",
        "colab": {
          "base_uri": "https://localhost:8080/",
          "height": 34
        },
        "outputId": "46ac7d6d-b74c-4722-834b-1c350822cb1e"
      },
      "source": [
        "# !mkdir /content/drive/My\\ Drive/pklspec/"
      ],
      "execution_count": null,
      "outputs": [
        {
          "output_type": "stream",
          "text": [
            "mkdir: cannot create directory ‘/content/drive/My Drive/pklspec/’: File exists\n"
          ],
          "name": "stdout"
        }
      ]
    },
    {
      "cell_type": "code",
      "metadata": {
        "id": "QqwLtws9-SR0"
      },
      "source": [
        "# !mv pickles /content/drive/My\\ Drive/pklspec/"
      ],
      "execution_count": null,
      "outputs": []
    },
    {
      "cell_type": "code",
      "metadata": {
        "id": "1lDBhP-L9428",
        "colab": {
          "base_uri": "https://localhost:8080/",
          "height": 1000
        },
        "outputId": "21217c0c-ae18-47b2-dc4d-71a0b03c33e2"
      },
      "source": [
        "results = model.fit(x,y,epochs=50, batch_size=32,\n",
        "          shuffle=True, validation_split=0.2, verbose=1,callbacks=[best_model])"
      ],
      "execution_count": null,
      "outputs": [
        {
          "output_type": "stream",
          "text": [
            "Epoch 1/50\n",
            "15259/15259 [==============================] - ETA: 0s - loss: 0.5190 - accuracy: 0.7796\n",
            "Epoch 00001: val_accuracy improved from -inf to 0.83767, saving model to best.h5\n",
            "15259/15259 [==============================] - 73s 5ms/step - loss: 0.5190 - accuracy: 0.7796 - val_loss: 0.3931 - val_accuracy: 0.8377\n",
            "Epoch 2/50\n",
            "15253/15259 [============================>.] - ETA: 0s - loss: 0.3820 - accuracy: 0.8457\n",
            "Epoch 00002: val_accuracy improved from 0.83767 to 0.87911, saving model to best.h5\n",
            "15259/15259 [==============================] - 73s 5ms/step - loss: 0.3820 - accuracy: 0.8457 - val_loss: 0.3104 - val_accuracy: 0.8791\n",
            "Epoch 3/50\n",
            "15259/15259 [==============================] - ETA: 0s - loss: 0.3318 - accuracy: 0.8687\n",
            "Epoch 00003: val_accuracy improved from 0.87911 to 0.89252, saving model to best.h5\n",
            "15259/15259 [==============================] - 73s 5ms/step - loss: 0.3318 - accuracy: 0.8687 - val_loss: 0.2806 - val_accuracy: 0.8925\n",
            "Epoch 4/50\n",
            "15251/15259 [============================>.] - ETA: 0s - loss: 0.3004 - accuracy: 0.8825\n",
            "Epoch 00004: val_accuracy improved from 0.89252 to 0.90240, saving model to best.h5\n",
            "15259/15259 [==============================] - 75s 5ms/step - loss: 0.3004 - accuracy: 0.8825 - val_loss: 0.2552 - val_accuracy: 0.9024\n",
            "Epoch 5/50\n",
            "15250/15259 [============================>.] - ETA: 0s - loss: 0.2787 - accuracy: 0.8924\n",
            "Epoch 00005: val_accuracy improved from 0.90240 to 0.91360, saving model to best.h5\n",
            "15259/15259 [==============================] - 75s 5ms/step - loss: 0.2787 - accuracy: 0.8924 - val_loss: 0.2275 - val_accuracy: 0.9136\n",
            "Epoch 6/50\n",
            "15249/15259 [============================>.] - ETA: 0s - loss: 0.2642 - accuracy: 0.8986\n",
            "Epoch 00006: val_accuracy improved from 0.91360 to 0.91804, saving model to best.h5\n",
            "15259/15259 [==============================] - 75s 5ms/step - loss: 0.2642 - accuracy: 0.8986 - val_loss: 0.2182 - val_accuracy: 0.9180\n",
            "Epoch 7/50\n",
            "15257/15259 [============================>.] - ETA: 0s - loss: 0.2528 - accuracy: 0.9031\n",
            "Epoch 00007: val_accuracy improved from 0.91804 to 0.92198, saving model to best.h5\n",
            "15259/15259 [==============================] - 73s 5ms/step - loss: 0.2528 - accuracy: 0.9031 - val_loss: 0.2094 - val_accuracy: 0.9220\n",
            "Epoch 8/50\n",
            "15257/15259 [============================>.] - ETA: 0s - loss: 0.2442 - accuracy: 0.9073\n",
            "Epoch 00008: val_accuracy improved from 0.92198 to 0.92676, saving model to best.h5\n",
            "15259/15259 [==============================] - 71s 5ms/step - loss: 0.2442 - accuracy: 0.9073 - val_loss: 0.1993 - val_accuracy: 0.9268\n",
            "Epoch 9/50\n",
            "15255/15259 [============================>.] - ETA: 0s - loss: 0.2352 - accuracy: 0.9109\n",
            "Epoch 00009: val_accuracy did not improve from 0.92676\n",
            "15259/15259 [==============================] - 70s 5ms/step - loss: 0.2352 - accuracy: 0.9109 - val_loss: 0.2037 - val_accuracy: 0.9243\n",
            "Epoch 10/50\n",
            "15253/15259 [============================>.] - ETA: 0s - loss: 0.2280 - accuracy: 0.9138\n",
            "Epoch 00010: val_accuracy did not improve from 0.92676\n",
            "15259/15259 [==============================] - 70s 5ms/step - loss: 0.2279 - accuracy: 0.9138 - val_loss: 0.2087 - val_accuracy: 0.9223\n",
            "Epoch 11/50\n",
            "15248/15259 [============================>.] - ETA: 0s - loss: 0.2217 - accuracy: 0.9164\n",
            "Epoch 00011: val_accuracy improved from 0.92676 to 0.93376, saving model to best.h5\n",
            "15259/15259 [==============================] - 71s 5ms/step - loss: 0.2217 - accuracy: 0.9164 - val_loss: 0.1816 - val_accuracy: 0.9338\n",
            "Epoch 12/50\n",
            "15254/15259 [============================>.] - ETA: 0s - loss: 0.2178 - accuracy: 0.9179\n",
            "Epoch 00012: val_accuracy improved from 0.93376 to 0.93422, saving model to best.h5\n",
            "15259/15259 [==============================] - 70s 5ms/step - loss: 0.2178 - accuracy: 0.9179 - val_loss: 0.1807 - val_accuracy: 0.9342\n",
            "Epoch 13/50\n",
            "15254/15259 [============================>.] - ETA: 0s - loss: 0.2133 - accuracy: 0.9197\n",
            "Epoch 00013: val_accuracy improved from 0.93422 to 0.93830, saving model to best.h5\n",
            "15259/15259 [==============================] - 70s 5ms/step - loss: 0.2133 - accuracy: 0.9197 - val_loss: 0.1696 - val_accuracy: 0.9383\n",
            "Epoch 14/50\n",
            "15254/15259 [============================>.] - ETA: 0s - loss: 0.2105 - accuracy: 0.9210\n",
            "Epoch 00014: val_accuracy did not improve from 0.93830\n",
            "15259/15259 [==============================] - 70s 5ms/step - loss: 0.2105 - accuracy: 0.9210 - val_loss: 0.1771 - val_accuracy: 0.9354\n",
            "Epoch 15/50\n",
            "15258/15259 [============================>.] - ETA: 0s - loss: 0.2054 - accuracy: 0.9231\n",
            "Epoch 00015: val_accuracy improved from 0.93830 to 0.93909, saving model to best.h5\n",
            "15259/15259 [==============================] - 71s 5ms/step - loss: 0.2054 - accuracy: 0.9231 - val_loss: 0.1694 - val_accuracy: 0.9391\n",
            "Epoch 16/50\n",
            "15253/15259 [============================>.] - ETA: 0s - loss: 0.2031 - accuracy: 0.9246\n",
            "Epoch 00016: val_accuracy improved from 0.93909 to 0.93945, saving model to best.h5\n",
            "15259/15259 [==============================] - 70s 5ms/step - loss: 0.2031 - accuracy: 0.9246 - val_loss: 0.1675 - val_accuracy: 0.9395\n",
            "Epoch 17/50\n",
            "15251/15259 [============================>.] - ETA: 0s - loss: 0.1996 - accuracy: 0.9256\n",
            "Epoch 00017: val_accuracy did not improve from 0.93945\n",
            "15259/15259 [==============================] - 70s 5ms/step - loss: 0.1996 - accuracy: 0.9256 - val_loss: 0.1686 - val_accuracy: 0.9388\n",
            "Epoch 18/50\n",
            "15251/15259 [============================>.] - ETA: 0s - loss: 0.1960 - accuracy: 0.9268\n",
            "Epoch 00018: val_accuracy improved from 0.93945 to 0.94364, saving model to best.h5\n",
            "15259/15259 [==============================] - 70s 5ms/step - loss: 0.1960 - accuracy: 0.9268 - val_loss: 0.1559 - val_accuracy: 0.9436\n",
            "Epoch 19/50\n",
            "15259/15259 [==============================] - ETA: 0s - loss: 0.1951 - accuracy: 0.9276\n",
            "Epoch 00019: val_accuracy did not improve from 0.94364\n",
            "15259/15259 [==============================] - 70s 5ms/step - loss: 0.1951 - accuracy: 0.9276 - val_loss: 0.2748 - val_accuracy: 0.8980\n",
            "Epoch 20/50\n",
            "15248/15259 [============================>.] - ETA: 0s - loss: 0.1913 - accuracy: 0.9290\n",
            "Epoch 00020: val_accuracy did not improve from 0.94364\n",
            "15259/15259 [==============================] - 71s 5ms/step - loss: 0.1913 - accuracy: 0.9290 - val_loss: 0.1578 - val_accuracy: 0.9435\n",
            "Epoch 21/50\n",
            "15259/15259 [==============================] - ETA: 0s - loss: 0.1897 - accuracy: 0.9298\n",
            "Epoch 00021: val_accuracy did not improve from 0.94364\n",
            "15259/15259 [==============================] - 70s 5ms/step - loss: 0.1897 - accuracy: 0.9298 - val_loss: 0.1590 - val_accuracy: 0.9424\n",
            "Epoch 22/50\n",
            "15258/15259 [============================>.] - ETA: 0s - loss: 0.1866 - accuracy: 0.9309\n",
            "Epoch 00022: val_accuracy did not improve from 0.94364\n",
            "15259/15259 [==============================] - 70s 5ms/step - loss: 0.1866 - accuracy: 0.9309 - val_loss: 0.1627 - val_accuracy: 0.9408\n",
            "Epoch 23/50\n",
            "15258/15259 [============================>.] - ETA: 0s - loss: 0.1853 - accuracy: 0.9317\n",
            "Epoch 00023: val_accuracy did not improve from 0.94364\n",
            "15259/15259 [==============================] - 70s 5ms/step - loss: 0.1853 - accuracy: 0.9317 - val_loss: 0.1589 - val_accuracy: 0.9431\n",
            "Epoch 24/50\n",
            "15259/15259 [==============================] - ETA: 0s - loss: 0.1825 - accuracy: 0.9328\n",
            "Epoch 00024: val_accuracy improved from 0.94364 to 0.94475, saving model to best.h5\n",
            "15259/15259 [==============================] - 71s 5ms/step - loss: 0.1825 - accuracy: 0.9328 - val_loss: 0.1543 - val_accuracy: 0.9448\n",
            "Epoch 25/50\n",
            "15247/15259 [============================>.] - ETA: 0s - loss: 0.1820 - accuracy: 0.9328\n",
            "Epoch 00025: val_accuracy improved from 0.94475 to 0.94832, saving model to best.h5\n",
            "15259/15259 [==============================] - 70s 5ms/step - loss: 0.1820 - accuracy: 0.9328 - val_loss: 0.1459 - val_accuracy: 0.9483\n",
            "Epoch 26/50\n",
            "15249/15259 [============================>.] - ETA: 0s - loss: 0.1795 - accuracy: 0.9340\n",
            "Epoch 00026: val_accuracy did not improve from 0.94832\n",
            "15259/15259 [==============================] - 70s 5ms/step - loss: 0.1796 - accuracy: 0.9340 - val_loss: 0.1527 - val_accuracy: 0.9458\n",
            "Epoch 27/50\n",
            "15258/15259 [============================>.] - ETA: 0s - loss: 0.1780 - accuracy: 0.9346\n",
            "Epoch 00027: val_accuracy did not improve from 0.94832\n",
            "15259/15259 [==============================] - 70s 5ms/step - loss: 0.1780 - accuracy: 0.9346 - val_loss: 0.1564 - val_accuracy: 0.9443\n",
            "Epoch 28/50\n",
            "15258/15259 [============================>.] - ETA: 0s - loss: 0.1755 - accuracy: 0.9356\n",
            "Epoch 00028: val_accuracy did not improve from 0.94832\n",
            "15259/15259 [==============================] - 71s 5ms/step - loss: 0.1755 - accuracy: 0.9356 - val_loss: 0.1459 - val_accuracy: 0.9474\n",
            "Epoch 29/50\n",
            "15248/15259 [============================>.] - ETA: 0s - loss: 0.1757 - accuracy: 0.9352\n",
            "Epoch 00029: val_accuracy did not improve from 0.94832\n",
            "15259/15259 [==============================] - 70s 5ms/step - loss: 0.1757 - accuracy: 0.9352 - val_loss: 0.1497 - val_accuracy: 0.9473\n",
            "Epoch 30/50\n",
            "15256/15259 [============================>.] - ETA: 0s - loss: 0.1740 - accuracy: 0.9362\n",
            "Epoch 00030: val_accuracy did not improve from 0.94832\n",
            "15259/15259 [==============================] - 70s 5ms/step - loss: 0.1740 - accuracy: 0.9362 - val_loss: 0.1451 - val_accuracy: 0.9480\n",
            "Epoch 31/50\n",
            "15254/15259 [============================>.] - ETA: 0s - loss: 0.1732 - accuracy: 0.9367\n",
            "Epoch 00031: val_accuracy did not improve from 0.94832\n",
            "15259/15259 [==============================] - 70s 5ms/step - loss: 0.1732 - accuracy: 0.9367 - val_loss: 0.1608 - val_accuracy: 0.9425\n",
            "Epoch 32/50\n",
            "15249/15259 [============================>.] - ETA: 0s - loss: 0.1714 - accuracy: 0.9373\n",
            "Epoch 00032: val_accuracy did not improve from 0.94832\n",
            "15259/15259 [==============================] - 70s 5ms/step - loss: 0.1714 - accuracy: 0.9373 - val_loss: 0.1574 - val_accuracy: 0.9444\n",
            "Epoch 33/50\n",
            "15253/15259 [============================>.] - ETA: 0s - loss: 0.1699 - accuracy: 0.9380\n",
            "Epoch 00033: val_accuracy improved from 0.94832 to 0.94899, saving model to best.h5\n",
            "15259/15259 [==============================] - 71s 5ms/step - loss: 0.1699 - accuracy: 0.9380 - val_loss: 0.1435 - val_accuracy: 0.9490\n",
            "Epoch 34/50\n",
            "15258/15259 [============================>.] - ETA: 0s - loss: 0.1689 - accuracy: 0.9381\n",
            "Epoch 00034: val_accuracy did not improve from 0.94899\n",
            "15259/15259 [==============================] - 70s 5ms/step - loss: 0.1689 - accuracy: 0.9381 - val_loss: 0.1472 - val_accuracy: 0.9478\n",
            "Epoch 35/50\n",
            "15251/15259 [============================>.] - ETA: 0s - loss: 0.1678 - accuracy: 0.9388\n",
            "Epoch 00035: val_accuracy did not improve from 0.94899\n",
            "15259/15259 [==============================] - 70s 5ms/step - loss: 0.1679 - accuracy: 0.9388 - val_loss: 0.1493 - val_accuracy: 0.9475\n",
            "Epoch 36/50\n",
            "15256/15259 [============================>.] - ETA: 0s - loss: 0.1667 - accuracy: 0.9395\n",
            "Epoch 00036: val_accuracy did not improve from 0.94899\n",
            "15259/15259 [==============================] - 70s 5ms/step - loss: 0.1667 - accuracy: 0.9395 - val_loss: 0.1468 - val_accuracy: 0.9486\n",
            "Epoch 37/50\n",
            "15254/15259 [============================>.] - ETA: 0s - loss: 0.1664 - accuracy: 0.9394\n",
            "Epoch 00037: val_accuracy did not improve from 0.94899\n",
            "15259/15259 [==============================] - 71s 5ms/step - loss: 0.1664 - accuracy: 0.9394 - val_loss: 0.1479 - val_accuracy: 0.9477\n",
            "Epoch 38/50\n",
            "15256/15259 [============================>.] - ETA: 0s - loss: 0.1653 - accuracy: 0.9397\n",
            "Epoch 00038: val_accuracy did not improve from 0.94899\n",
            "15259/15259 [==============================] - 70s 5ms/step - loss: 0.1653 - accuracy: 0.9397 - val_loss: 0.1449 - val_accuracy: 0.9489\n",
            "Epoch 39/50\n",
            "15249/15259 [============================>.] - ETA: 0s - loss: 0.1650 - accuracy: 0.9401\n",
            "Epoch 00039: val_accuracy improved from 0.94899 to 0.95370, saving model to best.h5\n",
            "15259/15259 [==============================] - 70s 5ms/step - loss: 0.1649 - accuracy: 0.9401 - val_loss: 0.1330 - val_accuracy: 0.9537\n",
            "Epoch 40/50\n",
            "15250/15259 [============================>.] - ETA: 0s - loss: 0.1639 - accuracy: 0.9405\n",
            "Epoch 00040: val_accuracy did not improve from 0.95370\n",
            "15259/15259 [==============================] - 70s 5ms/step - loss: 0.1639 - accuracy: 0.9404 - val_loss: 0.1431 - val_accuracy: 0.9504\n",
            "Epoch 41/50\n",
            "15247/15259 [============================>.] - ETA: 0s - loss: 0.1638 - accuracy: 0.9404\n",
            "Epoch 00041: val_accuracy improved from 0.95370 to 0.95407, saving model to best.h5\n",
            "15259/15259 [==============================] - 70s 5ms/step - loss: 0.1638 - accuracy: 0.9404 - val_loss: 0.1307 - val_accuracy: 0.9541\n",
            "Epoch 42/50\n",
            "15253/15259 [============================>.] - ETA: 0s - loss: 0.1618 - accuracy: 0.9412\n",
            "Epoch 00042: val_accuracy did not improve from 0.95407\n",
            "15259/15259 [==============================] - 70s 5ms/step - loss: 0.1618 - accuracy: 0.9412 - val_loss: 0.1321 - val_accuracy: 0.9531\n",
            "Epoch 43/50\n",
            "15256/15259 [============================>.] - ETA: 0s - loss: 0.1607 - accuracy: 0.9415\n",
            "Epoch 00043: val_accuracy improved from 0.95407 to 0.95470, saving model to best.h5\n",
            "15259/15259 [==============================] - 71s 5ms/step - loss: 0.1607 - accuracy: 0.9415 - val_loss: 0.1313 - val_accuracy: 0.9547\n",
            "Epoch 44/50\n",
            "15258/15259 [============================>.] - ETA: 0s - loss: 0.1603 - accuracy: 0.9413\n",
            "Epoch 00044: val_accuracy did not improve from 0.95470\n",
            "15259/15259 [==============================] - 70s 5ms/step - loss: 0.1603 - accuracy: 0.9413 - val_loss: 0.1449 - val_accuracy: 0.9494\n",
            "Epoch 45/50\n",
            "15253/15259 [============================>.] - ETA: 0s - loss: 0.1596 - accuracy: 0.9421\n",
            "Epoch 00045: val_accuracy did not improve from 0.95470\n",
            "15259/15259 [==============================] - 71s 5ms/step - loss: 0.1596 - accuracy: 0.9421 - val_loss: 0.1319 - val_accuracy: 0.9534\n",
            "Epoch 46/50\n",
            "15254/15259 [============================>.] - ETA: 0s - loss: 0.1596 - accuracy: 0.9423\n",
            "Epoch 00046: val_accuracy did not improve from 0.95470\n",
            "15259/15259 [==============================] - 71s 5ms/step - loss: 0.1596 - accuracy: 0.9423 - val_loss: 0.1362 - val_accuracy: 0.9530\n",
            "Epoch 47/50\n",
            "15248/15259 [============================>.] - ETA: 0s - loss: 0.1580 - accuracy: 0.9427\n",
            "Epoch 00047: val_accuracy did not improve from 0.95470\n",
            "15259/15259 [==============================] - 70s 5ms/step - loss: 0.1580 - accuracy: 0.9427 - val_loss: 0.1372 - val_accuracy: 0.9537\n",
            "Epoch 48/50\n",
            "15255/15259 [============================>.] - ETA: 0s - loss: 0.1571 - accuracy: 0.9429\n",
            "Epoch 00048: val_accuracy did not improve from 0.95470\n",
            "15259/15259 [==============================] - 70s 5ms/step - loss: 0.1571 - accuracy: 0.9429 - val_loss: 0.1387 - val_accuracy: 0.9514\n",
            "Epoch 49/50\n",
            " 9809/15259 [==================>...........] - ETA: 21s - loss: 0.1548 - accuracy: 0.9439Buffered data was truncated after reaching the output size limit."
          ],
          "name": "stdout"
        }
      ]
    },
    {
      "cell_type": "code",
      "metadata": {
        "id": "9RSdIJW1tdnH",
        "colab": {
          "base_uri": "https://localhost:8080/",
          "height": 621
        },
        "outputId": "6eaec181-fa4f-46a0-b27d-6d56b86b1457"
      },
      "source": [
        "import matplotlib.pyplot as plt\n",
        "plt.rcParams[\"figure.figsize\"] = (15,10)\n",
        "plt.plot(results.history['accuracy'])\n",
        "plt.plot(results.history['val_accuracy'])\n",
        "plt.title('model accuracy')\n",
        "plt.ylabel('accuracy')\n",
        "plt.xlabel('epoch')\n",
        "plt.legend(['train', 'test'], loc='upper left')\n",
        "plt.show()"
      ],
      "execution_count": null,
      "outputs": [
        {
          "output_type": "display_data",
          "data": {
            "image/png": "[encoded data removed]",
            "text/plain": [
              "<Figure size 1080x720 with 1 Axes>"
            ]
          },
          "metadata": {
            "tags": [],
            "needs_background": "light"
          }
        }
      ]
    },
    {
      "cell_type": "code",
      "metadata": {
        "id": "OsdnO_U2tnH0",
        "colab": {
          "base_uri": "https://localhost:8080/",
          "height": 621
        },
        "outputId": "67130ef0-30e4-41b1-986b-2d912cbe22f6"
      },
      "source": [
        "# summarize history for loss\n",
        "plt.plot(results.history['loss'])\n",
        "plt.plot(results.history['val_loss'])\n",
        "plt.title('model loss')\n",
        "plt.ylabel('loss')\n",
        "plt.xlabel('epoch')\n",
        "plt.legend(['train', 'test'], loc='upper left')\n",
        "plt.show()"
      ],
      "execution_count": null,
      "outputs": [
        {
          "output_type": "display_data",
          "data": {
            "image/png": "[encoded data removed]",
            "text/plain": [
              "<Figure size 1080x720 with 1 Axes>"
            ]
          },
          "metadata": {
            "tags": [],
            "needs_background": "light"
          }
        }
      ]
    },
    {
      "cell_type": "code",
      "metadata": {
        "id": "AOMxe4WlsMEs"
      },
      "source": [
        "from keras.models import load_model"
      ],
      "execution_count": null,
      "outputs": []
    },
    {
      "cell_type": "code",
      "metadata": {
        "id": "Ayn5lUueru9b",
        "colab": {
          "base_uri": "https://localhost:8080/",
          "height": 50
        },
        "outputId": "86047de5-d8df-4f9d-d770-5099f405d4d9"
      },
      "source": [
        "model=load_model(\"best.h5\")\n",
        "print(model.evaluate(x,y))"
      ],
      "execution_count": null,
      "outputs": [
        {
          "output_type": "stream",
          "text": [
            "19073/19073 [==============================] - 49s 3ms/step - loss: 0.0934 - accuracy: 0.9680\n",
            "[0.09337371587753296, 0.9679596424102783]\n"
          ],
          "name": "stdout"
        }
      ]
    },
    {
      "cell_type": "code",
      "metadata": {
        "id": "e6Z05IDqrNim"
      },
      "source": [
        "!cp -r best.h5 /content/drive/My\\ Drive/pklspec/"
      ],
      "execution_count": null,
      "outputs": []
    },
    {
      "cell_type": "markdown",
      "metadata": {
        "id": "RBS6ZaGWqVxX"
      },
      "source": [
        "#Model 2\n"
      ]
    },
    {
      "cell_type": "code",
      "metadata": {
        "id": "u_yRvR1yZxYz"
      },
      "source": [
        "num_classes = 3\n",
        "\n",
        "model2 = Sequential()\n",
        "model2.add(Conv2D(64, (3,3), activation='relu', strides=(1,1),\n",
        "                   padding='same',input_shape=input_shape))\n",
        "model2.add(Conv2D(32, (3,3), activation='relu', strides=(1,1),\n",
        "                   padding='same'))\n",
        "model2.add(Activation('relu'))\n",
        "model2.add(MaxPooling2D(pool_size=(2, 2)))\n",
        "model2.add(Dropout(0.7))\n",
        "model2.add(Flatten())\n",
        "model2.add(Dense(1000))\n",
        "model2.add(Activation('relu'))\n",
        "model2.add(Dropout(0.7))\n",
        "model2.add(Dense(num_classes, activation='softmax'))\n",
        "\n",
        "\n",
        "model2.compile(optimizer=keras.optimizers.Adam(lr=0.0003, beta_1=0.9, beta_2=0.999, epsilon=None, decay=1e-8, amsgrad=False),\n",
        "              loss='categorical_crossentropy',\n",
        "              metrics=['accuracy'])"
      ],
      "execution_count": null,
      "outputs": []
    },
    {
      "cell_type": "code",
      "metadata": {
        "id": "Zf9jOwX79BxT",
        "colab": {
          "base_uri": "https://localhost:8080/",
          "height": 487
        },
        "outputId": "2c12f627-7747-466c-9049-81a126afa007"
      },
      "source": [
        "model2.summary()"
      ],
      "execution_count": null,
      "outputs": [
        {
          "output_type": "stream",
          "text": [
            "Model: \"sequential_6\"\n",
            "_________________________________________________________________\n",
            "Layer (type)                 Output Shape              Param #   \n",
            "=================================================================\n",
            "conv2d_14 (Conv2D)           (None, 9, 13, 64)         640       \n",
            "_________________________________________________________________\n",
            "conv2d_15 (Conv2D)           (None, 9, 13, 32)         18464     \n",
            "_________________________________________________________________\n",
            "activation_7 (Activation)    (None, 9, 13, 32)         0         \n",
            "_________________________________________________________________\n",
            "max_pooling2d_6 (MaxPooling2 (None, 4, 6, 32)          0         \n",
            "_________________________________________________________________\n",
            "dropout_5 (Dropout)          (None, 4, 6, 32)          0         \n",
            "_________________________________________________________________\n",
            "flatten_3 (Flatten)          (None, 768)               0         \n",
            "_________________________________________________________________\n",
            "dense_7 (Dense)              (None, 1000)              769000    \n",
            "_________________________________________________________________\n",
            "activation_8 (Activation)    (None, 1000)              0         \n",
            "_________________________________________________________________\n",
            "dropout_6 (Dropout)          (None, 1000)              0         \n",
            "_________________________________________________________________\n",
            "dense_8 (Dense)              (None, 3)                 3003      \n",
            "=================================================================\n",
            "Total params: 791,107\n",
            "Trainable params: 791,107\n",
            "Non-trainable params: 0\n",
            "_________________________________________________________________\n"
          ],
          "name": "stdout"
        }
      ]
    },
    {
      "cell_type": "code",
      "metadata": {
        "id": "3TDb4R_IqwPS"
      },
      "source": [
        "best_model2_file = \"best2.h5\"\n",
        "best_model2 = ModelCheckpoint(best_model2_file, monitor='val_accuracy', verbose=1, save_best_only=True)"
      ],
      "execution_count": null,
      "outputs": []
    },
    {
      "cell_type": "code",
      "metadata": {
        "id": "rq6fJnLsq5kZ",
        "colab": {
          "base_uri": "https://localhost:8080/",
          "height": 1000
        },
        "outputId": "1f114f28-6685-4c2e-e5e0-679a75600d8a"
      },
      "source": [
        "results2 = model2.fit(x,y,epochs=50, batch_size=32,\n",
        "          shuffle=True, validation_split=0.2, verbose=1,callbacks=[best_model2])"
      ],
      "execution_count": null,
      "outputs": [
        {
          "output_type": "stream",
          "text": [
            "Epoch 1/50\n",
            "15248/15259 [============================>.] - ETA: 0s - loss: 0.6827 - accuracy: 0.6988\n",
            "Epoch 00001: val_accuracy improved from -inf to 0.75257, saving model to best2.h5\n",
            "15259/15259 [==============================] - 54s 4ms/step - loss: 0.6826 - accuracy: 0.6989 - val_loss: 0.5858 - val_accuracy: 0.7526\n",
            "Epoch 2/50\n",
            "15253/15259 [============================>.] - ETA: 0s - loss: 0.6161 - accuracy: 0.7344\n",
            "Epoch 00002: val_accuracy improved from 0.75257 to 0.77620, saving model to best2.h5\n",
            "15259/15259 [==============================] - 55s 4ms/step - loss: 0.6161 - accuracy: 0.7344 - val_loss: 0.5426 - val_accuracy: 0.7762\n",
            "Epoch 3/50\n",
            "15259/15259 [==============================] - ETA: 0s - loss: 0.5875 - accuracy: 0.7490\n",
            "Epoch 00003: val_accuracy improved from 0.77620 to 0.79063, saving model to best2.h5\n",
            "15259/15259 [==============================] - 55s 4ms/step - loss: 0.5875 - accuracy: 0.7490 - val_loss: 0.5170 - val_accuracy: 0.7906\n",
            "Epoch 4/50\n",
            "15247/15259 [============================>.] - ETA: 0s - loss: 0.5688 - accuracy: 0.7578\n",
            "Epoch 00004: val_accuracy improved from 0.79063 to 0.79983, saving model to best2.h5\n",
            "15259/15259 [==============================] - 54s 4ms/step - loss: 0.5688 - accuracy: 0.7578 - val_loss: 0.4956 - val_accuracy: 0.7998\n",
            "Epoch 5/50\n",
            "15258/15259 [============================>.] - ETA: 0s - loss: 0.5541 - accuracy: 0.7650\n",
            "Epoch 00005: val_accuracy improved from 0.79983 to 0.80312, saving model to best2.h5\n",
            "15259/15259 [==============================] - 55s 4ms/step - loss: 0.5541 - accuracy: 0.7650 - val_loss: 0.4912 - val_accuracy: 0.8031\n",
            "Epoch 6/50\n",
            "15246/15259 [============================>.] - ETA: 0s - loss: 0.5430 - accuracy: 0.7710\n",
            "Epoch 00006: val_accuracy improved from 0.80312 to 0.82156, saving model to best2.h5\n",
            "15259/15259 [==============================] - 55s 4ms/step - loss: 0.5429 - accuracy: 0.7710 - val_loss: 0.4614 - val_accuracy: 0.8216\n",
            "Epoch 7/50\n",
            "15249/15259 [============================>.] - ETA: 0s - loss: 0.5337 - accuracy: 0.7759\n",
            "Epoch 00007: val_accuracy improved from 0.82156 to 0.82667, saving model to best2.h5\n",
            "15259/15259 [==============================] - 55s 4ms/step - loss: 0.5337 - accuracy: 0.7758 - val_loss: 0.4509 - val_accuracy: 0.8267\n",
            "Epoch 8/50\n",
            "15245/15259 [============================>.] - ETA: 0s - loss: 0.5260 - accuracy: 0.7796\n",
            "Epoch 00008: val_accuracy improved from 0.82667 to 0.82780, saving model to best2.h5\n",
            "15259/15259 [==============================] - 56s 4ms/step - loss: 0.5261 - accuracy: 0.7796 - val_loss: 0.4430 - val_accuracy: 0.8278\n",
            "Epoch 9/50\n",
            "15250/15259 [============================>.] - ETA: 0s - loss: 0.5192 - accuracy: 0.7831\n",
            "Epoch 00009: val_accuracy improved from 0.82780 to 0.83506, saving model to best2.h5\n",
            "15259/15259 [==============================] - 55s 4ms/step - loss: 0.5192 - accuracy: 0.7831 - val_loss: 0.4401 - val_accuracy: 0.8351\n",
            "Epoch 10/50\n",
            "15255/15259 [============================>.] - ETA: 0s - loss: 0.5143 - accuracy: 0.7860\n",
            "Epoch 00010: val_accuracy did not improve from 0.83506\n",
            "15259/15259 [==============================] - 54s 4ms/step - loss: 0.5143 - accuracy: 0.7860 - val_loss: 0.4396 - val_accuracy: 0.8304\n",
            "Epoch 11/50\n",
            "15256/15259 [============================>.] - ETA: 0s - loss: 0.5082 - accuracy: 0.7892\n",
            "Epoch 00011: val_accuracy improved from 0.83506 to 0.84294, saving model to best2.h5\n",
            "15259/15259 [==============================] - 55s 4ms/step - loss: 0.5082 - accuracy: 0.7892 - val_loss: 0.4202 - val_accuracy: 0.8429\n",
            "Epoch 12/50\n",
            "15245/15259 [============================>.] - ETA: 0s - loss: 0.5041 - accuracy: 0.7908\n",
            "Epoch 00012: val_accuracy improved from 0.84294 to 0.84312, saving model to best2.h5\n",
            "15259/15259 [==============================] - 55s 4ms/step - loss: 0.5041 - accuracy: 0.7908 - val_loss: 0.4201 - val_accuracy: 0.8431\n",
            "Epoch 13/50\n",
            "15258/15259 [============================>.] - ETA: 0s - loss: 0.5002 - accuracy: 0.7935\n",
            "Epoch 00013: val_accuracy did not improve from 0.84312\n",
            "15259/15259 [==============================] - 56s 4ms/step - loss: 0.5002 - accuracy: 0.7935 - val_loss: 0.4205 - val_accuracy: 0.8431\n",
            "Epoch 14/50\n",
            "15254/15259 [============================>.] - ETA: 0s - loss: 0.4952 - accuracy: 0.7954\n",
            "Epoch 00014: val_accuracy did not improve from 0.84312\n",
            "15259/15259 [==============================] - 54s 4ms/step - loss: 0.4952 - accuracy: 0.7954 - val_loss: 0.4229 - val_accuracy: 0.8403\n",
            "Epoch 15/50\n",
            "15245/15259 [============================>.] - ETA: 0s - loss: 0.4933 - accuracy: 0.7965\n",
            "Epoch 00015: val_accuracy improved from 0.84312 to 0.85446, saving model to best2.h5\n",
            "15259/15259 [==============================] - 54s 4ms/step - loss: 0.4933 - accuracy: 0.7965 - val_loss: 0.3969 - val_accuracy: 0.8545\n",
            "Epoch 16/50\n",
            "15249/15259 [============================>.] - ETA: 0s - loss: 0.4906 - accuracy: 0.7976\n",
            "Epoch 00016: val_accuracy did not improve from 0.85446\n",
            "15259/15259 [==============================] - 56s 4ms/step - loss: 0.4906 - accuracy: 0.7976 - val_loss: 0.3979 - val_accuracy: 0.8516\n",
            "Epoch 17/50\n",
            "15250/15259 [============================>.] - ETA: 0s - loss: 0.4868 - accuracy: 0.8005\n",
            "Epoch 00017: val_accuracy did not improve from 0.85446\n",
            "15259/15259 [==============================] - 55s 4ms/step - loss: 0.4868 - accuracy: 0.8005 - val_loss: 0.4164 - val_accuracy: 0.8524\n",
            "Epoch 18/50\n",
            "15259/15259 [==============================] - ETA: 0s - loss: 0.4846 - accuracy: 0.8018\n",
            "Epoch 00018: val_accuracy did not improve from 0.85446\n",
            "15259/15259 [==============================] - 55s 4ms/step - loss: 0.4846 - accuracy: 0.8018 - val_loss: 0.3992 - val_accuracy: 0.8542\n",
            "Epoch 19/50\n",
            "15256/15259 [============================>.] - ETA: 0s - loss: 0.4815 - accuracy: 0.8031\n",
            "Epoch 00019: val_accuracy improved from 0.85446 to 0.86302, saving model to best2.h5\n",
            "15259/15259 [==============================] - 56s 4ms/step - loss: 0.4815 - accuracy: 0.8031 - val_loss: 0.3897 - val_accuracy: 0.8630\n",
            "Epoch 20/50\n",
            "15253/15259 [============================>.] - ETA: 0s - loss: 0.4789 - accuracy: 0.8041\n",
            "Epoch 00020: val_accuracy did not improve from 0.86302\n",
            "15259/15259 [==============================] - 55s 4ms/step - loss: 0.4789 - accuracy: 0.8040 - val_loss: 0.3941 - val_accuracy: 0.8593\n",
            "Epoch 21/50\n",
            "15243/15259 [============================>.] - ETA: 0s - loss: 0.4764 - accuracy: 0.8058\n",
            "Epoch 00021: val_accuracy improved from 0.86302 to 0.86725, saving model to best2.h5\n",
            "15259/15259 [==============================] - 55s 4ms/step - loss: 0.4764 - accuracy: 0.8057 - val_loss: 0.3809 - val_accuracy: 0.8673\n",
            "Epoch 22/50\n",
            "15258/15259 [============================>.] - ETA: 0s - loss: 0.4743 - accuracy: 0.8063\n",
            "Epoch 00022: val_accuracy did not improve from 0.86725\n",
            "15259/15259 [==============================] - 55s 4ms/step - loss: 0.4743 - accuracy: 0.8063 - val_loss: 0.3845 - val_accuracy: 0.8568\n",
            "Epoch 23/50\n",
            "15254/15259 [============================>.] - ETA: 0s - loss: 0.4726 - accuracy: 0.8073\n",
            "Epoch 00023: val_accuracy did not improve from 0.86725\n",
            "15259/15259 [==============================] - 57s 4ms/step - loss: 0.4726 - accuracy: 0.8073 - val_loss: 0.3731 - val_accuracy: 0.8622\n",
            "Epoch 24/50\n",
            "15256/15259 [============================>.] - ETA: 0s - loss: 0.4722 - accuracy: 0.8079\n",
            "Epoch 00024: val_accuracy did not improve from 0.86725\n",
            "15259/15259 [==============================] - 56s 4ms/step - loss: 0.4722 - accuracy: 0.8079 - val_loss: 0.3812 - val_accuracy: 0.8639\n",
            "Epoch 25/50\n",
            "15249/15259 [============================>.] - ETA: 0s - loss: 0.4689 - accuracy: 0.8089\n",
            "Epoch 00025: val_accuracy did not improve from 0.86725\n",
            "15259/15259 [==============================] - 57s 4ms/step - loss: 0.4688 - accuracy: 0.8089 - val_loss: 0.3723 - val_accuracy: 0.8656\n",
            "Epoch 26/50\n",
            "15253/15259 [============================>.] - ETA: 0s - loss: 0.4675 - accuracy: 0.8101\n",
            "Epoch 00026: val_accuracy improved from 0.86725 to 0.86818, saving model to best2.h5\n",
            "15259/15259 [==============================] - 55s 4ms/step - loss: 0.4675 - accuracy: 0.8101 - val_loss: 0.3824 - val_accuracy: 0.8682\n",
            "Epoch 27/50\n",
            "15259/15259 [==============================] - ETA: 0s - loss: 0.4661 - accuracy: 0.8110\n",
            "Epoch 00027: val_accuracy improved from 0.86818 to 0.86913, saving model to best2.h5\n",
            "15259/15259 [==============================] - 55s 4ms/step - loss: 0.4661 - accuracy: 0.8110 - val_loss: 0.3689 - val_accuracy: 0.8691\n",
            "Epoch 28/50\n",
            "15245/15259 [============================>.] - ETA: 0s - loss: 0.4658 - accuracy: 0.8116\n",
            "Epoch 00028: val_accuracy did not improve from 0.86913\n",
            "15259/15259 [==============================] - 55s 4ms/step - loss: 0.4658 - accuracy: 0.8116 - val_loss: 0.3759 - val_accuracy: 0.8688\n",
            "Epoch 29/50\n",
            "15247/15259 [============================>.] - ETA: 0s - loss: 0.4633 - accuracy: 0.8118\n",
            "Epoch 00029: val_accuracy improved from 0.86913 to 0.86999, saving model to best2.h5\n",
            "15259/15259 [==============================] - 56s 4ms/step - loss: 0.4633 - accuracy: 0.8118 - val_loss: 0.3672 - val_accuracy: 0.8700\n",
            "Epoch 30/50\n",
            "15257/15259 [============================>.] - ETA: 0s - loss: 0.4624 - accuracy: 0.8128\n",
            "Epoch 00030: val_accuracy improved from 0.86999 to 0.87041, saving model to best2.h5\n",
            "15259/15259 [==============================] - 56s 4ms/step - loss: 0.4624 - accuracy: 0.8128 - val_loss: 0.3582 - val_accuracy: 0.8704\n",
            "Epoch 31/50\n",
            "15256/15259 [============================>.] - ETA: 0s - loss: 0.4594 - accuracy: 0.8139\n",
            "Epoch 00031: val_accuracy improved from 0.87041 to 0.87415, saving model to best2.h5\n",
            "15259/15259 [==============================] - 57s 4ms/step - loss: 0.4594 - accuracy: 0.8139 - val_loss: 0.3585 - val_accuracy: 0.8741\n",
            "Epoch 32/50\n",
            "15258/15259 [============================>.] - ETA: 0s - loss: 0.4602 - accuracy: 0.8139\n",
            "Epoch 00032: val_accuracy did not improve from 0.87415\n",
            "15259/15259 [==============================] - 56s 4ms/step - loss: 0.4602 - accuracy: 0.8139 - val_loss: 0.3621 - val_accuracy: 0.8723\n",
            "Epoch 33/50\n",
            "15257/15259 [============================>.] - ETA: 0s - loss: 0.4582 - accuracy: 0.8148\n",
            "Epoch 00033: val_accuracy improved from 0.87415 to 0.87722, saving model to best2.h5\n",
            "15259/15259 [==============================] - 56s 4ms/step - loss: 0.4582 - accuracy: 0.8148 - val_loss: 0.3573 - val_accuracy: 0.8772\n",
            "Epoch 34/50\n",
            "15250/15259 [============================>.] - ETA: 0s - loss: 0.4573 - accuracy: 0.8147\n",
            "Epoch 00034: val_accuracy did not improve from 0.87722\n",
            "15259/15259 [==============================] - 55s 4ms/step - loss: 0.4573 - accuracy: 0.8147 - val_loss: 0.3660 - val_accuracy: 0.8750\n",
            "Epoch 35/50\n",
            "15257/15259 [============================>.] - ETA: 0s - loss: 0.4575 - accuracy: 0.8149\n",
            "Epoch 00035: val_accuracy did not improve from 0.87722\n",
            "15259/15259 [==============================] - 55s 4ms/step - loss: 0.4575 - accuracy: 0.8149 - val_loss: 0.3615 - val_accuracy: 0.8771\n",
            "Epoch 36/50\n",
            "15246/15259 [============================>.] - ETA: 0s - loss: 0.4551 - accuracy: 0.8162\n",
            "Epoch 00036: val_accuracy did not improve from 0.87722\n",
            "15259/15259 [==============================] - 57s 4ms/step - loss: 0.4552 - accuracy: 0.8161 - val_loss: 0.3603 - val_accuracy: 0.8766\n",
            "Epoch 37/50\n",
            "15243/15259 [============================>.] - ETA: 0s - loss: 0.4555 - accuracy: 0.8165\n",
            "Epoch 00037: val_accuracy improved from 0.87722 to 0.87757, saving model to best2.h5\n",
            "15259/15259 [==============================] - 56s 4ms/step - loss: 0.4555 - accuracy: 0.8165 - val_loss: 0.3620 - val_accuracy: 0.8776\n",
            "Epoch 38/50\n",
            "15257/15259 [============================>.] - ETA: 0s - loss: 0.4542 - accuracy: 0.8173\n",
            "Epoch 00038: val_accuracy did not improve from 0.87757\n",
            "15259/15259 [==============================] - 58s 4ms/step - loss: 0.4543 - accuracy: 0.8173 - val_loss: 0.3743 - val_accuracy: 0.8692\n",
            "Epoch 39/50\n",
            "15257/15259 [============================>.] - ETA: 0s - loss: 0.4526 - accuracy: 0.8174\n",
            "Epoch 00039: val_accuracy did not improve from 0.87757\n",
            "15259/15259 [==============================] - 58s 4ms/step - loss: 0.4526 - accuracy: 0.8174 - val_loss: 0.3558 - val_accuracy: 0.8773\n",
            "Epoch 40/50\n",
            "15252/15259 [============================>.] - ETA: 0s - loss: 0.4503 - accuracy: 0.8185\n",
            "Epoch 00040: val_accuracy did not improve from 0.87757\n",
            "15259/15259 [==============================] - 59s 4ms/step - loss: 0.4504 - accuracy: 0.8185 - val_loss: 0.3599 - val_accuracy: 0.8773\n",
            "Epoch 41/50\n",
            "15254/15259 [============================>.] - ETA: 0s - loss: 0.4506 - accuracy: 0.8184\n",
            "Epoch 00041: val_accuracy did not improve from 0.87757\n",
            "15259/15259 [==============================] - 60s 4ms/step - loss: 0.4507 - accuracy: 0.8184 - val_loss: 0.3615 - val_accuracy: 0.8749\n",
            "Epoch 42/50\n",
            "15254/15259 [============================>.] - ETA: 0s - loss: 0.4507 - accuracy: 0.8182\n",
            "Epoch 00042: val_accuracy did not improve from 0.87757\n",
            "15259/15259 [==============================] - 59s 4ms/step - loss: 0.4507 - accuracy: 0.8182 - val_loss: 0.3520 - val_accuracy: 0.8768\n",
            "Epoch 43/50\n",
            "15258/15259 [============================>.] - ETA: 0s - loss: 0.4486 - accuracy: 0.8187\n",
            "Epoch 00043: val_accuracy did not improve from 0.87757\n",
            "15259/15259 [==============================] - 59s 4ms/step - loss: 0.4486 - accuracy: 0.8187 - val_loss: 0.3644 - val_accuracy: 0.8669\n",
            "Epoch 44/50\n",
            "15257/15259 [============================>.] - ETA: 0s - loss: 0.4498 - accuracy: 0.8186\n",
            "Epoch 00044: val_accuracy improved from 0.87757 to 0.87868, saving model to best2.h5\n",
            "15259/15259 [==============================] - 59s 4ms/step - loss: 0.4498 - accuracy: 0.8186 - val_loss: 0.3605 - val_accuracy: 0.8787\n",
            "Epoch 45/50\n",
            "15256/15259 [============================>.] - ETA: 0s - loss: 0.4474 - accuracy: 0.8198\n",
            "Epoch 00045: val_accuracy improved from 0.87868 to 0.88103, saving model to best2.h5\n",
            "15259/15259 [==============================] - 59s 4ms/step - loss: 0.4473 - accuracy: 0.8198 - val_loss: 0.3444 - val_accuracy: 0.8810\n",
            "Epoch 46/50\n",
            "15251/15259 [============================>.] - ETA: 0s - loss: 0.4480 - accuracy: 0.8195\n",
            "Epoch 00046: val_accuracy did not improve from 0.88103\n",
            "15259/15259 [==============================] - 58s 4ms/step - loss: 0.4480 - accuracy: 0.8194 - val_loss: 0.3511 - val_accuracy: 0.8808\n",
            "Epoch 47/50\n",
            "15257/15259 [============================>.] - ETA: 0s - loss: 0.4477 - accuracy: 0.8203\n",
            "Epoch 00047: val_accuracy improved from 0.88103 to 0.88399, saving model to best2.h5\n",
            "15259/15259 [==============================] - 58s 4ms/step - loss: 0.4477 - accuracy: 0.8203 - val_loss: 0.3481 - val_accuracy: 0.8840\n",
            "Epoch 48/50\n",
            "15244/15259 [============================>.] - ETA: 0s - loss: 0.4475 - accuracy: 0.8205\n",
            "Epoch 00048: val_accuracy did not improve from 0.88399\n",
            "15259/15259 [==============================] - 57s 4ms/step - loss: 0.4475 - accuracy: 0.8205 - val_loss: 0.3574 - val_accuracy: 0.8803\n",
            "Epoch 49/50\n",
            "15257/15259 [============================>.] - ETA: 0s - loss: 0.4463 - accuracy: 0.8205\n",
            "Epoch 00049: val_accuracy did not improve from 0.88399\n",
            "15259/15259 [==============================] - 58s 4ms/step - loss: 0.4463 - accuracy: 0.8205 - val_loss: 0.3589 - val_accuracy: 0.8739\n",
            "Epoch 50/50\n",
            "15259/15259 [==============================] - ETA: 0s - loss: 0.4447 - accuracy: 0.8216\n",
            "Epoch 00050: val_accuracy did not improve from 0.88399\n",
            "15259/15259 [==============================] - 58s 4ms/step - loss: 0.4447 - accuracy: 0.8216 - val_loss: 0.3529 - val_accuracy: 0.8813\n"
          ],
          "name": "stdout"
        }
      ]
    },
    {
      "cell_type": "code",
      "metadata": {
        "id": "CaHt6DnVH1o0",
        "colab": {
          "base_uri": "https://localhost:8080/",
          "height": 50
        },
        "outputId": "3e012d1c-9a10-4a4c-9789-6ad89a3f9f4e"
      },
      "source": [
        "print(model2.evaluate(x,y))"
      ],
      "execution_count": null,
      "outputs": [
        {
          "output_type": "stream",
          "text": [
            "19073/19073 [==============================] - 43s 2ms/step - loss: 0.3476 - accuracy: 0.8852\n",
            "[0.34762707352638245, 0.8851577043533325]\n"
          ],
          "name": "stdout"
        }
      ]
    },
    {
      "cell_type": "code",
      "metadata": {
        "id": "7xXEfXVdH4Ui",
        "colab": {
          "base_uri": "https://localhost:8080/",
          "height": 621
        },
        "outputId": "5affc9b1-dfc4-4366-c898-86fa0d964023"
      },
      "source": [
        "import matplotlib.pyplot as plt\n",
        "plt.rcParams[\"figure.figsize\"] = (15,10)\n",
        "plt.plot(results2.history['accuracy'])\n",
        "plt.plot(results2.history['val_accuracy'])\n",
        "plt.title('model accuracy')\n",
        "plt.ylabel('accuracy')\n",
        "plt.xlabel('epoch')\n",
        "plt.legend(['train', 'test'], loc='upper left')\n",
        "plt.show()"
      ],
      "execution_count": null,
      "outputs": [
        {
          "output_type": "display_data",
          "data": {
            "image/png": "[encoded data removed]",
            "text/plain": [
              "<Figure size 1080x720 with 1 Axes>"
            ]
          },
          "metadata": {
            "tags": [],
            "needs_background": "light"
          }
        }
      ]
    },
    {
      "cell_type": "code",
      "metadata": {
        "id": "zmY9PeGKH4c1",
        "colab": {
          "base_uri": "https://localhost:8080/",
          "height": 621
        },
        "outputId": "84863f3c-c1d2-487b-ed65-a9049795f16a"
      },
      "source": [
        "# summarize history for loss\n",
        "plt.plot(results2.history['loss'])\n",
        "plt.plot(results2.history['val_loss'])\n",
        "plt.title('model loss')\n",
        "plt.ylabel('loss')\n",
        "plt.xlabel('epoch')\n",
        "plt.legend(['train', 'test'], loc='upper left')\n",
        "plt.show()"
      ],
      "execution_count": null,
      "outputs": [
        {
          "output_type": "display_data",
          "data": {
            "image/png": "[encoded data removed]",
            "text/plain": [
              "<Figure size 1080x720 with 1 Axes>"
            ]
          },
          "metadata": {
            "tags": [],
            "needs_background": "light"
          }
        }
      ]
    },
    {
      "cell_type": "code",
      "metadata": {
        "id": "Q7unj6Y2KUXz"
      },
      "source": [
        "!cp -r best2.h5 /content/drive/My\\ Drive/pklspec/"
      ],
      "execution_count": null,
      "outputs": []
    }
  ]
}